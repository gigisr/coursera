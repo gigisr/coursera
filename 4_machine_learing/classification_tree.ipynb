{
 "cells": [
  {
   "cell_type": "markdown",
   "metadata": {},
   "source": [
    "<h1>Machine Learning for Data Analysis</h1>\n",
    "<i><h2>Week 1 - Decision Trees</h2></i>"
   ]
  },
  {
   "cell_type": "markdown",
   "metadata": {},
   "source": [
    "The data set I am using is the Gapminder data set. A series of observational variables that have independent sources that have been centralised into one set."
   ]
  },
  {
   "cell_type": "markdown",
   "metadata": {},
   "source": [
    "I am investigating the association between incomeperperson and armedforcesrate. The association, or hypothesis, I am expecting is for higher incomeperperson there will be a lower armedforcesrate. So my coefficient to my explanetory variable should be less than 0. I will also be looking at the type of government, the polityscore variable, and seeing if that has a confounding effect."
   ]
  },
  {
   "cell_type": "markdown",
   "metadata": {},
   "source": [
    "For the purpose of <i>growing</i> an analysable decision tree I will keep my two explanetory variables but will also categorise one of them, incomeperperson."
   ]
  },
  {
   "cell_type": "markdown",
   "metadata": {},
   "source": [
    "<h3>SET UP</h3>"
   ]
  },
  {
   "cell_type": "markdown",
   "metadata": {},
   "source": [
    "<i>Import appropraite packages and set appropriate options</i>"
   ]
  },
  {
   "cell_type": "code",
   "execution_count": 1,
   "metadata": {
    "collapsed": false
   },
   "outputs": [],
   "source": [
    "import pandas as pd\n",
    "import numpy as np\n",
    "from sklearn.cross_validation import train_test_split\n",
    "from sklearn.tree import DecisionTreeClassifier\n",
    "from sklearn.metrics import classification_report\n",
    "import sklearn.metrics\n",
    "from sklearn import tree"
   ]
  },
  {
   "cell_type": "code",
   "execution_count": 2,
   "metadata": {
    "collapsed": true
   },
   "outputs": [],
   "source": [
    "pd.set_option('display.float_format', '{:,.2f}'.format)"
   ]
  },
  {
   "cell_type": "markdown",
   "metadata": {},
   "source": [
    "<i>Read in the data set</i>"
   ]
  },
  {
   "cell_type": "code",
   "execution_count": 3,
   "metadata": {
    "collapsed": false
   },
   "outputs": [],
   "source": [
    "usecols = ['incomeperperson', 'armedforcesrate', 'polityscore', 'country', 'lifeexpectancy', 'alcconsumption']\n",
    "gap_data = pd.read_csv('../gapminder.csv', usecols = usecols, index_col='country')"
   ]
  },
  {
   "cell_type": "markdown",
   "metadata": {},
   "source": [
    "<i>Replace spaces with blanks and coerce into numeric, replacing the spaces with an empty string is needed for converting to numeric</i>"
   ]
  },
  {
   "cell_type": "code",
   "execution_count": 4,
   "metadata": {
    "collapsed": true
   },
   "outputs": [],
   "source": [
    "gap_data.loc[:,'incomeperperson'] = pd.to_numeric(gap_data['incomeperperson'].replace(' ',''))\n",
    "gap_data.loc[:,'armedforcesrate'] = pd.to_numeric(gap_data['armedforcesrate'].replace(' ',''))\n",
    "gap_data.loc[:,'polityscore'] = pd.to_numeric(gap_data['polityscore'].replace(' ',''))\n",
    "gap_data.loc[:,'lifeexpectancy'] = pd.to_numeric(gap_data['lifeexpectancy'].replace(' ',''))\n",
    "gap_data.loc[:,'alcconsumption'] = pd.to_numeric(gap_data['alcconsumption'].replace(' ',''))"
   ]
  },
  {
   "cell_type": "markdown",
   "metadata": {},
   "source": [
    "<i>Remove any rows where there are nulls</i>"
   ]
  },
  {
   "cell_type": "code",
   "execution_count": 5,
   "metadata": {
    "collapsed": true
   },
   "outputs": [],
   "source": [
    "gap_data.dropna(inplace = True)"
   ]
  },
  {
   "cell_type": "markdown",
   "metadata": {},
   "source": [
    "<i>Categorise the response variable so that the decision tree is an analyseable size</i>"
   ]
  },
  {
   "cell_type": "markdown",
   "metadata": {},
   "source": [
    "<b><i>armedforcesrate</i></b>"
   ]
  },
  {
   "cell_type": "code",
   "execution_count": 6,
   "metadata": {
    "collapsed": true
   },
   "outputs": [],
   "source": [
    "gap_data['armedforcesrate_cat'] = gap_data.loc[:,'armedforcesrate'].copy()"
   ]
  },
  {
   "cell_type": "code",
   "execution_count": 7,
   "metadata": {
    "collapsed": false
   },
   "outputs": [],
   "source": [
    "gap_data.loc[(gap_data['armedforcesrate_cat'] < 1) & (gap_data['armedforcesrate_cat'] >= 0), 'armedforcesrate_cat'] = 0\n",
    "gap_data.loc[(gap_data['armedforcesrate_cat'] >= 1), 'armedforcesrate_cat'] = 1"
   ]
  },
  {
   "cell_type": "code",
   "execution_count": 8,
   "metadata": {
    "collapsed": false
   },
   "outputs": [],
   "source": [
    "gap_data.loc[:,'armedforcesrate_cat'] = gap_data.loc[:,'armedforcesrate_cat'].astype(int).astype(str)"
   ]
  },
  {
   "cell_type": "markdown",
   "metadata": {},
   "source": [
    "<i>Categorise the explanetory variables to keep the decision tree interpretable</i>"
   ]
  },
  {
   "cell_type": "markdown",
   "metadata": {},
   "source": [
    "<b><i>incomeperperson</i></b>"
   ]
  },
  {
   "cell_type": "code",
   "execution_count": 9,
   "metadata": {
    "collapsed": true
   },
   "outputs": [],
   "source": [
    "gap_data['incomeperperson_cat'] = gap_data.loc[:,'incomeperperson'].copy()"
   ]
  },
  {
   "cell_type": "code",
   "execution_count": 10,
   "metadata": {
    "collapsed": true
   },
   "outputs": [],
   "source": [
    "gap_data.loc[(gap_data['incomeperperson_cat'] < 5000) & (gap_data['incomeperperson_cat'] >= 0), 'incomeperperson_cat'] = 1\n",
    "gap_data.loc[(gap_data['incomeperperson_cat'] >= 5000), 'incomeperperson_cat'] = 2"
   ]
  },
  {
   "cell_type": "code",
   "execution_count": 11,
   "metadata": {
    "collapsed": true
   },
   "outputs": [],
   "source": [
    "gap_data.loc[:,'incomeperperson_cat'] = gap_data.loc[:,'incomeperperson_cat'].astype(int)"
   ]
  },
  {
   "cell_type": "markdown",
   "metadata": {},
   "source": [
    "<b><i>polityscore</i></b>"
   ]
  },
  {
   "cell_type": "code",
   "execution_count": 12,
   "metadata": {
    "collapsed": true
   },
   "outputs": [],
   "source": [
    "gap_data['polityscore_cat'] = gap_data.loc[:,'polityscore'].copy()"
   ]
  },
  {
   "cell_type": "code",
   "execution_count": 13,
   "metadata": {
    "collapsed": true
   },
   "outputs": [],
   "source": [
    "gap_data.loc[(gap_data['polityscore_cat'] >= 0), 'polityscore_cat'] = 1\n",
    "gap_data.loc[(gap_data['polityscore_cat'] < 0), 'polityscore_cat'] = 2"
   ]
  },
  {
   "cell_type": "code",
   "execution_count": 14,
   "metadata": {
    "collapsed": true
   },
   "outputs": [],
   "source": [
    "gap_data.loc[:,'polityscore_cat'] = gap_data.loc[:,'polityscore_cat'].astype(int)"
   ]
  },
  {
   "cell_type": "markdown",
   "metadata": {},
   "source": [
    "<i>Look at some information about the data set</i>"
   ]
  },
  {
   "cell_type": "code",
   "execution_count": 15,
   "metadata": {
    "collapsed": false
   },
   "outputs": [
    {
     "data": {
      "text/plain": [
       "incomeperperson        float64\n",
       "alcconsumption         float64\n",
       "armedforcesrate        float64\n",
       "lifeexpectancy         float64\n",
       "polityscore            float64\n",
       "armedforcesrate_cat     object\n",
       "incomeperperson_cat      int32\n",
       "polityscore_cat          int32\n",
       "dtype: object"
      ]
     },
     "execution_count": 15,
     "metadata": {},
     "output_type": "execute_result"
    }
   ],
   "source": [
    "gap_data.dtypes"
   ]
  },
  {
   "cell_type": "code",
   "execution_count": 16,
   "metadata": {
    "collapsed": false
   },
   "outputs": [
    {
     "data": {
      "text/html": [
       "<div>\n",
       "<table border=\"1\" class=\"dataframe\">\n",
       "  <thead>\n",
       "    <tr style=\"text-align: right;\">\n",
       "      <th></th>\n",
       "      <th>incomeperperson</th>\n",
       "      <th>alcconsumption</th>\n",
       "      <th>armedforcesrate</th>\n",
       "      <th>lifeexpectancy</th>\n",
       "      <th>polityscore</th>\n",
       "      <th>incomeperperson_cat</th>\n",
       "      <th>polityscore_cat</th>\n",
       "    </tr>\n",
       "  </thead>\n",
       "  <tbody>\n",
       "    <tr>\n",
       "      <th>count</th>\n",
       "      <td>149.00</td>\n",
       "      <td>149.00</td>\n",
       "      <td>149.00</td>\n",
       "      <td>149.00</td>\n",
       "      <td>149.00</td>\n",
       "      <td>149.00</td>\n",
       "      <td>149.00</td>\n",
       "    </tr>\n",
       "    <tr>\n",
       "      <th>mean</th>\n",
       "      <td>6,816.62</td>\n",
       "      <td>6.91</td>\n",
       "      <td>1.38</td>\n",
       "      <td>68.92</td>\n",
       "      <td>3.88</td>\n",
       "      <td>1.36</td>\n",
       "      <td>1.28</td>\n",
       "    </tr>\n",
       "    <tr>\n",
       "      <th>std</th>\n",
       "      <td>9,891.11</td>\n",
       "      <td>5.10</td>\n",
       "      <td>1.54</td>\n",
       "      <td>9.99</td>\n",
       "      <td>6.20</td>\n",
       "      <td>0.48</td>\n",
       "      <td>0.45</td>\n",
       "    </tr>\n",
       "    <tr>\n",
       "      <th>min</th>\n",
       "      <td>103.78</td>\n",
       "      <td>0.05</td>\n",
       "      <td>0.00</td>\n",
       "      <td>47.79</td>\n",
       "      <td>-10.00</td>\n",
       "      <td>1.00</td>\n",
       "      <td>1.00</td>\n",
       "    </tr>\n",
       "    <tr>\n",
       "      <th>25%</th>\n",
       "      <td>561.71</td>\n",
       "      <td>2.69</td>\n",
       "      <td>0.45</td>\n",
       "      <td>62.09</td>\n",
       "      <td>-2.00</td>\n",
       "      <td>1.00</td>\n",
       "      <td>1.00</td>\n",
       "    </tr>\n",
       "    <tr>\n",
       "      <th>50%</th>\n",
       "      <td>2,231.99</td>\n",
       "      <td>6.12</td>\n",
       "      <td>0.93</td>\n",
       "      <td>72.64</td>\n",
       "      <td>7.00</td>\n",
       "      <td>1.00</td>\n",
       "      <td>1.00</td>\n",
       "    </tr>\n",
       "    <tr>\n",
       "      <th>75%</th>\n",
       "      <td>7,381.31</td>\n",
       "      <td>10.08</td>\n",
       "      <td>1.58</td>\n",
       "      <td>76.13</td>\n",
       "      <td>9.00</td>\n",
       "      <td>2.00</td>\n",
       "      <td>2.00</td>\n",
       "    </tr>\n",
       "    <tr>\n",
       "      <th>max</th>\n",
       "      <td>39,972.35</td>\n",
       "      <td>23.01</td>\n",
       "      <td>9.82</td>\n",
       "      <td>83.39</td>\n",
       "      <td>10.00</td>\n",
       "      <td>2.00</td>\n",
       "      <td>2.00</td>\n",
       "    </tr>\n",
       "  </tbody>\n",
       "</table>\n",
       "</div>"
      ],
      "text/plain": [
       "       incomeperperson  alcconsumption  armedforcesrate  lifeexpectancy  \\\n",
       "count           149.00          149.00           149.00          149.00   \n",
       "mean          6,816.62            6.91             1.38           68.92   \n",
       "std           9,891.11            5.10             1.54            9.99   \n",
       "min             103.78            0.05             0.00           47.79   \n",
       "25%             561.71            2.69             0.45           62.09   \n",
       "50%           2,231.99            6.12             0.93           72.64   \n",
       "75%           7,381.31           10.08             1.58           76.13   \n",
       "max          39,972.35           23.01             9.82           83.39   \n",
       "\n",
       "       polityscore  incomeperperson_cat  polityscore_cat  \n",
       "count       149.00               149.00           149.00  \n",
       "mean          3.88                 1.36             1.28  \n",
       "std           6.20                 0.48             0.45  \n",
       "min         -10.00                 1.00             1.00  \n",
       "25%          -2.00                 1.00             1.00  \n",
       "50%           7.00                 1.00             1.00  \n",
       "75%           9.00                 2.00             2.00  \n",
       "max          10.00                 2.00             2.00  "
      ]
     },
     "execution_count": 16,
     "metadata": {},
     "output_type": "execute_result"
    }
   ],
   "source": [
    "gap_data.describe()"
   ]
  },
  {
   "cell_type": "markdown",
   "metadata": {},
   "source": [
    "<h3>MODEL DEVELOPMENT ('growing' a decision tree)</h3>"
   ]
  },
  {
   "cell_type": "markdown",
   "metadata": {},
   "source": [
    "<i>Set up the constants for the model</i>"
   ]
  },
  {
   "cell_type": "code",
   "execution_count": 17,
   "metadata": {
    "collapsed": false
   },
   "outputs": [],
   "source": [
    "predictors = gap_data[['incomeperperson_cat','polityscore_cat']]\n",
    "targets = gap_data['armedforcesrate_cat']"
   ]
  },
  {
   "cell_type": "markdown",
   "metadata": {},
   "source": [
    "<i>Split the data set up into sections for use in training and testing the model</i>"
   ]
  },
  {
   "cell_type": "code",
   "execution_count": 18,
   "metadata": {
    "collapsed": false
   },
   "outputs": [],
   "source": [
    "pred_train, pred_test, tar_train, tar_test = train_test_split(predictors, targets, test_size = 0.4)"
   ]
  },
  {
   "cell_type": "markdown",
   "metadata": {},
   "source": [
    "<i>This splits the data into 60% training data, 40% test data set as we will see below</i>"
   ]
  },
  {
   "cell_type": "code",
   "execution_count": 19,
   "metadata": {
    "collapsed": false
   },
   "outputs": [
    {
     "name": "stdout",
     "output_type": "stream",
     "text": [
      "Predictors : training (89, 2) \n",
      "Predictors : testing  (60, 2) \n",
      "Target     : training (89,) \n",
      "Target     : testing  (60,)\n"
     ]
    }
   ],
   "source": [
    "print('Predictors : training',pred_train.shape, \\\n",
    "      '\\nPredictors : testing ',pred_test.shape, \\\n",
    "      '\\nTarget     : training',tar_train.shape, \\\n",
    "      '\\nTarget     : testing ',tar_test.shape)"
   ]
  },
  {
   "cell_type": "code",
   "execution_count": 20,
   "metadata": {
    "collapsed": false
   },
   "outputs": [
    {
     "name": "stdout",
     "output_type": "stream",
     "text": [
      "training :  59.73 % \n",
      "test     :  40.27 %\n"
     ]
    }
   ],
   "source": [
    "print(\"training : \",round((89 / 149) * 100,2), \"%\", \"\\ntest     : \",round((60 / 149) * 100,2), \"%\")"
   ]
  },
  {
   "cell_type": "markdown",
   "metadata": {},
   "source": [
    "<i>Model</i>"
   ]
  },
  {
   "cell_type": "code",
   "execution_count": 21,
   "metadata": {
    "collapsed": false
   },
   "outputs": [],
   "source": [
    "classifier = DecisionTreeClassifier().fit(pred_train, tar_train)"
   ]
  },
  {
   "cell_type": "code",
   "execution_count": 22,
   "metadata": {
    "collapsed": true
   },
   "outputs": [],
   "source": [
    "predictions = classifier.predict(pred_test)"
   ]
  },
  {
   "cell_type": "markdown",
   "metadata": {},
   "source": [
    "<i>Checking the model</i>"
   ]
  },
  {
   "cell_type": "code",
   "execution_count": 23,
   "metadata": {
    "collapsed": false
   },
   "outputs": [],
   "source": [
    "np.set_printoptions(threshold = np.nan)"
   ]
  },
  {
   "cell_type": "code",
   "execution_count": 24,
   "metadata": {
    "collapsed": false
   },
   "outputs": [
    {
     "data": {
      "text/plain": [
       "array([[33,  1],\n",
       "       [24,  2]])"
      ]
     },
     "execution_count": 24,
     "metadata": {},
     "output_type": "execute_result"
    }
   ],
   "source": [
    "sklearn.metrics.confusion_matrix(tar_test, predictions)"
   ]
  },
  {
   "cell_type": "code",
   "execution_count": 25,
   "metadata": {
    "collapsed": false
   },
   "outputs": [
    {
     "name": "stdout",
     "output_type": "stream",
     "text": [
      "58.33 %\n"
     ]
    }
   ],
   "source": [
    "print(round(sklearn.metrics.accuracy_score(tar_test, predictions) * 100, 2), \"%\")"
   ]
  },
  {
   "cell_type": "markdown",
   "metadata": {},
   "source": [
    "<i>Outputting the decision tree to an external file</i>"
   ]
  },
  {
   "cell_type": "code",
   "execution_count": 26,
   "metadata": {
    "collapsed": false
   },
   "outputs": [],
   "source": [
    "tree.export_graphviz(classifier, out_file = 'tree.dot', \\\n",
    "                     class_names = ['forces rate < 1', 'forces rate >=1'], \\\n",
    "                     filled = True, rounded = True, \\\n",
    "                     feature_names = ['incomeperperson','polityscore'])"
   ]
  },
  {
   "cell_type": "markdown",
   "metadata": {},
   "source": [
    "<h3>END ANALSYSIS</h3>"
   ]
  },
  {
   "cell_type": "markdown",
   "metadata": {},
   "source": [
    "Code from spyder that outputted the decision tree, file created in the same directory as the tree.dot file is in: "
   ]
  },
  {
   "cell_type": "markdown",
   "metadata": {},
   "source": [
    "<div style = \"margin-left : 50px ;\"><i>\n",
    "import pydotplus\n",
    "<br>import pydot\n",
    "<br>from IPython.display import Image\n",
    "<br>\n",
    "<br>file = open('tree.dot', 'r')\n",
    "<br>text=file.read()\n",
    "<br>\n",
    "<br>(graph,)=pydot.graph_from_dot_data(text)\n",
    "<br>\n",
    "<br>Image(graph.create_png())\n",
    "</i></div>"
   ]
  },
  {
   "cell_type": "markdown",
   "metadata": {},
   "source": [
    "I did it in spyder as it wasn't working in jupyter notebook. I will investigate how to do this."
   ]
  },
  {
   "cell_type": "markdown",
   "metadata": {},
   "source": [
    "<i>My Decision Tree</i>"
   ]
  },
  {
   "cell_type": "markdown",
   "metadata": {},
   "source": [
    "<img src=\"decision_tree.png\">"
   ]
  },
  {
   "cell_type": "markdown",
   "metadata": {},
   "source": [
    "<i>The process</i>"
   ]
  },
  {
   "cell_type": "markdown",
   "metadata": {},
   "source": [
    "A decision tree analysis was performed to test no linear relationships between the explanetory variables incomeperperson and polityscore, and the repose variable armedforcesrate which was transformed into a binary variable. In <i>growing</i> a decision tree all possible cut points of a quantitative variable and all potential seperations of a categorical variable are tested and followed. There is no pruning done of the branches in this instance as it isn't uspported in the packages used so I will analyse the full tree."
   ]
  },
  {
   "cell_type": "markdown",
   "metadata": {},
   "source": [
    "All the variables, both explanetory and response, have been categorised into "
   ]
  },
  {
   "cell_type": "markdown",
   "metadata": {},
   "source": [
    "<i>The tree</i>"
   ]
  },
  {
   "cell_type": "markdown",
   "metadata": {},
   "source": [
    "The categorised polotyscore variable was the first variable to seperate the training sample into two sets. Countries with a polityscore category 1 (actual value between 0 and 10), 75.3% of the sample group, go to the left branch and the countries with a polityscore category 2 (actual value between -10 and -1), 24.7% of the sample group, go to the right branch."
   ]
  },
  {
   "cell_type": "markdown",
   "metadata": {},
   "source": [
    "Following the left branch, that now has 67 sample elements, there is a subdivision by incomeperperson. The countries with incomeperperson category 1 (actual value between \\$0 and \\$5000), 59.7% of the sample group, go to the left leaf node which has class 'forces rate < 1' meaning the model will predict an armedforcesrate category 1 (actual value between 0% and 1%). The countries with incomeperperson category 2 (actual value greater than \\$5000), 40.3% of the sample group, go to the right leaf node which also has class 'forces rate < 1'. So in both instances the model predicts that: if the polityscore category is 1 (actual value between 0 and 10, indicating a more democratic government style) then regardless of the incomeperperson value the predicted armedfrocesrate category is 1 (actual value between 0% and 1%, indicating a low proportion of the available workforce is on active duty in the military)."
   ]
  },
  {
   "cell_type": "markdown",
   "metadata": {},
   "source": [
    "Following the right branch, that has 22 sample elements, there is a subdivision by incomeperperson. The countries with incomeperperson category 1 (actual value between \\$0 and \\$5000), 72.7% of the sample group, go to the left leaf node which has class 'forces rate < 1' meaning the model will predict an armedforcesrate category of 1 (actual value between 0% and 1%). The countries with incomeperperson category 2 (actual value greater than \\$5000), 27.3% of the sample group, go to the right leaf node with class 'forces rate >= 1' meaning the model will predict an armedforcesrate category of 2 (actual value greater than 1%). So this means the model predicts that: for countries with polityscore category 2 (actual value between -10 and -1) then the countries with lower incomeperperson will have a lower armedforcesrate than countries with higher incomeperperson."
   ]
  },
  {
   "cell_type": "markdown",
   "metadata": {},
   "source": [
    "From looking at the whole decision tree most of the values lead to the class 'forces rate < 1' which means most countries will have the predicted armedforcesrate category 1 (actual value between 0% and 1%)."
   ]
  },
  {
   "cell_type": "markdown",
   "metadata": {},
   "source": [
    "The total model has an accuracy of 58.33%, so 58.33% of the test sample countries had a correctly predicted <u>armedforcesrate</u> group from the model. This is not a great accuracy value but it is currently a very simple model, with only binary variables included. The accuracy would potentially increase if more information about the individual values of the variables was included. I didn't include them in this instance because the tree was so large when I did the analysis."
   ]
  }
 ],
 "metadata": {
  "anaconda-cloud": {},
  "kernelspec": {
   "display_name": "Python [Root]",
   "language": "python",
   "name": "Python [Root]"
  },
  "language_info": {
   "codemirror_mode": {
    "name": "ipython",
    "version": 3
   },
   "file_extension": ".py",
   "mimetype": "text/x-python",
   "name": "python",
   "nbconvert_exporter": "python",
   "pygments_lexer": "ipython3",
   "version": "3.5.2"
  }
 },
 "nbformat": 4,
 "nbformat_minor": 0
}
