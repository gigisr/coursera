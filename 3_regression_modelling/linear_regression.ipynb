{
 "cells": [
  {
   "cell_type": "markdown",
   "metadata": {},
   "source": [
    "<h1>Week 2 - Test a Basic Linear Regression Model</h1>"
   ]
  },
  {
   "cell_type": "markdown",
   "metadata": {},
   "source": [
    "The data set I am using is the Gapminder data set. A series of observational variables that have independent sources that have been centralised into one set."
   ]
  },
  {
   "cell_type": "markdown",
   "metadata": {},
   "source": [
    "<h3>SET-UP</h3>"
   ]
  },
  {
   "cell_type": "markdown",
   "metadata": {},
   "source": [
    "<i>Read in the packages and set appropriate options</i>"
   ]
  },
  {
   "cell_type": "code",
   "execution_count": 1,
   "metadata": {
    "collapsed": true
   },
   "outputs": [],
   "source": [
    "import pandas as pd\n",
    "import numpy as np\n",
    "import statsmodels.api as sm\n",
    "import statsmodels.formula.api as smf \n",
    "import matplotlib.pyplot as plt\n",
    "import matplotlib.patches as mpatches\n",
    "import seaborn\n",
    "%matplotlib inline"
   ]
  },
  {
   "cell_type": "code",
   "execution_count": 2,
   "metadata": {
    "collapsed": false
   },
   "outputs": [],
   "source": [
    "pd.set_option('display.float_format', '{:,.2f}'.format)"
   ]
  },
  {
   "cell_type": "markdown",
   "metadata": {},
   "source": [
    "The float format <b>displays</b> the number as rounded to 2 decimal places and with thousand seperators, it does not affect the actual data."
   ]
  },
  {
   "cell_type": "markdown",
   "metadata": {},
   "source": [
    "<i>Read in the data</i>"
   ]
  },
  {
   "cell_type": "code",
   "execution_count": 3,
   "metadata": {
    "collapsed": false
   },
   "outputs": [],
   "source": [
    "gap_data = pd.read_csv('../gapminder.csv'\n",
    "                      ,usecols = ['incomeperperson', 'armedforcesrate', 'polityscore', 'country']\n",
    "                      ,index_col='country')"
   ]
  },
  {
   "cell_type": "markdown",
   "metadata": {},
   "source": [
    "<i>Reaplce the spaces with blanks and coerce into numeric</i>"
   ]
  },
  {
   "cell_type": "code",
   "execution_count": 4,
   "metadata": {
    "collapsed": true
   },
   "outputs": [],
   "source": [
    "gap_data.loc[:,'incomeperperson'] = pd.to_numeric(gap_data['incomeperperson'].replace(' ',''))\n",
    "gap_data.loc[:,'armedforcesrate'] = pd.to_numeric(gap_data['armedforcesrate'].replace(' ',''))\n",
    "gap_data.loc[:,'polityscore'] = pd.to_numeric(gap_data['polityscore'].replace(' ',''))"
   ]
  },
  {
   "cell_type": "markdown",
   "metadata": {},
   "source": [
    "<i>Remove rows where any of the values are null</i>"
   ]
  },
  {
   "cell_type": "code",
   "execution_count": 5,
   "metadata": {
    "collapsed": true
   },
   "outputs": [],
   "source": [
    "gap_data = gap_data[~gap_data.isnull().any(axis = 1)]"
   ]
  },
  {
   "cell_type": "markdown",
   "metadata": {},
   "source": [
    "<i>Check out the head and tail of the data set</i>"
   ]
  },
  {
   "cell_type": "code",
   "execution_count": 6,
   "metadata": {
    "collapsed": false
   },
   "outputs": [
    {
     "data": {
      "text/html": [
       "<div>\n",
       "<table border=\"1\" class=\"dataframe\">\n",
       "  <thead>\n",
       "    <tr style=\"text-align: right;\">\n",
       "      <th></th>\n",
       "      <th>incomeperperson</th>\n",
       "      <th>armedforcesrate</th>\n",
       "      <th>polityscore</th>\n",
       "    </tr>\n",
       "    <tr>\n",
       "      <th>country</th>\n",
       "      <th></th>\n",
       "      <th></th>\n",
       "      <th></th>\n",
       "    </tr>\n",
       "  </thead>\n",
       "  <tbody>\n",
       "    <tr>\n",
       "      <th>Albania</th>\n",
       "      <td>1,915.00</td>\n",
       "      <td>1.02</td>\n",
       "      <td>9.00</td>\n",
       "    </tr>\n",
       "    <tr>\n",
       "      <th>Algeria</th>\n",
       "      <td>2,231.99</td>\n",
       "      <td>2.31</td>\n",
       "      <td>2.00</td>\n",
       "    </tr>\n",
       "    <tr>\n",
       "      <th>Angola</th>\n",
       "      <td>1,381.00</td>\n",
       "      <td>1.46</td>\n",
       "      <td>-2.00</td>\n",
       "    </tr>\n",
       "    <tr>\n",
       "      <th>Argentina</th>\n",
       "      <td>10,749.42</td>\n",
       "      <td>0.56</td>\n",
       "      <td>8.00</td>\n",
       "    </tr>\n",
       "    <tr>\n",
       "      <th>Armenia</th>\n",
       "      <td>1,326.74</td>\n",
       "      <td>2.62</td>\n",
       "      <td>5.00</td>\n",
       "    </tr>\n",
       "  </tbody>\n",
       "</table>\n",
       "</div>"
      ],
      "text/plain": [
       "           incomeperperson  armedforcesrate  polityscore\n",
       "country                                                 \n",
       "Albania           1,915.00             1.02         9.00\n",
       "Algeria           2,231.99             2.31         2.00\n",
       "Angola            1,381.00             1.46        -2.00\n",
       "Argentina        10,749.42             0.56         8.00\n",
       "Armenia           1,326.74             2.62         5.00"
      ]
     },
     "execution_count": 6,
     "metadata": {},
     "output_type": "execute_result"
    }
   ],
   "source": [
    "gap_data.head()"
   ]
  },
  {
   "cell_type": "code",
   "execution_count": 7,
   "metadata": {
    "collapsed": false
   },
   "outputs": [
    {
     "data": {
      "text/html": [
       "<div>\n",
       "<table border=\"1\" class=\"dataframe\">\n",
       "  <thead>\n",
       "    <tr style=\"text-align: right;\">\n",
       "      <th></th>\n",
       "      <th>incomeperperson</th>\n",
       "      <th>armedforcesrate</th>\n",
       "      <th>polityscore</th>\n",
       "    </tr>\n",
       "    <tr>\n",
       "      <th>country</th>\n",
       "      <th></th>\n",
       "      <th></th>\n",
       "      <th></th>\n",
       "    </tr>\n",
       "  </thead>\n",
       "  <tbody>\n",
       "    <tr>\n",
       "      <th>Venezuela</th>\n",
       "      <td>5,528.36</td>\n",
       "      <td>0.90</td>\n",
       "      <td>-3.00</td>\n",
       "    </tr>\n",
       "    <tr>\n",
       "      <th>Vietnam</th>\n",
       "      <td>722.81</td>\n",
       "      <td>1.09</td>\n",
       "      <td>-7.00</td>\n",
       "    </tr>\n",
       "    <tr>\n",
       "      <th>Yemen, Rep.</th>\n",
       "      <td>610.36</td>\n",
       "      <td>2.32</td>\n",
       "      <td>-2.00</td>\n",
       "    </tr>\n",
       "    <tr>\n",
       "      <th>Zambia</th>\n",
       "      <td>432.23</td>\n",
       "      <td>0.34</td>\n",
       "      <td>7.00</td>\n",
       "    </tr>\n",
       "    <tr>\n",
       "      <th>Zimbabwe</th>\n",
       "      <td>320.77</td>\n",
       "      <td>1.03</td>\n",
       "      <td>1.00</td>\n",
       "    </tr>\n",
       "  </tbody>\n",
       "</table>\n",
       "</div>"
      ],
      "text/plain": [
       "             incomeperperson  armedforcesrate  polityscore\n",
       "country                                                   \n",
       "Venezuela           5,528.36             0.90        -3.00\n",
       "Vietnam               722.81             1.09        -7.00\n",
       "Yemen, Rep.           610.36             2.32        -2.00\n",
       "Zambia                432.23             0.34         7.00\n",
       "Zimbabwe              320.77             1.03         1.00"
      ]
     },
     "execution_count": 7,
     "metadata": {},
     "output_type": "execute_result"
    }
   ],
   "source": [
    "gap_data.tail()"
   ]
  },
  {
   "cell_type": "markdown",
   "metadata": {},
   "source": [
    "<h2>Data preparation for this assignment:</h2>"
   ]
  },
  {
   "cell_type": "markdown",
   "metadata": {},
   "source": [
    "None, as both my explanetory and response variables are quantitative no further data manipulation needs to be done beyond what has been done above."
   ]
  },
  {
   "cell_type": "markdown",
   "metadata": {},
   "source": [
    "<h2>The Assignment:</h2>"
   ]
  },
  {
   "cell_type": "markdown",
   "metadata": {},
   "source": [
    "My explanetory variable is incomeperperson, as it is quantitative with a mean not equal to 0 I need to center it. I will create a new column and then check that the mean has been tranformed to 0 using the <i>.describe()</i> method."
   ]
  },
  {
   "cell_type": "code",
   "execution_count": 8,
   "metadata": {
    "collapsed": false
   },
   "outputs": [],
   "source": [
    "gap_data.loc[:,'incomeperperson_centered'] = gap_data.loc[:,'incomeperperson'] - gap_data.loc[:,'incomeperperson'].mean()"
   ]
  },
  {
   "cell_type": "code",
   "execution_count": 9,
   "metadata": {
    "collapsed": false
   },
   "outputs": [
    {
     "data": {
      "text/plain": [
       "count      149.00\n",
       "mean         0.00\n",
       "std      9,891.11\n",
       "min     -6,712.85\n",
       "25%     -6,254.92\n",
       "50%     -4,584.63\n",
       "75%        564.69\n",
       "max     33,155.73\n",
       "Name: incomeperperson_centered, dtype: float64"
      ]
     },
     "execution_count": 9,
     "metadata": {},
     "output_type": "execute_result"
    }
   ],
   "source": [
    "gap_data.incomeperperson_centered.describe()"
   ]
  },
  {
   "cell_type": "markdown",
   "metadata": {},
   "source": [
    "We can see that the mean is 0 so the variable has been centered."
   ]
  },
  {
   "cell_type": "markdown",
   "metadata": {},
   "source": [
    "A quick scatter plot of my explanetory (incomeperperson) and response (armedforcesrate) against each other."
   ]
  },
  {
   "cell_type": "code",
   "execution_count": 10,
   "metadata": {
    "collapsed": false
   },
   "outputs": [
    {
     "data": {
      "text/plain": [
       "<matplotlib.text.Text at 0x234ddf8c470>"
      ]
     },
     "execution_count": 10,
     "metadata": {},
     "output_type": "execute_result"
    },
    {
     "data": {
      "image/png": "[encoded data removed]",
      "text/plain": [
       "<matplotlib.figure.Figure at 0x234ddbb66a0>"
      ]
     },
     "metadata": {},
     "output_type": "display_data"
    }
   ],
   "source": [
    "seaborn.set_context(\"notebook\", font_scale=1.3)\n",
    "seaborn.set_style(\"ticks\")\n",
    "seaborn.lmplot('incomeperperson_centered', 'armedforcesrate', data=gap_data, fit_reg=False)\n",
    "plt.axvline(x=0,color = 'black',linewidth = 0.25)\n",
    "plt.xlim([min(gap_data.incomeperperson_centered * 1.1),max(gap_data.incomeperperson_centered * 1.1)])\n",
    "plt.ylim([min(gap_data.armedforcesrate - 0.2),max(gap_data.armedforcesrate * 1.1)])\n",
    "plt.title('Scatter plot of incomeperperson \\nagainst armedforcesrate\\nwith a Vertical Line at x = 0')\n",
    "plt.xlabel('incomeperperson')\n",
    "plt.ylabel('armedforcesrate (%)')"
   ]
  },
  {
   "cell_type": "code",
   "execution_count": 11,
   "metadata": {
    "collapsed": false
   },
   "outputs": [
    {
     "data": {
      "text/html": [
       "<table class=\"simpletable\">\n",
       "<caption>OLS Regression Results</caption>\n",
       "<tr>\n",
       "  <th>Dep. Variable:</th>     <td>armedforcesrate</td> <th>  R-squared:         </th> <td>   0.001</td>\n",
       "</tr>\n",
       "<tr>\n",
       "  <th>Model:</th>                   <td>OLS</td>       <th>  Adj. R-squared:    </th> <td>  -0.006</td>\n",
       "</tr>\n",
       "<tr>\n",
       "  <th>Method:</th>             <td>Least Squares</td>  <th>  F-statistic:       </th> <td>  0.1403</td>\n",
       "</tr>\n",
       "<tr>\n",
       "  <th>Date:</th>             <td>Sat, 03 Dec 2016</td> <th>  Prob (F-statistic):</th>  <td> 0.709</td> \n",
       "</tr>\n",
       "<tr>\n",
       "  <th>Time:</th>                 <td>16:44:46</td>     <th>  Log-Likelihood:    </th> <td> -275.57</td>\n",
       "</tr>\n",
       "<tr>\n",
       "  <th>No. Observations:</th>      <td>   149</td>      <th>  AIC:               </th> <td>   555.1</td>\n",
       "</tr>\n",
       "<tr>\n",
       "  <th>Df Residuals:</th>          <td>   147</td>      <th>  BIC:               </th> <td>   561.1</td>\n",
       "</tr>\n",
       "<tr>\n",
       "  <th>Df Model:</th>              <td>     1</td>      <th>                     </th>     <td> </td>   \n",
       "</tr>\n",
       "<tr>\n",
       "  <th>Covariance Type:</th>      <td>nonrobust</td>    <th>                     </th>     <td> </td>   \n",
       "</tr>\n",
       "</table>\n",
       "<table class=\"simpletable\">\n",
       "<tr>\n",
       "         <td></td>            <th>coef</th>     <th>std err</th>      <th>t</th>      <th>P>|t|</th> <th>[95.0% Conf. Int.]</th> \n",
       "</tr>\n",
       "<tr>\n",
       "  <th>Intercept</th>       <td>    1.3467</td> <td>    0.154</td> <td>    8.732</td> <td> 0.000</td> <td>    1.042     1.651</td>\n",
       "</tr>\n",
       "<tr>\n",
       "  <th>incomeperperson</th> <td>  4.82e-06</td> <td> 1.29e-05</td> <td>    0.375</td> <td> 0.709</td> <td>-2.06e-05  3.03e-05</td>\n",
       "</tr>\n",
       "</table>\n",
       "<table class=\"simpletable\">\n",
       "<tr>\n",
       "  <th>Omnibus:</th>       <td>103.782</td> <th>  Durbin-Watson:     </th> <td>   2.259</td> \n",
       "</tr>\n",
       "<tr>\n",
       "  <th>Prob(Omnibus):</th> <td> 0.000</td>  <th>  Jarque-Bera (JB):  </th> <td> 605.964</td> \n",
       "</tr>\n",
       "<tr>\n",
       "  <th>Skew:</th>          <td> 2.637</td>  <th>  Prob(JB):          </th> <td>2.61e-132</td>\n",
       "</tr>\n",
       "<tr>\n",
       "  <th>Kurtosis:</th>      <td>11.354</td>  <th>  Cond. No.          </th> <td>1.46e+04</td> \n",
       "</tr>\n",
       "</table>"
      ],
      "text/plain": [
       "<class 'statsmodels.iolib.summary.Summary'>\n",
       "\"\"\"\n",
       "                            OLS Regression Results                            \n",
       "==============================================================================\n",
       "Dep. Variable:        armedforcesrate   R-squared:                       0.001\n",
       "Model:                            OLS   Adj. R-squared:                 -0.006\n",
       "Method:                 Least Squares   F-statistic:                    0.1403\n",
       "Date:                Sat, 03 Dec 2016   Prob (F-statistic):              0.709\n",
       "Time:                        16:44:46   Log-Likelihood:                -275.57\n",
       "No. Observations:                 149   AIC:                             555.1\n",
       "Df Residuals:                     147   BIC:                             561.1\n",
       "Df Model:                           1                                         \n",
       "Covariance Type:            nonrobust                                         \n",
       "===================================================================================\n",
       "                      coef    std err          t      P>|t|      [95.0% Conf. Int.]\n",
       "-----------------------------------------------------------------------------------\n",
       "Intercept           1.3467      0.154      8.732      0.000         1.042     1.651\n",
       "incomeperperson   4.82e-06   1.29e-05      0.375      0.709     -2.06e-05  3.03e-05\n",
       "==============================================================================\n",
       "Omnibus:                      103.782   Durbin-Watson:                   2.259\n",
       "Prob(Omnibus):                  0.000   Jarque-Bera (JB):              605.964\n",
       "Skew:                           2.637   Prob(JB):                    2.61e-132\n",
       "Kurtosis:                      11.354   Cond. No.                     1.46e+04\n",
       "==============================================================================\n",
       "\n",
       "Warnings:\n",
       "[1] Standard Errors assume that the covariance matrix of the errors is correctly specified.\n",
       "[2] The condition number is large, 1.46e+04. This might indicate that there are\n",
       "strong multicollinearity or other numerical problems.\n",
       "\"\"\""
      ]
     },
     "execution_count": 11,
     "metadata": {},
     "output_type": "execute_result"
    }
   ],
   "source": [
    "regression_model = smf.ols(formula = 'armedforcesrate ~ incomeperperson', data = gap_data).fit()\n",
    "regression_model.summary()"
   ]
  },
  {
   "cell_type": "markdown",
   "metadata": {},
   "source": [
    "This output gives us the values for the predictive linear model $ \\hat y = \\beta_0 + \\beta_1 * x + \\epsilon$ where $\\hat y$ is the armedforcesrate variable, $x$ is the incomeperperson, $\\epsilon$ is the error term, $\\beta_0$ is -272.9147, and $\\beta_1$ is 197.8278 giving us the formaula:\n",
    "<div style = \"text-align : center ; padding-top : 15px ;\">$\\hat y = 1.3796 + 0.00000482 * x + \\epsilon$</div>"
   ]
  },
  {
   "cell_type": "code",
   "execution_count": 12,
   "metadata": {
    "collapsed": false
   },
   "outputs": [
    {
     "data": {
      "text/plain": [
       "<matplotlib.legend.Legend at 0x234de550518>"
      ]
     },
     "execution_count": 12,
     "metadata": {},
     "output_type": "execute_result"
    },
    {
     "data": {
      "image/png": "[encoded data removed]",
      "text/plain": [
       "<matplotlib.figure.Figure at 0x234de4d9a20>"
      ]
     },
     "metadata": {},
     "output_type": "display_data"
    }
   ],
   "source": [
    "seaborn.set_context(\"notebook\", font_scale=1.3)\n",
    "seaborn.set_style(\"ticks\")\n",
    "seaborn.lmplot('incomeperperson', 'armedforcesrate', data=gap_data, fit_reg=False)\n",
    "plt.xlim([min(gap_data.incomeperperson - 1000),max(gap_data.incomeperperson * 1.1)])\n",
    "plt.ylim([min(gap_data.armedforcesrate - 0.2),max(gap_data.armedforcesrate * 1.1)])\n",
    "plt.plot(gap_data.incomeperperson, 1.3796 + 0.00000482 * gap_data.incomeperperson, '.',color = 'green')\n",
    "plt.title('Scatter plot of incomeperperson \\nagainst armedforcesrate with \\nRegression Model Line of Best Fit')\n",
    "plt.xlabel('incomeperperson')\n",
    "plt.ylabel('armedforcesrate (%)')\n",
    "red_patch = mpatches.Patch(color='green', label='Predicted data points')\n",
    "blue_patch = mpatches.Patch(color='blue', label='Observed data points')\n",
    "plt.legend(handles=[red_patch, blue_patch])"
   ]
  },
  {
   "cell_type": "markdown",
   "metadata": {},
   "source": [
    "<h2>Summary</h2>"
   ]
  },
  {
   "cell_type": "markdown",
   "metadata": {},
   "source": [
    "None of the main assumptions of linear regression have been met for this model. From seeing the plot of observed values on-top-of the observed data we see the model is very inaccurate. The p-value of < 0.001 with a significance level of 70.9%, which is much greater than 5%, also implies that the model is not sifficient to fit the observed data effectively. <i>I have discussed the individual assumptions in more depth below.</i>"
   ]
  },
  {
   "cell_type": "markdown",
   "metadata": {},
   "source": [
    "The regression coefficients are:\n",
    "<div style = \"margin-left : 50px ;\">Intercept - 1.3796</div>\n",
    "<div style = \"margin-left : 50px ;\">incomeperperson - 0.00000482</div>"
   ]
  },
  {
   "cell_type": "markdown",
   "metadata": {},
   "source": [
    "The mean of my centered incomeperperson variable is printed to the console below. It is not exactly 0, but is practically 0."
   ]
  },
  {
   "cell_type": "code",
   "execution_count": 13,
   "metadata": {
    "collapsed": false
   },
   "outputs": [
    {
     "data": {
      "text/plain": [
       "2.8261479659118507e-12"
      ]
     },
     "execution_count": 13,
     "metadata": {},
     "output_type": "execute_result"
    }
   ],
   "source": [
    "gap_data.incomeperperson_centered.mean()"
   ]
  },
  {
   "cell_type": "markdown",
   "metadata": {},
   "source": [
    "I will <i>not</i> discuss multi-collinearity or outliers as none of the main assumptions have been met and they are features to bear in mind rather than part of the main assumptions."
   ]
  },
  {
   "cell_type": "markdown",
   "metadata": {},
   "source": [
    "Considering the Linear Regression Assumptions:\n",
    "<div style = \"margin-left : 50px ; margin-top : 10px ;\"><b>Normality</b>:</div>\n",
    "<div style = \"margin-left : 100px ; margin-top : 10px ;\">Below is the process to check the residuals, I create a new column on my data set that is our predicted armedforcesrate values using our $\\hat y$ formula. I then plot the armedforcesrate against the calculated residual values.</div>\n",
    "<div style = \"margin-left : 100px ; margin-top : 10px ;\">I calculated the reidual values using $residual = y - \\hat y$ where $y$ is our actual observations, and $\\hat y$ are our perdicted values from the linear regression model that we fitted.</div>\n",
    "<div style = \"margin-left : 100px ; margin-top : 10px ;\">We can see in the below graph that the residual values do not fit the shape of a normal distrobution. So the first assumption of linear regression is not met, so it is not an appropraite model for our data.</div>\n",
    "<div style = \"margin-left : 100px ; margin-top : 10px ;\"><b>Note</b> that the residual plot below looks very similar to the original graph because the coefficient of the explanetory variable, incomeperperson, is so small.</div>"
   ]
  },
  {
   "cell_type": "code",
   "execution_count": 14,
   "metadata": {
    "collapsed": true
   },
   "outputs": [],
   "source": [
    "gap_data.loc[:,'predicted_armedforcesrate'] = pd.Series(1.3796, index = gap_data.index) + 0.00000482 * gap_data.loc[:,'incomeperperson']\n",
    "residuals = (gap_data.loc[:,'armedforcesrate'] - gap_data.loc[:,'predicted_armedforcesrate'])"
   ]
  },
  {
   "cell_type": "code",
   "execution_count": 15,
   "metadata": {
    "collapsed": false
   },
   "outputs": [
    {
     "data": {
      "text/plain": [
       "<matplotlib.text.Text at 0x234de57f6a0>"
      ]
     },
     "execution_count": 15,
     "metadata": {},
     "output_type": "execute_result"
    },
    {
     "data": {
      "image/png": "[encoded data removed]",
      "text/plain": [
       "<matplotlib.figure.Figure at 0x234d8aaa390>"
      ]
     },
     "metadata": {},
     "output_type": "display_data"
    }
   ],
   "source": [
    "seaborn.set_context(\"notebook\", font_scale=1.3)\n",
    "seaborn.set_style(\"ticks\")\n",
    "#plt.xlim([min(gap_data.armedforcesrate - 0.2),max(gap_data.armedforcesrate * 1.03)])\n",
    "plt.scatter(x = gap_data.incomeperperson_centered, y = residuals)\n",
    "plt.title('Scatter plot of the Residuals from\\nour Model\\'s predicted values')\n",
    "plt.xlabel('incomeperperson')\n",
    "plt.ylabel('Residual of armedforcesrate (%)')"
   ]
  },
  {
   "cell_type": "markdown",
   "metadata": {},
   "source": [
    "For completeness I will note / check the other assumptions.\n",
    "<div style = \"margin-left : 50px ; margin-top : 10px ;\"><b>Linearity</b>:</div>\n",
    "<div style = \"margin-left : 100px ; margin-top : 10px ;\">Assumption is that associations between the explanetory and response varaibles are linear. From looking at the graph of incomeperperson against armedforcesrate above we can see that it does not form an approximation to a linear trend.</div>\n",
    "<div style = \"margin-left : 100px ; margin-top : 10px ;\">This means the assumption of linearity is most likely not met (we can't test to see if it is met). The first condition not being met would also suggest the association between the variables is not linear.</div>"
   ]
  },
  {
   "cell_type": "markdown",
   "metadata": {},
   "source": [
    "<div style = \"margin-left : 50px ; margin-top : 10px ;\"><b>Homoscedasticity</b>:</div>\n",
    "<div style = \"margin-left : 100px ; margin-top : 10px ;\">This requires constant variance in the response variable. So the plotting of the residuals should have the same spread.</div>\n",
    "<div style = \"margin-left : 100px ; margin-top : 10px ;\">If we look at the residual plot above we see that there is an irregular funnel shape in the residuals, so the homoscedasticity assumption is not fullfilled.</div>"
   ]
  },
  {
   "cell_type": "markdown",
   "metadata": {},
   "source": [
    "<div style = \"margin-left : 50px ; margin-top : 10px ;\"><b>Independence</b>:</div>\n",
    "<div style = \"margin-left : 100px ; margin-top : 10px ;\">The data has been brought together from different sources, so the observations will not be correlated.</div>"
   ]
  }
 ],
 "metadata": {
  "anaconda-cloud": {},
  "kernelspec": {
   "display_name": "Python [Root]",
   "language": "python",
   "name": "Python [Root]"
  },
  "language_info": {
   "codemirror_mode": {
    "name": "ipython",
    "version": 3
   },
   "file_extension": ".py",
   "mimetype": "text/x-python",
   "name": "python",
   "nbconvert_exporter": "python",
   "pygments_lexer": "ipython3",
   "version": "3.5.2"
  }
 },
 "nbformat": 4,
 "nbformat_minor": 0
}
