{
 "cells": [
  {
   "cell_type": "markdown",
   "metadata": {},
   "source": [
    "<h1>Week 4 - Logistic Regression</h1>"
   ]
  },
  {
   "cell_type": "markdown",
   "metadata": {},
   "source": [
    "The data set I am using is the Gapminder data set. A series of observational variables that have independent sources that have been centralised into one set."
   ]
  },
  {
   "cell_type": "markdown",
   "metadata": {},
   "source": [
    "I am investigating the association between incomeperperson and armedforcesrate. The association, or hypothesis, I am expecting is for higher incomeperperson there will be a lower armedforcesrate. So my coefficient to my explanetory variable should be less than 0. I will also be looking at the type of government, the polityscore variable, and seeing if that has a confounding effect."
   ]
  },
  {
   "cell_type": "markdown",
   "metadata": {},
   "source": [
    "For the purposes of checking a logistic regression model I am going to shift my question around. I will look at how incomeperperson and armedforcesrate (as explanetory variables) can be used to predict the nature of the polityscore (the response variable). My hypothesis is that there <u>is an association</u> between polityscore_recoded and armedforcesrate."
   ]
  },
  {
   "cell_type": "markdown",
   "metadata": {},
   "source": [
    "<h3>SET UP</h3>"
   ]
  },
  {
   "cell_type": "markdown",
   "metadata": {},
   "source": [
    "<i>Read in the packages and set appropriate options</i>"
   ]
  },
  {
   "cell_type": "code",
   "execution_count": 168,
   "metadata": {
    "collapsed": true
   },
   "outputs": [],
   "source": [
    "import pandas as pd\n",
    "import numpy as np\n",
    "import statsmodels.api as sm\n",
    "import statsmodels.formula.api as smf \n",
    "import matplotlib.pyplot as plt\n",
    "import matplotlib.patches as mpatches\n",
    "import seaborn\n",
    "%matplotlib inline"
   ]
  },
  {
   "cell_type": "code",
   "execution_count": 169,
   "metadata": {
    "collapsed": true
   },
   "outputs": [],
   "source": [
    "pd.set_option('display.float_format', '{:,.2f}'.format)"
   ]
  },
  {
   "cell_type": "markdown",
   "metadata": {},
   "source": [
    "<i>Read in the data set</i>"
   ]
  },
  {
   "cell_type": "code",
   "execution_count": 170,
   "metadata": {
    "collapsed": true
   },
   "outputs": [],
   "source": [
    "gap_data = pd.read_csv('../gapminder.csv', usecols = ['incomeperperson', 'armedforcesrate', \\\n",
    "                                                      'polityscore', 'country'], index_col='country')"
   ]
  },
  {
   "cell_type": "markdown",
   "metadata": {},
   "source": [
    "<i>Replace the spaces with blanks and coerce into numeric and categorical</i>"
   ]
  },
  {
   "cell_type": "code",
   "execution_count": 171,
   "metadata": {
    "collapsed": true
   },
   "outputs": [],
   "source": [
    "gap_data.loc[:,'incomeperperson'] = pd.to_numeric(gap_data['incomeperperson'].replace(' ',''))\n",
    "gap_data.loc[:,'armedforcesrate'] = pd.to_numeric(gap_data['armedforcesrate'].replace(' ',''))\n",
    "gap_data.loc[:,'polityscore'] = pd.to_numeric(gap_data['polityscore'].replace(' ',''))"
   ]
  },
  {
   "cell_type": "markdown",
   "metadata": {},
   "source": [
    "<i>Remove any rows where there are any nulls</i>"
   ]
  },
  {
   "cell_type": "code",
   "execution_count": 172,
   "metadata": {
    "collapsed": true
   },
   "outputs": [],
   "source": [
    "gap_data = gap_data[~gap_data.isnull().any(axis = 1)]"
   ]
  },
  {
   "cell_type": "markdown",
   "metadata": {},
   "source": [
    "<i>Convert the polityscore variable to categorical, as it is categorical data</i>"
   ]
  },
  {
   "cell_type": "code",
   "execution_count": 173,
   "metadata": {
    "collapsed": false
   },
   "outputs": [],
   "source": [
    "gap_data.loc[:,'polityscore'] = gap_data.loc[:,'polityscore'].astype('int').astype('category')"
   ]
  },
  {
   "cell_type": "markdown",
   "metadata": {},
   "source": [
    "<h2>Data preparation for this assignment:</h2>"
   ]
  },
  {
   "cell_type": "markdown",
   "metadata": {},
   "source": [
    "<i>My response variable has more than two levels, I will recode so that a 'negative', < 10, value is coded 0, and a 'neutral or 'positive', >= 0, value is coded to 1.</i>"
   ]
  },
  {
   "cell_type": "code",
   "execution_count": 174,
   "metadata": {
    "collapsed": true
   },
   "outputs": [],
   "source": [
    "dict_map = {}\n",
    "for val in range(-10,11):\n",
    "    if val < 0:\n",
    "        dict_map[val] = 0\n",
    "    else:\n",
    "        dict_map[val] = 1"
   ]
  },
  {
   "cell_type": "code",
   "execution_count": 175,
   "metadata": {
    "collapsed": false
   },
   "outputs": [],
   "source": [
    "gap_data.loc[:,'polityscore_recoded'] = gap_data.loc[:,'polityscore'].map(dict_map)"
   ]
  },
  {
   "cell_type": "markdown",
   "metadata": {},
   "source": [
    "<i>Looking at the head I can see that the mapping is working correctly.</i>"
   ]
  },
  {
   "cell_type": "code",
   "execution_count": 176,
   "metadata": {
    "collapsed": false
   },
   "outputs": [
    {
     "data": {
      "text/html": [
       "<div>\n",
       "<table border=\"1\" class=\"dataframe\">\n",
       "  <thead>\n",
       "    <tr style=\"text-align: right;\">\n",
       "      <th></th>\n",
       "      <th>polityscore</th>\n",
       "      <th>polityscore_recoded</th>\n",
       "    </tr>\n",
       "    <tr>\n",
       "      <th>country</th>\n",
       "      <th></th>\n",
       "      <th></th>\n",
       "    </tr>\n",
       "  </thead>\n",
       "  <tbody>\n",
       "    <tr>\n",
       "      <th>Albania</th>\n",
       "      <td>9</td>\n",
       "      <td>1</td>\n",
       "    </tr>\n",
       "    <tr>\n",
       "      <th>Algeria</th>\n",
       "      <td>2</td>\n",
       "      <td>1</td>\n",
       "    </tr>\n",
       "    <tr>\n",
       "      <th>Angola</th>\n",
       "      <td>-2</td>\n",
       "      <td>0</td>\n",
       "    </tr>\n",
       "    <tr>\n",
       "      <th>Argentina</th>\n",
       "      <td>8</td>\n",
       "      <td>1</td>\n",
       "    </tr>\n",
       "    <tr>\n",
       "      <th>Armenia</th>\n",
       "      <td>5</td>\n",
       "      <td>1</td>\n",
       "    </tr>\n",
       "  </tbody>\n",
       "</table>\n",
       "</div>"
      ],
      "text/plain": [
       "          polityscore  polityscore_recoded\n",
       "country                                   \n",
       "Albania             9                    1\n",
       "Algeria             2                    1\n",
       "Angola             -2                    0\n",
       "Argentina           8                    1\n",
       "Armenia             5                    1"
      ]
     },
     "execution_count": 176,
     "metadata": {},
     "output_type": "execute_result"
    }
   ],
   "source": [
    "gap_data[['polityscore','polityscore_recoded']].head()"
   ]
  },
  {
   "cell_type": "markdown",
   "metadata": {},
   "source": [
    "<i>I will centralise my explanetory variables as they are quantitative.</i>"
   ]
  },
  {
   "cell_type": "code",
   "execution_count": 177,
   "metadata": {
    "collapsed": false
   },
   "outputs": [],
   "source": [
    "gap_data.loc[:,'armedforcesrate'] = gap_data.loc[:,'armedforcesrate'] - gap_data.loc[:,'armedforcesrate'].mean()\n",
    "gap_data.loc[:,'incomeperperson'] = gap_data.loc[:,'incomeperperson'] - gap_data.loc[:,'incomeperperson'].mean()"
   ]
  },
  {
   "cell_type": "markdown",
   "metadata": {},
   "source": [
    "<h2>The assignment:</h2>"
   ]
  },
  {
   "cell_type": "markdown",
   "metadata": {},
   "source": [
    "<b>STEP 1</b>"
   ]
  },
  {
   "cell_type": "code",
   "execution_count": 178,
   "metadata": {
    "collapsed": false
   },
   "outputs": [
    {
     "data": {
      "text/plain": [
       "<matplotlib.axes._subplots.AxesSubplot at 0x22f49b71160>"
      ]
     },
     "execution_count": 178,
     "metadata": {},
     "output_type": "execute_result"
    },
    {
     "data": {
      "image/png": "[encoded data removed]",
      "text/plain": [
       "<matplotlib.figure.Figure at 0x22f49c13128>"
      ]
     },
     "metadata": {},
     "output_type": "display_data"
    }
   ],
   "source": [
    "seaborn.barplot(x = 'polityscore_recoded', y = 'incomeperperson', data = gap_data)"
   ]
  },
  {
   "cell_type": "code",
   "execution_count": 179,
   "metadata": {
    "collapsed": false
   },
   "outputs": [
    {
     "name": "stdout",
     "output_type": "stream",
     "text": [
      "Optimization terminated successfully.\n",
      "         Current function value: 0.581439\n",
      "         Iterations 6\n",
      "\n",
      "p-value intercept : 2.65708403161e-07\n",
      "p-value incomeperperson : 0.072024363519\n"
     ]
    }
   ],
   "source": [
    "log_model = smf.logit('polityscore_recoded ~ incomeperperson', data = gap_data).fit()\n",
    "print('\\np-value intercept :', log_model.pvalues[0])\n",
    "print('p-value incomeperperson :', log_model.pvalues[1])"
   ]
  },
  {
   "cell_type": "markdown",
   "metadata": {},
   "source": [
    "The p-value for the association between polityscore_recoded and incomeperperson is > 0.05 so is not statistically significant."
   ]
  },
  {
   "cell_type": "markdown",
   "metadata": {},
   "source": [
    "This also means that lower polityscore indicates much lower average incomeperperson than higher or neutral polityscores. So that means that countries with more volatile governments, on average, have much lower average income per person."
   ]
  },
  {
   "cell_type": "markdown",
   "metadata": {},
   "source": [
    " "
   ]
  },
  {
   "cell_type": "code",
   "execution_count": 180,
   "metadata": {
    "collapsed": false
   },
   "outputs": [
    {
     "data": {
      "text/plain": [
       "<matplotlib.axes._subplots.AxesSubplot at 0x22f49c9e390>"
      ]
     },
     "execution_count": 180,
     "metadata": {},
     "output_type": "execute_result"
    },
    {
     "data": {
      "image/png": "[encoded data removed]",
      "text/plain": [
       "<matplotlib.figure.Figure at 0x22f49d42b00>"
      ]
     },
     "metadata": {},
     "output_type": "display_data"
    }
   ],
   "source": [
    "seaborn.barplot(x = 'polityscore_recoded', y = 'armedforcesrate', data = gap_data)"
   ]
  },
  {
   "cell_type": "code",
   "execution_count": 181,
   "metadata": {
    "collapsed": false
   },
   "outputs": [
    {
     "name": "stdout",
     "output_type": "stream",
     "text": [
      "Optimization terminated successfully.\n",
      "         Current function value: 0.563532\n",
      "         Iterations 5\n",
      "\n",
      "p-value intercept : 2.88622494987e-07\n",
      "p-value armedforcesrate : 0.00439590548634\n"
     ]
    }
   ],
   "source": [
    "log_model = smf.logit('polityscore_recoded ~ armedforcesrate', data = gap_data).fit()\n",
    "print('\\np-value intercept :', log_model.pvalues[0])\n",
    "print('p-value armedforcesrate :', log_model.pvalues[1])"
   ]
  },
  {
   "cell_type": "markdown",
   "metadata": {},
   "source": [
    "The p-value , < 0.05, indicates that there is an association between polityscore_recoded and armedforcesrate."
   ]
  },
  {
   "cell_type": "markdown",
   "metadata": {},
   "source": [
    "This also represents that countries with lower polityscores have much higher average armedforcesrate. So that means countries with more volatile governments have higher proportions of the population employeed in the army."
   ]
  },
  {
   "cell_type": "markdown",
   "metadata": {},
   "source": [
    " "
   ]
  },
  {
   "cell_type": "code",
   "execution_count": 182,
   "metadata": {
    "collapsed": false
   },
   "outputs": [
    {
     "name": "stdout",
     "output_type": "stream",
     "text": [
      "Optimization terminated successfully.\n",
      "         Current function value: 0.546393\n",
      "         Iterations 6\n",
      "\n",
      "p-value intercept : 2.67633215052e-07\n",
      "p-value armedforcesrate : 0.00304111919927\n",
      "p-value incomeperperson : 0.0466311405313\n"
     ]
    }
   ],
   "source": [
    "log_model = smf.logit('polityscore_recoded ~ armedforcesrate + incomeperperson', data = gap_data).fit()\n",
    "print('\\np-value intercept :',log_model.pvalues[0])\n",
    "print('p-value armedforcesrate :', log_model.pvalues[1])\n",
    "print('p-value incomeperperson :', log_model.pvalues[2])"
   ]
  },
  {
   "cell_type": "markdown",
   "metadata": {},
   "source": [
    "It is good to check for confounding. Given that the number of people you can afford to employ in the army out of the total population is instinctively linked to the income of the country, we would expect confounding between the armedforcesrate and incomeperperson variables."
   ]
  },
  {
   "cell_type": "markdown",
   "metadata": {},
   "source": [
    "By adding the incomeperperson variable along side the armedforcesrate we see that the p-values for both are now < 0.05, which means that both explanetory variables are statistically significant in this model. The changes in p-values for both explanetory variables indicates they were confounding each other."
   ]
  },
  {
   "cell_type": "markdown",
   "metadata": {},
   "source": [
    " "
   ]
  },
  {
   "cell_type": "markdown",
   "metadata": {},
   "source": [
    "<i>SUMMARY</i>"
   ]
  },
  {
   "cell_type": "code",
   "execution_count": 183,
   "metadata": {
    "collapsed": false
   },
   "outputs": [
    {
     "data": {
      "text/html": [
       "<table class=\"simpletable\">\n",
       "<caption>Logit Regression Results</caption>\n",
       "<tr>\n",
       "  <th>Dep. Variable:</th> <td>polityscore_recoded</td> <th>  No. Observations:  </th>  <td>   149</td>  \n",
       "</tr>\n",
       "<tr>\n",
       "  <th>Model:</th>                <td>Logit</td>        <th>  Df Residuals:      </th>  <td>   146</td>  \n",
       "</tr>\n",
       "<tr>\n",
       "  <th>Method:</th>                <td>MLE</td>         <th>  Df Model:          </th>  <td>     2</td>  \n",
       "</tr>\n",
       "<tr>\n",
       "  <th>Date:</th>           <td>Wed, 14 Dec 2016</td>   <th>  Pseudo R-squ.:     </th>  <td>0.08126</td> \n",
       "</tr>\n",
       "<tr>\n",
       "  <th>Time:</th>               <td>14:43:53</td>       <th>  Log-Likelihood:    </th> <td> -81.413</td> \n",
       "</tr>\n",
       "<tr>\n",
       "  <th>converged:</th>            <td>True</td>         <th>  LL-Null:           </th> <td> -88.613</td> \n",
       "</tr>\n",
       "<tr>\n",
       "  <th> </th>                       <td> </td>          <th>  LLR p-value:       </th> <td>0.0007461</td>\n",
       "</tr>\n",
       "</table>\n",
       "<table class=\"simpletable\">\n",
       "<tr>\n",
       "         <td></td>            <th>coef</th>     <th>std err</th>      <th>z</th>      <th>P>|z|</th> <th>[95.0% Conf. Int.]</th> \n",
       "</tr>\n",
       "<tr>\n",
       "  <th>Intercept</th>       <td>    1.0299</td> <td>    0.200</td> <td>    5.145</td> <td> 0.000</td> <td>    0.638     1.422</td>\n",
       "</tr>\n",
       "<tr>\n",
       "  <th>armedforcesrate</th> <td>   -0.3937</td> <td>    0.133</td> <td>   -2.964</td> <td> 0.003</td> <td>   -0.654    -0.133</td>\n",
       "</tr>\n",
       "<tr>\n",
       "  <th>incomeperperson</th> <td> 5.362e-05</td> <td>  2.7e-05</td> <td>    1.990</td> <td> 0.047</td> <td>    8e-07     0.000</td>\n",
       "</tr>\n",
       "</table>"
      ],
      "text/plain": [
       "<class 'statsmodels.iolib.summary.Summary'>\n",
       "\"\"\"\n",
       "                            Logit Regression Results                           \n",
       "===============================================================================\n",
       "Dep. Variable:     polityscore_recoded   No. Observations:                  149\n",
       "Model:                           Logit   Df Residuals:                      146\n",
       "Method:                            MLE   Df Model:                            2\n",
       "Date:                 Wed, 14 Dec 2016   Pseudo R-squ.:                 0.08126\n",
       "Time:                         14:43:53   Log-Likelihood:                -81.413\n",
       "converged:                        True   LL-Null:                       -88.613\n",
       "                                         LLR p-value:                 0.0007461\n",
       "===================================================================================\n",
       "                      coef    std err          z      P>|z|      [95.0% Conf. Int.]\n",
       "-----------------------------------------------------------------------------------\n",
       "Intercept           1.0299      0.200      5.145      0.000         0.638     1.422\n",
       "armedforcesrate    -0.3937      0.133     -2.964      0.003        -0.654    -0.133\n",
       "incomeperperson  5.362e-05    2.7e-05      1.990      0.047         8e-07     0.000\n",
       "===================================================================================\n",
       "\"\"\""
      ]
     },
     "execution_count": 183,
     "metadata": {},
     "output_type": "execute_result"
    }
   ],
   "source": [
    "log_model.summary()"
   ]
  },
  {
   "cell_type": "code",
   "execution_count": 184,
   "metadata": {
    "collapsed": false
   },
   "outputs": [
    {
     "data": {
      "text/html": [
       "<div>\n",
       "<table border=\"1\" class=\"dataframe\">\n",
       "  <thead>\n",
       "    <tr style=\"text-align: right;\">\n",
       "      <th></th>\n",
       "      <th>Lower Conf. Int.</th>\n",
       "      <th>Upper Conf. Int.</th>\n",
       "      <th>Odds Ratio</th>\n",
       "    </tr>\n",
       "  </thead>\n",
       "  <tbody>\n",
       "    <tr>\n",
       "      <th>Intercept</th>\n",
       "      <td>1.8918349772</td>\n",
       "      <td>4.1463022606</td>\n",
       "      <td>2.8007355539</td>\n",
       "    </tr>\n",
       "    <tr>\n",
       "      <th>armedforcesrate</th>\n",
       "      <td>0.5198885398</td>\n",
       "      <td>0.8751700394</td>\n",
       "      <td>0.6745301134</td>\n",
       "    </tr>\n",
       "    <tr>\n",
       "      <th>incomeperperson</th>\n",
       "      <td>1.0000007997</td>\n",
       "      <td>1.0001064526</td>\n",
       "      <td>1.0000536248</td>\n",
       "    </tr>\n",
       "  </tbody>\n",
       "</table>\n",
       "</div>"
      ],
      "text/plain": [
       "                 Lower Conf. Int.  Upper Conf. Int.   Odds Ratio\n",
       "Intercept            1.8918349772      4.1463022606 2.8007355539\n",
       "armedforcesrate      0.5198885398      0.8751700394 0.6745301134\n",
       "incomeperperson      1.0000007997      1.0001064526 1.0000536248"
      ]
     },
     "execution_count": 184,
     "metadata": {},
     "output_type": "execute_result"
    }
   ],
   "source": [
    "pd.set_option('display.float_format', '{:,.10f}'.format)\n",
    "log_summary = log_model.conf_int()\n",
    "log_summary['OR'] = log_model.params\n",
    "log_summary.columns = ['Lower Conf. Int.', 'Upper Conf. Int.', 'Odds Ratio']\n",
    "log_summary = np.exp(log_summary)\n",
    "log_summary"
   ]
  },
  {
   "cell_type": "code",
   "execution_count": 185,
   "metadata": {
    "collapsed": true
   },
   "outputs": [],
   "source": [
    "pd.set_option('display.float_format', '{:,.2f}'.format)"
   ]
  },
  {
   "cell_type": "markdown",
   "metadata": {},
   "source": [
    " "
   ]
  },
  {
   "cell_type": "markdown",
   "metadata": {},
   "source": [
    "The armedforcesrate vairable has an odds ratio 0.675 which is less than 1, the confidence interval for the odds ratio also shows the value is most likely less than 1. This indicates that as armedforcesrate increases an 'outcome happening' (i.e. category value 1) response is less likely. So as the armedforcesrate value increases, countries in the sample are less likely to have a neutral or positive polityscore. A negative polityscore indicates more transitary, or volatile, government structure."
   ]
  },
  {
   "cell_type": "markdown",
   "metadata": {},
   "source": [
    "The incomeperperson variable has an odds ratio 1.000 which is equal to 1, the confidence interval for the odds ratio also shows the value is most likely incredibly close to 1, sitting just above it. This indicates that as incomeperperson increases an 'outcome happening' response is as equally likely as an 'outcome not happening' (i.e. category value 0) response. So as the incomeperperson value increases, countries in the sample are just as likely to have either a positive, neutral, or positive polityscore. This doesn't give us any extra information about the polityscore of the country in question, but it should be retained in the model as it is counfounding the association between polityscore_recoded and armedforcesrate."
   ]
  },
  {
   "cell_type": "markdown",
   "metadata": {},
   "source": [
    " "
   ]
  },
  {
   "cell_type": "markdown",
   "metadata": {},
   "source": [
    "<b>STEP 2</b>"
   ]
  },
  {
   "cell_type": "markdown",
   "metadata": {},
   "source": [
    "The results have proved that there <i>is an association</i> between polityscore_recoded and armedforcesrate. So the analysis supports my hypothesis."
   ]
  },
  {
   "cell_type": "markdown",
   "metadata": {},
   "source": [
    "<b>STEP 3</b>"
   ]
  },
  {
   "cell_type": "markdown",
   "metadata": {},
   "source": [
    "I found that there was a confounding factor in the form of the incomeperperson variable. The p-value in the model containing only one explanetory variable is 0.004396. The p-value for the armedforcesrate coefficent in the model containing two explanetory variables is 0.003041. So in the model with the confounding variable the association is stronger between the polityscore and armedforcesrate variables, indicating that counfouding of the relationship had been taking place that was reduced by introducing the incomeperperson variable."
   ]
  }
 ],
 "metadata": {
  "anaconda-cloud": {},
  "kernelspec": {
   "display_name": "Python [Root]",
   "language": "python",
   "name": "Python [Root]"
  },
  "language_info": {
   "codemirror_mode": {
    "name": "ipython",
    "version": 3
   },
   "file_extension": ".py",
   "mimetype": "text/x-python",
   "name": "python",
   "nbconvert_exporter": "python",
   "pygments_lexer": "ipython3",
   "version": "3.5.2"
  }
 },
 "nbformat": 4,
 "nbformat_minor": 0
}
