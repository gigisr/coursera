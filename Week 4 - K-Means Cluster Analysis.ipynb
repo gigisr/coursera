{
 "cells": [
  {
   "cell_type": "markdown",
   "metadata": {},
   "source": [
    "<h1>Machine Learning for Data Analysis</h1>\n",
    "<i><h2>Week 4 - K-Means Cluster Analaysis</h2></i>"
   ]
  },
  {
   "cell_type": "markdown",
   "metadata": {},
   "source": [
    "The data set I am using is the Gapminder data set. A series of observational variables that have independent sources that have been centralised into one set."
   ]
  },
  {
   "cell_type": "markdown",
   "metadata": {},
   "source": [
    "I am investigating the association between incomeperperson and armedforcesrate. The association, or hypothesis, I am expecting is for higher incomeperperson there will be a lower armedforcesrate. So my coefficient to my explanetory variable should be less than 0. I will also be looking at the type of government, the polityscore variable, and seeing if that has a confounding effect."
   ]
  },
  {
   "cell_type": "markdown",
   "metadata": {},
   "source": [
    "For the k-means cluster analysis I will be using the explanetory variables incomeperperson, polityscore, lifeexpectancy, alcconsumption, co2emissions, urbanrate (which were identified by the LASSO regression analysis last week) and the reponse variable armedforcesrate to try and identify associated clusters in polityscore. I will use country to act as a unique identifier for each observation."
   ]
  },
  {
   "cell_type": "markdown",
   "metadata": {},
   "source": [
    "<h3>SET UP</h3>"
   ]
  },
  {
   "cell_type": "markdown",
   "metadata": {},
   "source": [
    "<i>Import appropraite packages and set appropriate options</i>"
   ]
  },
  {
   "cell_type": "code",
   "execution_count": 1,
   "metadata": {
    "collapsed": false
   },
   "outputs": [],
   "source": [
    "#Data structures and data types\n",
    "import pandas as pd\n",
    "import numpy as np\n",
    "#Modelling\n",
    "from sklearn.cross_validation import train_test_split\n",
    "from sklearn import preprocessing\n",
    "from sklearn.cluster import KMeans\n",
    "from scipy.spatial.distance import cdist\n",
    "from sklearn.decomposition import PCA\n",
    "import statsmodels.formula.api as smf\n",
    "import statsmodels.stats.multicomp as multi\n",
    "#Graph\n",
    "import matplotlib.pyplot as plt\n",
    "import matplotlib.patches as mpatches\n",
    "import seaborn\n",
    "%matplotlib inline"
   ]
  },
  {
   "cell_type": "code",
   "execution_count": 2,
   "metadata": {
    "collapsed": false
   },
   "outputs": [],
   "source": [
    "pd.set_option('display.float_format', '{:,.2f}'.format)\n",
    "pd.set_option('display.max_columns', None)"
   ]
  },
  {
   "cell_type": "markdown",
   "metadata": {},
   "source": [
    "<i>Read in the data set</i>"
   ]
  },
  {
   "cell_type": "code",
   "execution_count": 3,
   "metadata": {
    "collapsed": false
   },
   "outputs": [],
   "source": [
    "usecols = ['incomeperperson', 'armedforcesrate', 'polityscore', 'country', \\\n",
    "           'lifeexpectancy', 'alcconsumption','co2emissions', 'urbanrate']\n",
    "gap_data = pd.read_csv('gapminder.csv', usecols = usecols, index_col='country')"
   ]
  },
  {
   "cell_type": "markdown",
   "metadata": {},
   "source": [
    "<i>Replace spaces with blanks and coerce into numeric, replacing the spaces with an empty string is needed for converting to numeric</i>"
   ]
  },
  {
   "cell_type": "code",
   "execution_count": 4,
   "metadata": {
    "collapsed": false
   },
   "outputs": [],
   "source": [
    "gap_data.loc[:,'incomeperperson'] = pd.to_numeric(gap_data['incomeperperson'].replace(' ',''))\n",
    "gap_data.loc[:,'armedforcesrate'] = pd.to_numeric(gap_data['armedforcesrate'].replace(' ',''))\n",
    "gap_data.loc[:,'polityscore'] = pd.to_numeric(gap_data['polityscore'].replace(' ',''))\n",
    "gap_data.loc[:,'lifeexpectancy'] = pd.to_numeric(gap_data['lifeexpectancy'].replace(' ',''))\n",
    "gap_data.loc[:,'alcconsumption'] = pd.to_numeric(gap_data['alcconsumption'].replace(' ',''))\n",
    "gap_data.loc[:,'co2emissions'] = pd.to_numeric(gap_data['co2emissions'].replace(' ',''))\n",
    "gap_data.loc[:,'urbanrate'] = pd.to_numeric(gap_data['urbanrate'].replace(' ',''))"
   ]
  },
  {
   "cell_type": "markdown",
   "metadata": {},
   "source": [
    "<i>Remove any rows where there are nulls</i>"
   ]
  },
  {
   "cell_type": "code",
   "execution_count": 5,
   "metadata": {
    "collapsed": true
   },
   "outputs": [],
   "source": [
    "gap_data.dropna(inplace = True)"
   ]
  },
  {
   "cell_type": "markdown",
   "metadata": {},
   "source": [
    "<i>Convert the polityscore variable to integer</i>"
   ]
  },
  {
   "cell_type": "code",
   "execution_count": 6,
   "metadata": {
    "collapsed": true
   },
   "outputs": [],
   "source": [
    "gap_data.loc[:,'polityscore'] = gap_data.loc[:,'polityscore'].astype('int')"
   ]
  },
  {
   "cell_type": "markdown",
   "metadata": {},
   "source": [
    "<i>Look at some information about the data set</i>"
   ]
  },
  {
   "cell_type": "code",
   "execution_count": 7,
   "metadata": {
    "collapsed": false
   },
   "outputs": [
    {
     "data": {
      "text/plain": [
       "(147, 7)"
      ]
     },
     "execution_count": 7,
     "metadata": {},
     "output_type": "execute_result"
    }
   ],
   "source": [
    "gap_data.shape"
   ]
  },
  {
   "cell_type": "code",
   "execution_count": 8,
   "metadata": {
    "collapsed": false
   },
   "outputs": [
    {
     "data": {
      "text/plain": [
       "incomeperperson    float64\n",
       "alcconsumption     float64\n",
       "armedforcesrate    float64\n",
       "co2emissions       float64\n",
       "lifeexpectancy     float64\n",
       "polityscore          int32\n",
       "urbanrate          float64\n",
       "dtype: object"
      ]
     },
     "execution_count": 8,
     "metadata": {},
     "output_type": "execute_result"
    }
   ],
   "source": [
    "gap_data.dtypes"
   ]
  },
  {
   "cell_type": "code",
   "execution_count": 9,
   "metadata": {
    "collapsed": false
   },
   "outputs": [
    {
     "data": {
      "text/html": [
       "<div>\n",
       "<table border=\"1\" class=\"dataframe\">\n",
       "  <thead>\n",
       "    <tr style=\"text-align: right;\">\n",
       "      <th></th>\n",
       "      <th>incomeperperson</th>\n",
       "      <th>alcconsumption</th>\n",
       "      <th>armedforcesrate</th>\n",
       "      <th>co2emissions</th>\n",
       "      <th>lifeexpectancy</th>\n",
       "      <th>polityscore</th>\n",
       "      <th>urbanrate</th>\n",
       "    </tr>\n",
       "  </thead>\n",
       "  <tbody>\n",
       "    <tr>\n",
       "      <th>count</th>\n",
       "      <td>147.00</td>\n",
       "      <td>147.00</td>\n",
       "      <td>147.00</td>\n",
       "      <td>147.00</td>\n",
       "      <td>147.00</td>\n",
       "      <td>147.00</td>\n",
       "      <td>147.00</td>\n",
       "    </tr>\n",
       "    <tr>\n",
       "      <th>mean</th>\n",
       "      <td>6,834.70</td>\n",
       "      <td>6.93</td>\n",
       "      <td>1.39</td>\n",
       "      <td>6,735,854,963.72</td>\n",
       "      <td>69.06</td>\n",
       "      <td>3.81</td>\n",
       "      <td>56.36</td>\n",
       "    </tr>\n",
       "    <tr>\n",
       "      <th>std</th>\n",
       "      <td>9,940.24</td>\n",
       "      <td>5.13</td>\n",
       "      <td>1.55</td>\n",
       "      <td>29,857,863,523.92</td>\n",
       "      <td>9.91</td>\n",
       "      <td>6.21</td>\n",
       "      <td>22.05</td>\n",
       "    </tr>\n",
       "    <tr>\n",
       "      <th>min</th>\n",
       "      <td>103.78</td>\n",
       "      <td>0.05</td>\n",
       "      <td>0.00</td>\n",
       "      <td>850,666.67</td>\n",
       "      <td>47.79</td>\n",
       "      <td>-10.00</td>\n",
       "      <td>10.40</td>\n",
       "    </tr>\n",
       "    <tr>\n",
       "      <th>25%</th>\n",
       "      <td>576.39</td>\n",
       "      <td>2.62</td>\n",
       "      <td>0.46</td>\n",
       "      <td>98,019,166.67</td>\n",
       "      <td>62.28</td>\n",
       "      <td>-2.00</td>\n",
       "      <td>38.17</td>\n",
       "    </tr>\n",
       "    <tr>\n",
       "      <th>50%</th>\n",
       "      <td>2,231.99</td>\n",
       "      <td>6.12</td>\n",
       "      <td>0.93</td>\n",
       "      <td>428,006,333.33</td>\n",
       "      <td>72.97</td>\n",
       "      <td>6.00</td>\n",
       "      <td>59.46</td>\n",
       "    </tr>\n",
       "    <tr>\n",
       "      <th>75%</th>\n",
       "      <td>7,063.96</td>\n",
       "      <td>10.12</td>\n",
       "      <td>1.60</td>\n",
       "      <td>2,577,938,000.00</td>\n",
       "      <td>76.13</td>\n",
       "      <td>9.00</td>\n",
       "      <td>73.02</td>\n",
       "    </tr>\n",
       "    <tr>\n",
       "      <th>max</th>\n",
       "      <td>39,972.35</td>\n",
       "      <td>23.01</td>\n",
       "      <td>9.82</td>\n",
       "      <td>334,220,872,333.33</td>\n",
       "      <td>83.39</td>\n",
       "      <td>10.00</td>\n",
       "      <td>100.00</td>\n",
       "    </tr>\n",
       "  </tbody>\n",
       "</table>\n",
       "</div>"
      ],
      "text/plain": [
       "       incomeperperson  alcconsumption  armedforcesrate       co2emissions  \\\n",
       "count           147.00          147.00           147.00             147.00   \n",
       "mean          6,834.70            6.93             1.39   6,735,854,963.72   \n",
       "std           9,940.24            5.13             1.55  29,857,863,523.92   \n",
       "min             103.78            0.05             0.00         850,666.67   \n",
       "25%             576.39            2.62             0.46      98,019,166.67   \n",
       "50%           2,231.99            6.12             0.93     428,006,333.33   \n",
       "75%           7,063.96           10.12             1.60   2,577,938,000.00   \n",
       "max          39,972.35           23.01             9.82 334,220,872,333.33   \n",
       "\n",
       "       lifeexpectancy  polityscore  urbanrate  \n",
       "count          147.00       147.00     147.00  \n",
       "mean            69.06         3.81      56.36  \n",
       "std              9.91         6.21      22.05  \n",
       "min             47.79       -10.00      10.40  \n",
       "25%             62.28        -2.00      38.17  \n",
       "50%             72.97         6.00      59.46  \n",
       "75%             76.13         9.00      73.02  \n",
       "max             83.39        10.00     100.00  "
      ]
     },
     "execution_count": 9,
     "metadata": {},
     "output_type": "execute_result"
    }
   ],
   "source": [
    "gap_data.describe()"
   ]
  },
  {
   "cell_type": "markdown",
   "metadata": {},
   "source": [
    "<h2>Assignment - Calculations</h2>"
   ]
  },
  {
   "cell_type": "markdown",
   "metadata": {},
   "source": [
    "<i>Transform the explanetory variables to have the same scale, mean of 0, standard deviation of 1</i>"
   ]
  },
  {
   "cell_type": "markdown",
   "metadata": {},
   "source": [
    "I drop the polityscore column as I will be using this later to check for underlying patterns in the cluster assignments"
   ]
  },
  {
   "cell_type": "code",
   "execution_count": 10,
   "metadata": {
    "collapsed": true
   },
   "outputs": [],
   "source": [
    "cluster_data = gap_data.drop('polityscore', axis = 1).copy()"
   ]
  },
  {
   "cell_type": "code",
   "execution_count": 11,
   "metadata": {
    "collapsed": false
   },
   "outputs": [
    {
     "name": "stderr",
     "output_type": "stream",
     "text": [
      "C:\\Users\\georg\\Anaconda3\\lib\\site-packages\\sklearn\\preprocessing\\data.py:167: UserWarning: Numerical issues were encountered when centering the data and might not be solved. Dataset may contain too large values. You may need to prescale your features.\n",
      "  warnings.warn(\"Numerical issues were encountered \"\n"
     ]
    }
   ],
   "source": [
    "for col in cluster_data:\n",
    "    cluster_data.loc[:,col] = preprocessing.scale(cluster_data.loc[:,col])"
   ]
  },
  {
   "cell_type": "markdown",
   "metadata": {},
   "source": [
    "The warning above is ignorable, it has done the necessary scaling of the variable, it is predicting having a problem with the co2emissions variable which we can see above has very large values"
   ]
  },
  {
   "cell_type": "code",
   "execution_count": 12,
   "metadata": {
    "collapsed": false
   },
   "outputs": [
    {
     "data": {
      "text/html": [
       "<div>\n",
       "<table border=\"1\" class=\"dataframe\">\n",
       "  <thead>\n",
       "    <tr style=\"text-align: right;\">\n",
       "      <th></th>\n",
       "      <th>incomeperperson</th>\n",
       "      <th>alcconsumption</th>\n",
       "      <th>armedforcesrate</th>\n",
       "      <th>co2emissions</th>\n",
       "      <th>lifeexpectancy</th>\n",
       "      <th>urbanrate</th>\n",
       "    </tr>\n",
       "  </thead>\n",
       "  <tbody>\n",
       "    <tr>\n",
       "      <th>mean</th>\n",
       "      <td>-0.00</td>\n",
       "      <td>0.00</td>\n",
       "      <td>0.00</td>\n",
       "      <td>-0.00</td>\n",
       "      <td>-0.00</td>\n",
       "      <td>-0.00</td>\n",
       "    </tr>\n",
       "    <tr>\n",
       "      <th>std</th>\n",
       "      <td>1.00</td>\n",
       "      <td>1.00</td>\n",
       "      <td>1.00</td>\n",
       "      <td>1.00</td>\n",
       "      <td>1.00</td>\n",
       "      <td>1.00</td>\n",
       "    </tr>\n",
       "  </tbody>\n",
       "</table>\n",
       "</div>"
      ],
      "text/plain": [
       "      incomeperperson  alcconsumption  armedforcesrate  co2emissions  \\\n",
       "mean            -0.00            0.00             0.00         -0.00   \n",
       "std              1.00            1.00             1.00          1.00   \n",
       "\n",
       "      lifeexpectancy  urbanrate  \n",
       "mean           -0.00      -0.00  \n",
       "std             1.00       1.00  "
      ]
     },
     "execution_count": 12,
     "metadata": {},
     "output_type": "execute_result"
    }
   ],
   "source": [
    "cluster_data.describe().loc[['mean','std'],:]"
   ]
  },
  {
   "cell_type": "markdown",
   "metadata": {},
   "source": [
    "<i>Split out the data set into training and test data subsets</i>"
   ]
  },
  {
   "cell_type": "code",
   "execution_count": 13,
   "metadata": {
    "collapsed": true
   },
   "outputs": [],
   "source": [
    "clus_train, clus_test = train_test_split(cluster_data, test_size = 0.3, random_state = 99)"
   ]
  },
  {
   "cell_type": "markdown",
   "metadata": {},
   "source": [
    "<i>Evaluate data set for a series of different number of clusters</i>"
   ]
  },
  {
   "cell_type": "code",
   "execution_count": 14,
   "metadata": {
    "collapsed": false
   },
   "outputs": [],
   "source": [
    "mean_dist = []\n",
    "for k in range(1,11):\n",
    "    model = KMeans(n_clusters = k)\n",
    "    model.fit(clus_train)\n",
    "    clus_pred = model.predict(clus_train)\n",
    "    value = sum(np.min(cdist(clus_train, model.cluster_centers_, 'euclidean'), axis = 1) / clus_train.shape[0])\n",
    "    mean_dist.append(value)"
   ]
  },
  {
   "cell_type": "code",
   "execution_count": 15,
   "metadata": {
    "collapsed": false
   },
   "outputs": [
    {
     "data": {
      "text/plain": [
       "[2.0903226897141294,\n",
       " 1.6537825953898078,\n",
       " 1.4959859637585486,\n",
       " 1.2560972850004448,\n",
       " 1.150026489686214,\n",
       " 1.1028423220495871,\n",
       " 1.0538517257014526,\n",
       " 0.97880725744086949,\n",
       " 0.92107731914358759,\n",
       " 0.88973461661765552]"
      ]
     },
     "execution_count": 15,
     "metadata": {},
     "output_type": "execute_result"
    }
   ],
   "source": [
    "mean_dist"
   ]
  },
  {
   "cell_type": "markdown",
   "metadata": {},
   "source": [
    "<i>Plot the average distance calculated</i>"
   ]
  },
  {
   "cell_type": "code",
   "execution_count": 16,
   "metadata": {
    "collapsed": false
   },
   "outputs": [
    {
     "data": {
      "text/plain": [
       "<matplotlib.text.Text at 0x14c0d33f5f8>"
      ]
     },
     "execution_count": 16,
     "metadata": {},
     "output_type": "execute_result"
    },
    {
     "data": {
      "image/png": "[encoded data removed]",
      "text/plain": [
       "<matplotlib.figure.Figure at 0x14c0d2b3da0>"
      ]
     },
     "metadata": {},
     "output_type": "display_data"
    }
   ],
   "source": [
    "plt.plot(range(1,11), mean_dist)\n",
    "plt.xlabel('Number of clusters')\n",
    "plt.ylabel('Average distance')\n",
    "plt.title('Selecting k with the elbow method')"
   ]
  },
  {
   "cell_type": "markdown",
   "metadata": {},
   "source": [
    "I think the 'bend' point at which adding more clusters is meaningless is around 4 clusters."
   ]
  },
  {
   "cell_type": "markdown",
   "metadata": {},
   "source": [
    "<i>Interpreting the 4 cluster model</i>"
   ]
  },
  {
   "cell_type": "code",
   "execution_count": 17,
   "metadata": {
    "collapsed": true
   },
   "outputs": [],
   "source": [
    "model = KMeans(n_clusters = 4)\n",
    "model.fit(clus_train)\n",
    "clus_assign = model.predict(clus_train)"
   ]
  },
  {
   "cell_type": "markdown",
   "metadata": {},
   "source": [
    "<i>Plot the clusters on the first two cononical variables</i>"
   ]
  },
  {
   "cell_type": "code",
   "execution_count": 18,
   "metadata": {
    "collapsed": false
   },
   "outputs": [
    {
     "data": {
      "text/plain": [
       "<matplotlib.colorbar.Colorbar at 0x14c0e947470>"
      ]
     },
     "execution_count": 18,
     "metadata": {},
     "output_type": "execute_result"
    },
    {
     "data": {
      "image/png": "[encoded data removed]",
      "text/plain": [
       "<matplotlib.figure.Figure at 0x14c0e891c88>"
      ]
     },
     "metadata": {},
     "output_type": "display_data"
    }
   ],
   "source": [
    "pca_2 = PCA(2)\n",
    "plot_columns = pca_2.fit_transform(clus_train)\n",
    "plt.scatter(x = plot_columns[:,0], y = plot_columns[:,1]\n",
    "           , c = model.labels_, cmap = 'viridis')\n",
    "plt.xlabel('Cononical variable 1')\n",
    "plt.ylabel('Cononical variable 2')\n",
    "plt.title('Scatter plot of cononical variables for 4 clusters')\n",
    "plt.colorbar()"
   ]
  },
  {
   "cell_type": "markdown",
   "metadata": {},
   "source": [
    "<i>Link the cluster assignment variable back to its corresponding observation</i>"
   ]
  },
  {
   "cell_type": "code",
   "execution_count": 19,
   "metadata": {
    "collapsed": false
   },
   "outputs": [],
   "source": [
    "clus_train.reset_index(inplace = True)"
   ]
  },
  {
   "cell_type": "markdown",
   "metadata": {},
   "source": [
    "So now the column 'country' is to act as our index"
   ]
  },
  {
   "cell_type": "code",
   "execution_count": 20,
   "metadata": {
    "collapsed": false
   },
   "outputs": [],
   "source": [
    "new_frame = pd.DataFrame(model.labels_, columns = ['cluster'])\n",
    "new_frame.index = clus_train.country"
   ]
  },
  {
   "cell_type": "markdown",
   "metadata": {},
   "source": [
    "Look at the data frame to see the unique identifier 'country' against the assigned cluster"
   ]
  },
  {
   "cell_type": "code",
   "execution_count": 21,
   "metadata": {
    "collapsed": false,
    "scrolled": true
   },
   "outputs": [
    {
     "data": {
      "text/html": [
       "<div>\n",
       "<table border=\"1\" class=\"dataframe\">\n",
       "  <thead>\n",
       "    <tr style=\"text-align: right;\">\n",
       "      <th>country</th>\n",
       "      <th>Germany</th>\n",
       "      <th>Lithuania</th>\n",
       "      <th>Iraq</th>\n",
       "      <th>Nicaragua</th>\n",
       "      <th>Mauritius</th>\n",
       "      <th>El Salvador</th>\n",
       "      <th>Japan</th>\n",
       "      <th>Ghana</th>\n",
       "      <th>Mauritania</th>\n",
       "      <th>Czech Rep.</th>\n",
       "      <th>Botswana</th>\n",
       "      <th>Gabon</th>\n",
       "      <th>Haiti</th>\n",
       "      <th>Guinea-Bissau</th>\n",
       "      <th>Uzbekistan</th>\n",
       "      <th>Uganda</th>\n",
       "      <th>Ireland</th>\n",
       "      <th>Singapore</th>\n",
       "      <th>Panama</th>\n",
       "      <th>Oman</th>\n",
       "      <th>Macedonia, FYR</th>\n",
       "      <th>Congo, Rep.</th>\n",
       "      <th>Azerbaijan</th>\n",
       "      <th>Argentina</th>\n",
       "      <th>Tajikistan</th>\n",
       "      <th>Dominican Rep.</th>\n",
       "      <th>Eritrea</th>\n",
       "      <th>Senegal</th>\n",
       "      <th>Rwanda</th>\n",
       "      <th>Guatemala</th>\n",
       "      <th>Peru</th>\n",
       "      <th>Nepal</th>\n",
       "      <th>Qatar</th>\n",
       "      <th>Croatia</th>\n",
       "      <th>United Kingdom</th>\n",
       "      <th>Iran</th>\n",
       "      <th>Fiji</th>\n",
       "      <th>Paraguay</th>\n",
       "      <th>Syria</th>\n",
       "      <th>Costa Rica</th>\n",
       "      <th>Saudi Arabia</th>\n",
       "      <th>Venezuela</th>\n",
       "      <th>Tunisia</th>\n",
       "      <th>Hungary</th>\n",
       "      <th>Burundi</th>\n",
       "      <th>Malawi</th>\n",
       "      <th>Slovak Republic</th>\n",
       "      <th>Israel</th>\n",
       "      <th>Ecuador</th>\n",
       "      <th>Niger</th>\n",
       "      <th>India</th>\n",
       "      <th>Chad</th>\n",
       "      <th>Albania</th>\n",
       "      <th>Portugal</th>\n",
       "      <th>Tanzania</th>\n",
       "      <th>Mexico</th>\n",
       "      <th>Sudan</th>\n",
       "      <th>Latvia</th>\n",
       "      <th>Lebanon</th>\n",
       "      <th>Sierra Leone</th>\n",
       "      <th>Cyprus</th>\n",
       "      <th>Sweden</th>\n",
       "      <th>Netherlands</th>\n",
       "      <th>Namibia</th>\n",
       "      <th>Belgium</th>\n",
       "      <th>Laos</th>\n",
       "      <th>Ethiopia</th>\n",
       "      <th>Algeria</th>\n",
       "      <th>Morocco</th>\n",
       "      <th>Greece</th>\n",
       "      <th>New Zealand</th>\n",
       "      <th>Benin</th>\n",
       "      <th>Australia</th>\n",
       "      <th>Ukraine</th>\n",
       "      <th>Georgia</th>\n",
       "      <th>Colombia</th>\n",
       "      <th>Central African Rep.</th>\n",
       "      <th>Cambodia</th>\n",
       "      <th>Nigeria</th>\n",
       "      <th>Equatorial Guinea</th>\n",
       "      <th>Romania</th>\n",
       "      <th>Canada</th>\n",
       "      <th>Cuba</th>\n",
       "      <th>Korea, Rep.</th>\n",
       "      <th>Burkina Faso</th>\n",
       "      <th>Togo</th>\n",
       "      <th>Indonesia</th>\n",
       "      <th>Congo, Dem. Rep.</th>\n",
       "      <th>France</th>\n",
       "      <th>Libya</th>\n",
       "      <th>Egypt</th>\n",
       "      <th>Uruguay</th>\n",
       "      <th>Cameroon</th>\n",
       "      <th>Timor-Leste</th>\n",
       "      <th>Philippines</th>\n",
       "      <th>Honduras</th>\n",
       "      <th>Guinea</th>\n",
       "      <th>Zambia</th>\n",
       "      <th>Zimbabwe</th>\n",
       "      <th>Jamaica</th>\n",
       "      <th>Denmark</th>\n",
       "      <th>Thailand</th>\n",
       "    </tr>\n",
       "  </thead>\n",
       "  <tbody>\n",
       "    <tr>\n",
       "      <th>cluster</th>\n",
       "      <td>2</td>\n",
       "      <td>0</td>\n",
       "      <td>3</td>\n",
       "      <td>0</td>\n",
       "      <td>0</td>\n",
       "      <td>0</td>\n",
       "      <td>2</td>\n",
       "      <td>1</td>\n",
       "      <td>1</td>\n",
       "      <td>0</td>\n",
       "      <td>1</td>\n",
       "      <td>0</td>\n",
       "      <td>1</td>\n",
       "      <td>1</td>\n",
       "      <td>1</td>\n",
       "      <td>1</td>\n",
       "      <td>2</td>\n",
       "      <td>3</td>\n",
       "      <td>0</td>\n",
       "      <td>3</td>\n",
       "      <td>0</td>\n",
       "      <td>1</td>\n",
       "      <td>0</td>\n",
       "      <td>0</td>\n",
       "      <td>1</td>\n",
       "      <td>0</td>\n",
       "      <td>3</td>\n",
       "      <td>1</td>\n",
       "      <td>1</td>\n",
       "      <td>0</td>\n",
       "      <td>0</td>\n",
       "      <td>1</td>\n",
       "      <td>2</td>\n",
       "      <td>0</td>\n",
       "      <td>2</td>\n",
       "      <td>0</td>\n",
       "      <td>0</td>\n",
       "      <td>0</td>\n",
       "      <td>3</td>\n",
       "      <td>0</td>\n",
       "      <td>0</td>\n",
       "      <td>0</td>\n",
       "      <td>0</td>\n",
       "      <td>0</td>\n",
       "      <td>1</td>\n",
       "      <td>1</td>\n",
       "      <td>0</td>\n",
       "      <td>3</td>\n",
       "      <td>0</td>\n",
       "      <td>1</td>\n",
       "      <td>1</td>\n",
       "      <td>1</td>\n",
       "      <td>0</td>\n",
       "      <td>0</td>\n",
       "      <td>1</td>\n",
       "      <td>0</td>\n",
       "      <td>1</td>\n",
       "      <td>0</td>\n",
       "      <td>3</td>\n",
       "      <td>1</td>\n",
       "      <td>0</td>\n",
       "      <td>2</td>\n",
       "      <td>2</td>\n",
       "      <td>1</td>\n",
       "      <td>2</td>\n",
       "      <td>3</td>\n",
       "      <td>1</td>\n",
       "      <td>0</td>\n",
       "      <td>0</td>\n",
       "      <td>0</td>\n",
       "      <td>2</td>\n",
       "      <td>1</td>\n",
       "      <td>2</td>\n",
       "      <td>0</td>\n",
       "      <td>0</td>\n",
       "      <td>0</td>\n",
       "      <td>1</td>\n",
       "      <td>1</td>\n",
       "      <td>1</td>\n",
       "      <td>1</td>\n",
       "      <td>0</td>\n",
       "      <td>2</td>\n",
       "      <td>0</td>\n",
       "      <td>2</td>\n",
       "      <td>1</td>\n",
       "      <td>1</td>\n",
       "      <td>0</td>\n",
       "      <td>1</td>\n",
       "      <td>2</td>\n",
       "      <td>3</td>\n",
       "      <td>3</td>\n",
       "      <td>0</td>\n",
       "      <td>1</td>\n",
       "      <td>1</td>\n",
       "      <td>0</td>\n",
       "      <td>0</td>\n",
       "      <td>1</td>\n",
       "      <td>1</td>\n",
       "      <td>1</td>\n",
       "      <td>0</td>\n",
       "      <td>2</td>\n",
       "      <td>0</td>\n",
       "    </tr>\n",
       "  </tbody>\n",
       "</table>\n",
       "</div>"
      ],
      "text/plain": [
       "country  Germany  Lithuania  Iraq  Nicaragua  Mauritius  El Salvador  Japan  \\\n",
       "cluster        2          0     3          0          0            0      2   \n",
       "\n",
       "country  Ghana  Mauritania  Czech Rep.  Botswana  Gabon  Haiti  Guinea-Bissau  \\\n",
       "cluster      1           1           0         1      0      1              1   \n",
       "\n",
       "country  Uzbekistan  Uganda  Ireland  Singapore  Panama  Oman  Macedonia, FYR  \\\n",
       "cluster           1       1        2          3       0     3               0   \n",
       "\n",
       "country  Congo, Rep.  Azerbaijan  Argentina  Tajikistan  Dominican Rep.  \\\n",
       "cluster            1           0          0           1               0   \n",
       "\n",
       "country  Eritrea  Senegal  Rwanda  Guatemala  Peru  Nepal  Qatar  Croatia  \\\n",
       "cluster        3        1       1          0     0      1      2        0   \n",
       "\n",
       "country  United Kingdom  Iran  Fiji  Paraguay  Syria  Costa Rica  \\\n",
       "cluster               2     0     0         0      3           0   \n",
       "\n",
       "country  Saudi Arabia  Venezuela  Tunisia  Hungary  Burundi  Malawi  \\\n",
       "cluster             0          0        0        0        1       1   \n",
       "\n",
       "country  Slovak Republic  Israel  Ecuador  Niger  India  Chad  Albania  \\\n",
       "cluster                0       3        0      1      1     1        0   \n",
       "\n",
       "country  Portugal  Tanzania  Mexico  Sudan  Latvia  Lebanon  Sierra Leone  \\\n",
       "cluster         0         1       0      1       0        3             1   \n",
       "\n",
       "country  Cyprus  Sweden  Netherlands  Namibia  Belgium  Laos  Ethiopia  \\\n",
       "cluster       0       2            2        1        2     3         1   \n",
       "\n",
       "country  Algeria  Morocco  Greece  New Zealand  Benin  Australia  Ukraine  \\\n",
       "cluster        0        0       0            2      1          2        0   \n",
       "\n",
       "country  Georgia  Colombia  Central African Rep.  Cambodia  Nigeria  \\\n",
       "cluster        0         0                     1         1        1   \n",
       "\n",
       "country  Equatorial Guinea  Romania  Canada  Cuba  Korea, Rep.  Burkina Faso  \\\n",
       "cluster                  1        0       2     0            2             1   \n",
       "\n",
       "country  Togo  Indonesia  Congo, Dem. Rep.  France  Libya  Egypt  Uruguay  \\\n",
       "cluster     1          0                 1       2      3      3        0   \n",
       "\n",
       "country  Cameroon  Timor-Leste  Philippines  Honduras  Guinea  Zambia  \\\n",
       "cluster         1            1            0         0       1       1   \n",
       "\n",
       "country  Zimbabwe  Jamaica  Denmark  Thailand  \n",
       "cluster         1        0        2         0  "
      ]
     },
     "execution_count": 21,
     "metadata": {},
     "output_type": "execute_result"
    }
   ],
   "source": [
    "new_frame.T"
   ]
  },
  {
   "cell_type": "markdown",
   "metadata": {},
   "source": [
    "<i>Merge the cluster assignment into the training data set</i>"
   ]
  },
  {
   "cell_type": "code",
   "execution_count": 22,
   "metadata": {
    "collapsed": false
   },
   "outputs": [
    {
     "data": {
      "text/html": [
       "<div>\n",
       "<table border=\"1\" class=\"dataframe\">\n",
       "  <thead>\n",
       "    <tr style=\"text-align: right;\">\n",
       "      <th></th>\n",
       "      <th>cluster</th>\n",
       "      <th>incomeperperson</th>\n",
       "      <th>alcconsumption</th>\n",
       "      <th>armedforcesrate</th>\n",
       "      <th>co2emissions</th>\n",
       "      <th>lifeexpectancy</th>\n",
       "      <th>urbanrate</th>\n",
       "    </tr>\n",
       "  </thead>\n",
       "  <tbody>\n",
       "    <tr>\n",
       "      <th>Germany</th>\n",
       "      <td>2</td>\n",
       "      <td>1.86</td>\n",
       "      <td>1.02</td>\n",
       "      <td>-0.53</td>\n",
       "      <td>1.16</td>\n",
       "      <td>1.15</td>\n",
       "      <td>0.79</td>\n",
       "    </tr>\n",
       "    <tr>\n",
       "      <th>Lithuania</th>\n",
       "      <td>0</td>\n",
       "      <td>-0.15</td>\n",
       "      <td>1.83</td>\n",
       "      <td>0.06</td>\n",
       "      <td>-0.22</td>\n",
       "      <td>0.32</td>\n",
       "      <td>0.48</td>\n",
       "    </tr>\n",
       "    <tr>\n",
       "      <th>Iraq</th>\n",
       "      <td>3</td>\n",
       "      <td>-0.62</td>\n",
       "      <td>-1.26</td>\n",
       "      <td>4.11</td>\n",
       "      <td>-0.14</td>\n",
       "      <td>-0.00</td>\n",
       "      <td>0.47</td>\n",
       "    </tr>\n",
       "    <tr>\n",
       "      <th>Nicaragua</th>\n",
       "      <td>0</td>\n",
       "      <td>-0.59</td>\n",
       "      <td>-0.34</td>\n",
       "      <td>-0.56</td>\n",
       "      <td>-0.22</td>\n",
       "      <td>0.50</td>\n",
       "      <td>0.02</td>\n",
       "    </tr>\n",
       "    <tr>\n",
       "      <th>Mauritius</th>\n",
       "      <td>0</td>\n",
       "      <td>-0.17</td>\n",
       "      <td>-0.66</td>\n",
       "      <td>-0.68</td>\n",
       "      <td>-0.22</td>\n",
       "      <td>0.44</td>\n",
       "      <td>-0.63</td>\n",
       "    </tr>\n",
       "  </tbody>\n",
       "</table>\n",
       "</div>"
      ],
      "text/plain": [
       "           cluster  incomeperperson  alcconsumption  armedforcesrate  \\\n",
       "Germany          2             1.86            1.02            -0.53   \n",
       "Lithuania        0            -0.15            1.83             0.06   \n",
       "Iraq             3            -0.62           -1.26             4.11   \n",
       "Nicaragua        0            -0.59           -0.34            -0.56   \n",
       "Mauritius        0            -0.17           -0.66            -0.68   \n",
       "\n",
       "           co2emissions  lifeexpectancy  urbanrate  \n",
       "Germany            1.16            1.15       0.79  \n",
       "Lithuania         -0.22            0.32       0.48  \n",
       "Iraq              -0.14           -0.00       0.47  \n",
       "Nicaragua         -0.22            0.50       0.02  \n",
       "Mauritius         -0.22            0.44      -0.63  "
      ]
     },
     "execution_count": 22,
     "metadata": {},
     "output_type": "execute_result"
    }
   ],
   "source": [
    "clus_data = pd.concat([new_frame, clus_train.set_index('country')], axis = 1)\n",
    "clus_data.index.name = None\n",
    "clus_data.head()"
   ]
  },
  {
   "cell_type": "markdown",
   "metadata": {},
   "source": [
    "<i>Look into how the cluster groups are distrobuted</i>"
   ]
  },
  {
   "cell_type": "code",
   "execution_count": 23,
   "metadata": {
    "collapsed": false
   },
   "outputs": [
    {
     "data": {
      "text/plain": [
       "0    43\n",
       "1    35\n",
       "2    14\n",
       "3    10\n",
       "Name: cluster, dtype: int64"
      ]
     },
     "execution_count": 23,
     "metadata": {},
     "output_type": "execute_result"
    }
   ],
   "source": [
    "clus_data.cluster.value_counts()"
   ]
  },
  {
   "cell_type": "markdown",
   "metadata": {},
   "source": [
    "<i>The means of each explanetory variable by cluster assignment</i>"
   ]
  },
  {
   "cell_type": "code",
   "execution_count": 24,
   "metadata": {
    "collapsed": false
   },
   "outputs": [
    {
     "data": {
      "text/html": [
       "<div>\n",
       "<table border=\"1\" class=\"dataframe\">\n",
       "  <thead>\n",
       "    <tr style=\"text-align: right;\">\n",
       "      <th></th>\n",
       "      <th>incomeperperson</th>\n",
       "      <th>alcconsumption</th>\n",
       "      <th>armedforcesrate</th>\n",
       "      <th>co2emissions</th>\n",
       "      <th>lifeexpectancy</th>\n",
       "      <th>urbanrate</th>\n",
       "    </tr>\n",
       "    <tr>\n",
       "      <th>cluster</th>\n",
       "      <th></th>\n",
       "      <th></th>\n",
       "      <th></th>\n",
       "      <th></th>\n",
       "      <th></th>\n",
       "      <th></th>\n",
       "    </tr>\n",
       "  </thead>\n",
       "  <tbody>\n",
       "    <tr>\n",
       "      <th>0</th>\n",
       "      <td>-0.23</td>\n",
       "      <td>0.21</td>\n",
       "      <td>-0.09</td>\n",
       "      <td>-0.15</td>\n",
       "      <td>0.50</td>\n",
       "      <td>0.36</td>\n",
       "    </tr>\n",
       "    <tr>\n",
       "      <th>1</th>\n",
       "      <td>-0.61</td>\n",
       "      <td>-0.38</td>\n",
       "      <td>-0.49</td>\n",
       "      <td>-0.19</td>\n",
       "      <td>-1.26</td>\n",
       "      <td>-1.03</td>\n",
       "    </tr>\n",
       "    <tr>\n",
       "      <th>2</th>\n",
       "      <td>2.00</td>\n",
       "      <td>0.78</td>\n",
       "      <td>-0.38</td>\n",
       "      <td>0.43</td>\n",
       "      <td>1.18</td>\n",
       "      <td>1.18</td>\n",
       "    </tr>\n",
       "    <tr>\n",
       "      <th>3</th>\n",
       "      <td>0.17</td>\n",
       "      <td>-1.00</td>\n",
       "      <td>2.76</td>\n",
       "      <td>-0.18</td>\n",
       "      <td>0.40</td>\n",
       "      <td>0.36</td>\n",
       "    </tr>\n",
       "  </tbody>\n",
       "</table>\n",
       "</div>"
      ],
      "text/plain": [
       "         incomeperperson  alcconsumption  armedforcesrate  co2emissions  \\\n",
       "cluster                                                                   \n",
       "0                  -0.23            0.21            -0.09         -0.15   \n",
       "1                  -0.61           -0.38            -0.49         -0.19   \n",
       "2                   2.00            0.78            -0.38          0.43   \n",
       "3                   0.17           -1.00             2.76         -0.18   \n",
       "\n",
       "         lifeexpectancy  urbanrate  \n",
       "cluster                             \n",
       "0                  0.50       0.36  \n",
       "1                 -1.26      -1.03  \n",
       "2                  1.18       1.18  \n",
       "3                  0.40       0.36  "
      ]
     },
     "execution_count": 24,
     "metadata": {},
     "output_type": "execute_result"
    }
   ],
   "source": [
    "clus_data.groupby('cluster').mean()"
   ]
  },
  {
   "cell_type": "markdown",
   "metadata": {},
   "source": [
    "<i>Validate the clusters from the training data by examining differences in polityscore using ANOVA</i>"
   ]
  },
  {
   "cell_type": "code",
   "execution_count": 25,
   "metadata": {
    "collapsed": false
   },
   "outputs": [],
   "source": [
    "sub_data = pd.concat([gap_data.loc[:,'polityscore'], clus_data], axis = 1).dropna().loc[:,['polityscore','cluster']]"
   ]
  },
  {
   "cell_type": "code",
   "execution_count": 26,
   "metadata": {
    "collapsed": false
   },
   "outputs": [
    {
     "data": {
      "text/html": [
       "<table class=\"simpletable\">\n",
       "<caption>OLS Regression Results</caption>\n",
       "<tr>\n",
       "  <th>Dep. Variable:</th>       <td>polityscore</td>   <th>  R-squared:         </th> <td>   0.235</td>\n",
       "</tr>\n",
       "<tr>\n",
       "  <th>Model:</th>                   <td>OLS</td>       <th>  Adj. R-squared:    </th> <td>   0.212</td>\n",
       "</tr>\n",
       "<tr>\n",
       "  <th>Method:</th>             <td>Least Squares</td>  <th>  F-statistic:       </th> <td>   10.06</td>\n",
       "</tr>\n",
       "<tr>\n",
       "  <th>Date:</th>             <td>Sun, 22 Jan 2017</td> <th>  Prob (F-statistic):</th> <td>7.71e-06</td>\n",
       "</tr>\n",
       "<tr>\n",
       "  <th>Time:</th>                 <td>19:24:26</td>     <th>  Log-Likelihood:    </th> <td> -317.22</td>\n",
       "</tr>\n",
       "<tr>\n",
       "  <th>No. Observations:</th>      <td>   102</td>      <th>  AIC:               </th> <td>   642.4</td>\n",
       "</tr>\n",
       "<tr>\n",
       "  <th>Df Residuals:</th>          <td>    98</td>      <th>  BIC:               </th> <td>   652.9</td>\n",
       "</tr>\n",
       "<tr>\n",
       "  <th>Df Model:</th>              <td>     3</td>      <th>                     </th>     <td> </td>   \n",
       "</tr>\n",
       "<tr>\n",
       "  <th>Covariance Type:</th>      <td>nonrobust</td>    <th>                     </th>     <td> </td>   \n",
       "</tr>\n",
       "</table>\n",
       "<table class=\"simpletable\">\n",
       "<tr>\n",
       "          <td></td>             <th>coef</th>     <th>std err</th>      <th>t</th>      <th>P>|t|</th> <th>[95.0% Conf. Int.]</th> \n",
       "</tr>\n",
       "<tr>\n",
       "  <th>Intercept</th>         <td>    5.4651</td> <td>    0.844</td> <td>    6.475</td> <td> 0.000</td> <td>    3.790     7.140</td>\n",
       "</tr>\n",
       "<tr>\n",
       "  <th>C(cluster)[T.1.0]</th> <td>   -3.7223</td> <td>    1.260</td> <td>   -2.954</td> <td> 0.004</td> <td>   -6.223    -1.222</td>\n",
       "</tr>\n",
       "<tr>\n",
       "  <th>C(cluster)[T.2.0]</th> <td>    2.7492</td> <td>    1.703</td> <td>    1.614</td> <td> 0.110</td> <td>   -0.631     6.129</td>\n",
       "</tr>\n",
       "<tr>\n",
       "  <th>C(cluster)[T.3.0]</th> <td>   -7.8651</td> <td>    1.943</td> <td>   -4.048</td> <td> 0.000</td> <td>  -11.721    -4.009</td>\n",
       "</tr>\n",
       "</table>\n",
       "<table class=\"simpletable\">\n",
       "<tr>\n",
       "  <th>Omnibus:</th>       <td>18.285</td> <th>  Durbin-Watson:     </th> <td>   2.135</td>\n",
       "</tr>\n",
       "<tr>\n",
       "  <th>Prob(Omnibus):</th> <td> 0.000</td> <th>  Jarque-Bera (JB):  </th> <td>  21.660</td>\n",
       "</tr>\n",
       "<tr>\n",
       "  <th>Skew:</th>          <td>-1.017</td> <th>  Prob(JB):          </th> <td>1.98e-05</td>\n",
       "</tr>\n",
       "<tr>\n",
       "  <th>Kurtosis:</th>      <td> 3.979</td> <th>  Cond. No.          </th> <td>    4.34</td>\n",
       "</tr>\n",
       "</table>"
      ],
      "text/plain": [
       "<class 'statsmodels.iolib.summary.Summary'>\n",
       "\"\"\"\n",
       "                            OLS Regression Results                            \n",
       "==============================================================================\n",
       "Dep. Variable:            polityscore   R-squared:                       0.235\n",
       "Model:                            OLS   Adj. R-squared:                  0.212\n",
       "Method:                 Least Squares   F-statistic:                     10.06\n",
       "Date:                Sun, 22 Jan 2017   Prob (F-statistic):           7.71e-06\n",
       "Time:                        19:24:26   Log-Likelihood:                -317.22\n",
       "No. Observations:                 102   AIC:                             642.4\n",
       "Df Residuals:                      98   BIC:                             652.9\n",
       "Df Model:                           3                                         \n",
       "Covariance Type:            nonrobust                                         \n",
       "=====================================================================================\n",
       "                        coef    std err          t      P>|t|      [95.0% Conf. Int.]\n",
       "-------------------------------------------------------------------------------------\n",
       "Intercept             5.4651      0.844      6.475      0.000         3.790     7.140\n",
       "C(cluster)[T.1.0]    -3.7223      1.260     -2.954      0.004        -6.223    -1.222\n",
       "C(cluster)[T.2.0]     2.7492      1.703      1.614      0.110        -0.631     6.129\n",
       "C(cluster)[T.3.0]    -7.8651      1.943     -4.048      0.000       -11.721    -4.009\n",
       "==============================================================================\n",
       "Omnibus:                       18.285   Durbin-Watson:                   2.135\n",
       "Prob(Omnibus):                  0.000   Jarque-Bera (JB):               21.660\n",
       "Skew:                          -1.017   Prob(JB):                     1.98e-05\n",
       "Kurtosis:                       3.979   Cond. No.                         4.34\n",
       "==============================================================================\n",
       "\n",
       "Warnings:\n",
       "[1] Standard Errors assume that the covariance matrix of the errors is correctly specified.\n",
       "\"\"\""
      ]
     },
     "execution_count": 26,
     "metadata": {},
     "output_type": "execute_result"
    }
   ],
   "source": [
    "polityscore_mod = smf.ols(formula = 'polityscore ~ C(cluster)', data = sub_data).fit()\n",
    "polityscore_mod.summary()"
   ]
  },
  {
   "cell_type": "markdown",
   "metadata": {},
   "source": [
    "<i>Looking at the means by polityscore</i>"
   ]
  },
  {
   "cell_type": "code",
   "execution_count": 36,
   "metadata": {
    "collapsed": false
   },
   "outputs": [
    {
     "data": {
      "text/html": [
       "<div>\n",
       "<table border=\"1\" class=\"dataframe\">\n",
       "  <thead>\n",
       "    <tr style=\"text-align: right;\">\n",
       "      <th>cluster</th>\n",
       "      <th>0.0</th>\n",
       "      <th>1.0</th>\n",
       "      <th>2.0</th>\n",
       "      <th>3.0</th>\n",
       "    </tr>\n",
       "  </thead>\n",
       "  <tbody>\n",
       "    <tr>\n",
       "      <th>polityscore</th>\n",
       "      <td>5.47</td>\n",
       "      <td>1.74</td>\n",
       "      <td>8.21</td>\n",
       "      <td>-2.40</td>\n",
       "    </tr>\n",
       "  </tbody>\n",
       "</table>\n",
       "</div>"
      ],
      "text/plain": [
       "cluster      0.00  1.00  2.00  3.00\n",
       "polityscore  5.47  1.74  8.21 -2.40"
      ]
     },
     "execution_count": 36,
     "metadata": {},
     "output_type": "execute_result"
    }
   ],
   "source": [
    "means = sub_data.groupby('cluster').mean()\n",
    "means.T"
   ]
  },
  {
   "cell_type": "markdown",
   "metadata": {},
   "source": [
    "<i>Looking at standard deviations by polityscore</i>"
   ]
  },
  {
   "cell_type": "code",
   "execution_count": 28,
   "metadata": {
    "collapsed": false
   },
   "outputs": [
    {
     "data": {
      "text/html": [
       "<div>\n",
       "<table border=\"1\" class=\"dataframe\">\n",
       "  <thead>\n",
       "    <tr style=\"text-align: right;\">\n",
       "      <th>cluster</th>\n",
       "      <th>0.0</th>\n",
       "      <th>1.0</th>\n",
       "      <th>2.0</th>\n",
       "      <th>3.0</th>\n",
       "    </tr>\n",
       "  </thead>\n",
       "  <tbody>\n",
       "    <tr>\n",
       "      <th>polityscore</th>\n",
       "      <td>5.91</td>\n",
       "      <td>4.88</td>\n",
       "      <td>5.29</td>\n",
       "      <td>6.36</td>\n",
       "    </tr>\n",
       "  </tbody>\n",
       "</table>\n",
       "</div>"
      ],
      "text/plain": [
       "cluster      0.00  1.00  2.00  3.00\n",
       "polityscore  5.91  4.88  5.29  6.36"
      ]
     },
     "execution_count": 28,
     "metadata": {},
     "output_type": "execute_result"
    }
   ],
   "source": [
    "stds = sub_data.groupby('cluster').std()\n",
    "stds.T"
   ]
  },
  {
   "cell_type": "code",
   "execution_count": 32,
   "metadata": {
    "collapsed": false
   },
   "outputs": [
    {
     "data": {
      "text/html": [
       "<table class=\"simpletable\">\n",
       "<caption>Multiple Comparison of Means - Tukey HSD,FWER=0.05</caption>\n",
       "<tr>\n",
       "  <th>group1</th> <th>group2</th> <th>meandiff</th>   <th>lower</th>   <th>upper</th>  <th>reject</th>\n",
       "</tr>\n",
       "<tr>\n",
       "    <td>0.0</td>    <td>1.0</td>   <td>-3.7223</td>  <td>-7.0157</td> <td>-0.4288</td>  <td>True</td> \n",
       "</tr>\n",
       "<tr>\n",
       "    <td>0.0</td>    <td>2.0</td>   <td>2.7492</td>   <td>-1.7024</td> <td>7.2007</td>   <td>False</td>\n",
       "</tr>\n",
       "<tr>\n",
       "    <td>0.0</td>    <td>3.0</td>   <td>-7.8651</td> <td>-12.9441</td> <td>-2.7861</td>  <td>True</td> \n",
       "</tr>\n",
       "<tr>\n",
       "    <td>1.0</td>    <td>2.0</td>   <td>6.4714</td>   <td>1.8966</td>  <td>11.0463</td>  <td>True</td> \n",
       "</tr>\n",
       "<tr>\n",
       "    <td>1.0</td>    <td>3.0</td>   <td>-4.1429</td>  <td>-9.3302</td> <td>1.0445</td>   <td>False</td>\n",
       "</tr>\n",
       "<tr>\n",
       "    <td>2.0</td>    <td>3.0</td>  <td>-10.6143</td> <td>-16.6041</td> <td>-4.6244</td>  <td>True</td> \n",
       "</tr>\n",
       "</table>"
      ],
      "text/plain": [
       "<class 'statsmodels.iolib.table.SimpleTable'>"
      ]
     },
     "execution_count": 32,
     "metadata": {},
     "output_type": "execute_result"
    }
   ],
   "source": [
    "multicomparison = multi.MultiComparison(sub_data['polityscore'], sub_data['cluster'])\n",
    "results = multicomparison.tukeyhsd()\n",
    "results.summary()"
   ]
  },
  {
   "cell_type": "markdown",
   "metadata": {},
   "source": [
    "<i>Means and standard deviation by cluster group, not including polityscore</i>"
   ]
  },
  {
   "cell_type": "code",
   "execution_count": 39,
   "metadata": {
    "collapsed": false
   },
   "outputs": [
    {
     "data": {
      "text/html": [
       "<div>\n",
       "<table border=\"1\" class=\"dataframe\">\n",
       "  <thead>\n",
       "    <tr style=\"text-align: right;\">\n",
       "      <th></th>\n",
       "      <th>incomeperperson</th>\n",
       "      <th>alcconsumption</th>\n",
       "      <th>armedforcesrate</th>\n",
       "      <th>co2emissions</th>\n",
       "      <th>lifeexpectancy</th>\n",
       "      <th>urbanrate</th>\n",
       "    </tr>\n",
       "    <tr>\n",
       "      <th>cluster</th>\n",
       "      <th></th>\n",
       "      <th></th>\n",
       "      <th></th>\n",
       "      <th></th>\n",
       "      <th></th>\n",
       "      <th></th>\n",
       "    </tr>\n",
       "  </thead>\n",
       "  <tbody>\n",
       "    <tr>\n",
       "      <th>0</th>\n",
       "      <td>-0.23</td>\n",
       "      <td>0.21</td>\n",
       "      <td>-0.09</td>\n",
       "      <td>-0.15</td>\n",
       "      <td>0.50</td>\n",
       "      <td>0.36</td>\n",
       "    </tr>\n",
       "    <tr>\n",
       "      <th>1</th>\n",
       "      <td>-0.61</td>\n",
       "      <td>-0.38</td>\n",
       "      <td>-0.49</td>\n",
       "      <td>-0.19</td>\n",
       "      <td>-1.26</td>\n",
       "      <td>-1.03</td>\n",
       "    </tr>\n",
       "    <tr>\n",
       "      <th>2</th>\n",
       "      <td>2.00</td>\n",
       "      <td>0.78</td>\n",
       "      <td>-0.38</td>\n",
       "      <td>0.43</td>\n",
       "      <td>1.18</td>\n",
       "      <td>1.18</td>\n",
       "    </tr>\n",
       "    <tr>\n",
       "      <th>3</th>\n",
       "      <td>0.17</td>\n",
       "      <td>-1.00</td>\n",
       "      <td>2.76</td>\n",
       "      <td>-0.18</td>\n",
       "      <td>0.40</td>\n",
       "      <td>0.36</td>\n",
       "    </tr>\n",
       "  </tbody>\n",
       "</table>\n",
       "</div>"
      ],
      "text/plain": [
       "         incomeperperson  alcconsumption  armedforcesrate  co2emissions  \\\n",
       "cluster                                                                   \n",
       "0                  -0.23            0.21            -0.09         -0.15   \n",
       "1                  -0.61           -0.38            -0.49         -0.19   \n",
       "2                   2.00            0.78            -0.38          0.43   \n",
       "3                   0.17           -1.00             2.76         -0.18   \n",
       "\n",
       "         lifeexpectancy  urbanrate  \n",
       "cluster                             \n",
       "0                  0.50       0.36  \n",
       "1                 -1.26      -1.03  \n",
       "2                  1.18       1.18  \n",
       "3                  0.40       0.36  "
      ]
     },
     "execution_count": 39,
     "metadata": {},
     "output_type": "execute_result"
    }
   ],
   "source": [
    "clus_data.groupby('cluster').mean()"
   ]
  },
  {
   "cell_type": "code",
   "execution_count": 40,
   "metadata": {
    "collapsed": false
   },
   "outputs": [
    {
     "data": {
      "text/html": [
       "<div>\n",
       "<table border=\"1\" class=\"dataframe\">\n",
       "  <thead>\n",
       "    <tr style=\"text-align: right;\">\n",
       "      <th></th>\n",
       "      <th>incomeperperson</th>\n",
       "      <th>alcconsumption</th>\n",
       "      <th>armedforcesrate</th>\n",
       "      <th>co2emissions</th>\n",
       "      <th>lifeexpectancy</th>\n",
       "      <th>urbanrate</th>\n",
       "    </tr>\n",
       "    <tr>\n",
       "      <th>cluster</th>\n",
       "      <th></th>\n",
       "      <th></th>\n",
       "      <th></th>\n",
       "      <th></th>\n",
       "      <th></th>\n",
       "      <th></th>\n",
       "    </tr>\n",
       "  </thead>\n",
       "  <tbody>\n",
       "    <tr>\n",
       "      <th>0</th>\n",
       "      <td>0.35</td>\n",
       "      <td>0.95</td>\n",
       "      <td>0.44</td>\n",
       "      <td>0.10</td>\n",
       "      <td>0.34</td>\n",
       "      <td>0.60</td>\n",
       "    </tr>\n",
       "    <tr>\n",
       "      <th>1</th>\n",
       "      <td>0.16</td>\n",
       "      <td>0.75</td>\n",
       "      <td>0.35</td>\n",
       "      <td>0.17</td>\n",
       "      <td>0.63</td>\n",
       "      <td>0.60</td>\n",
       "    </tr>\n",
       "    <tr>\n",
       "      <th>2</th>\n",
       "      <td>0.65</td>\n",
       "      <td>0.77</td>\n",
       "      <td>0.43</td>\n",
       "      <td>0.72</td>\n",
       "      <td>0.13</td>\n",
       "      <td>0.46</td>\n",
       "    </tr>\n",
       "    <tr>\n",
       "      <th>3</th>\n",
       "      <td>1.10</td>\n",
       "      <td>0.39</td>\n",
       "      <td>1.31</td>\n",
       "      <td>0.04</td>\n",
       "      <td>0.61</td>\n",
       "      <td>1.21</td>\n",
       "    </tr>\n",
       "  </tbody>\n",
       "</table>\n",
       "</div>"
      ],
      "text/plain": [
       "         incomeperperson  alcconsumption  armedforcesrate  co2emissions  \\\n",
       "cluster                                                                   \n",
       "0                   0.35            0.95             0.44          0.10   \n",
       "1                   0.16            0.75             0.35          0.17   \n",
       "2                   0.65            0.77             0.43          0.72   \n",
       "3                   1.10            0.39             1.31          0.04   \n",
       "\n",
       "         lifeexpectancy  urbanrate  \n",
       "cluster                             \n",
       "0                  0.34       0.60  \n",
       "1                  0.63       0.60  \n",
       "2                  0.13       0.46  \n",
       "3                  0.61       1.21  "
      ]
     },
     "execution_count": 40,
     "metadata": {},
     "output_type": "execute_result"
    }
   ],
   "source": [
    "clus_data.groupby('cluster').std()"
   ]
  },
  {
   "cell_type": "markdown",
   "metadata": {},
   "source": [
    "<h2>Assignment - Written Analysis</h2>"
   ]
  },
  {
   "cell_type": "markdown",
   "metadata": {},
   "source": [
    "To find potential underlying subgroups of countries based on 6 characteristics such as incomeperperson and co2emissions that are characteristics which may have an impact on government type. All the clustering variables were standardaised to have a mean of 0 and a standard deviation of 1 so that the are comparable in a meaningful manner."
   ]
  },
  {
   "cell_type": "markdown",
   "metadata": {},
   "source": [
    "The data was randomly split into roughly 70% training and 30% test set data. I performed a series of k-means cluster analyses on the training set using k = 1 - 10 clusers, interpreting with euclidean distance. The graph you see in the <b>Out[16]</b> section represents the change in average distence of clusters and the number of clusters. Around 4 - 6 clusters there doesn't seem to be much improvement in the average distance of the clusters against an increase in the number of clusters. I chose 4 clusters as being a sensible number to go forward with."
   ]
  },
  {
   "cell_type": "markdown",
   "metadata": {},
   "source": [
    "Cononical discriminant analyses was used to reduce our 6 clustering variables down to the 2 most associated ones so that we can interpret it easily on a 2 dimensional graph. The scatter plot in <b>Out[18]</b> shows the 4 clusters. The most densely distrobuted cluster is cluster 2 which is on the same y-axis level as clusters 0 and 1, clusters 0 and 1 are less densely packed together. The final cluster, 3, is very widely distrobuted but sits defintely below the other clusters relative to the y-axis. So:\n",
    "<ul>\n",
    "    <li>Cluster 0 has a reasonable spread of values</li>\n",
    "    <li>Cluster 1 has a similar spread to cluster 0</li>\n",
    "    <li>Cluster 2 is very tighly packed, suggesting a very low variance within the cluster</li>\n",
    "    <li>Cluster 3 has a very wide spread indicating a high variance within the cluster</li>\n",
    "</ul>\n",
    "\n",
    "All the clusters are distinct, there is no overlap with other clusters. It also looks like a sensible number of clusters have been identified so 4 may be optimal in this case."
   ]
  },
  {
   "cell_type": "markdown",
   "metadata": {},
   "source": [
    "The means and standard deviations of the cluster data set indicate that:\n",
    "<ul>\n",
    "    <li><div><u>Cluster 0</u> has means which sit mostly in the middle of the pack and values that have variance less than 1. With a low income per person and levels of co2 emissions it has mostly average values for the other variables. The cluster has a mean polityscore of 5.5 so is relatively high up in the democratic scale.</div></li>\n",
    "    <li><div><u>Cluster 1</u> has consistently lower means than the other clusters and values with variance less than 1. It has the lowest mean values in everything but alcohol consumption which is still on the lower end of the scale. It has a mean polityscore of 1.7 indicating a fairly neutral score, a not especially democratic goevernment, but not a noteably un-democratic government.</div></li>\n",
    "    <li><u>Cluster 2</u> has consistently higher means than the other clusters with quite large standard deviation except in lifeexpectancy. It has a mean polityscore of 8.2 which is the highest out of our clusters and very near the top of the scale.</li>\n",
    "    <li><u>Cluster 3</u> varies quite considerably with its means, being very low on alcohol consumption but exceptionally high with armed forces rate, the rest of the means seem to be average for the data, but the variance is very high for the income per person, armed forces rate and urban rate variables, while quite low for the others. It has a mean polityscore of -2.4 indicating un-democratic governments are typically in control.</li>\n",
    "</ul>\n",
    "\n",
    "From the above the most troubled countries would be in cluster 3, while clusters 0 and 2 are well off countries, and cluster 1 is a collection of transitional countries government wise."
   ]
  },
  {
   "cell_type": "markdown",
   "metadata": {},
   "source": [
    "To validate the clusters an ANOVA (Analysis of Variance) analysis was performed to test for significant differences between clusters based on polityscore, a tukey post hoc test compared between the clusters. The analysis indicated that there was a significant association between polityscore and cluster with a p-value of 7.71e-06 which is highly significant. There is also a significant difference between the pairs of clusters (0, 2) and (1, 3) which was identified with the tukey post hoc tests, this might indicate that there are only two distinct clusters. Countries in cluster 2 (mean = 8.21, std = 5.29) had vastly higher polityscore than the other clusters while cluster 3 (mean = -2.40, std = 6.36) has a vastly lower polityscore."
   ]
  }
 ],
 "metadata": {
  "anaconda-cloud": {},
  "kernelspec": {
   "display_name": "Python [Root]",
   "language": "python",
   "name": "Python [Root]"
  },
  "language_info": {
   "codemirror_mode": {
    "name": "ipython",
    "version": 3
   },
   "file_extension": ".py",
   "mimetype": "text/x-python",
   "name": "python",
   "nbconvert_exporter": "python",
   "pygments_lexer": "ipython3",
   "version": "3.5.2"
  }
 },
 "nbformat": 4,
 "nbformat_minor": 0
}
