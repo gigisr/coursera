{
 "cells": [
  {
   "cell_type": "markdown",
   "metadata": {},
   "source": [
    "<h1>Data Analysis and Interpretation Capstone</h1>"
   ]
  },
  {
   "cell_type": "markdown",
   "metadata": {},
   "source": [
    "<h3>Module 1. Identify Your Data and Research Question</h3>"
   ]
  },
  {
   "cell_type": "markdown",
   "metadata": {},
   "source": [
    "My code and investigation are first, followed by the outlines of my <b><i>drafts</i></b> for my:\n",
    "<div style=\"margin-left:25px;\"><ul style=\"list-style-type:none;\">\n",
    "    <li>1) project title</li>\n",
    "    <li>2) research question</li>\n",
    "    <li>3) motivation or rationale for wanting to try to answer the research question </li>\n",
    "    <li>4) and the potential implications of answering the research question</li>\n",
    "</ul></div>"
   ]
  },
  {
   "cell_type": "markdown",
   "metadata": {},
   "source": [
    "I will use the Storm Event data which contains extensive National Weather Service data of storm events by state and county."
   ]
  },
  {
   "cell_type": "markdown",
   "metadata": {},
   "source": [
    "<h2>DATA INVESTIGATION</h2>"
   ]
  },
  {
   "cell_type": "markdown",
   "metadata": {},
   "source": [
    "<h4>SET UP</h4>"
   ]
  },
  {
   "cell_type": "markdown",
   "metadata": {},
   "source": [
    "<i>Import packages and set options</i>"
   ]
  },
  {
   "cell_type": "code",
   "execution_count": 1,
   "metadata": {
    "collapsed": true
   },
   "outputs": [],
   "source": [
    "import pandas as pd"
   ]
  },
  {
   "cell_type": "code",
   "execution_count": 2,
   "metadata": {
    "collapsed": true
   },
   "outputs": [],
   "source": [
    "pd.set_option('display.max_rows', 12)"
   ]
  },
  {
   "cell_type": "markdown",
   "metadata": {},
   "source": [
    "<i>Read in the data set</i>"
   ]
  },
  {
   "cell_type": "code",
   "execution_count": 3,
   "metadata": {
    "collapsed": false
   },
   "outputs": [],
   "source": [
    "use_cols = ['DEATHS_DIRECT','STATE','MONTH_NAME','EVENT_TYPE','CZ_TYPE','NUM_EVENTS','EVENT_ID']\n",
    "data = pd.read_csv('storm_events_data/storm_event_data.csv', usecols=use_cols)"
   ]
  },
  {
   "cell_type": "markdown",
   "metadata": {},
   "source": [
    "Check that there is a unique identifier included to use as the index"
   ]
  },
  {
   "cell_type": "code",
   "execution_count": 4,
   "metadata": {
    "collapsed": false
   },
   "outputs": [
    {
     "name": "stdout",
     "output_type": "stream",
     "text": [
      "Unique counts for each column\n",
      "166048\n",
      "\n",
      "166048 : EVENT_ID\n",
      "67 : STATE\n",
      "12 : MONTH_NAME\n",
      "51 : EVENT_TYPE\n",
      "2 : CZ_TYPE\n",
      "18 : DEATHS_DIRECT\n",
      "110 : NUM_EVENTS\n"
     ]
    }
   ],
   "source": [
    "print('Unique counts for each column\\n' + str(data.shape[0]) + '\\n')\n",
    "for each in data.columns:\n",
    "    print(str(data[each].unique().shape[0]) + ' : ' + each)"
   ]
  },
  {
   "cell_type": "code",
   "execution_count": 5,
   "metadata": {
    "collapsed": false
   },
   "outputs": [],
   "source": [
    "data.set_index('EVENT_ID', inplace=True)"
   ]
  },
  {
   "cell_type": "markdown",
   "metadata": {},
   "source": [
    "<i>Investigate data</i>"
   ]
  },
  {
   "cell_type": "markdown",
   "metadata": {},
   "source": [
    "The number of rows and columns of the data"
   ]
  },
  {
   "cell_type": "code",
   "execution_count": 6,
   "metadata": {
    "collapsed": false
   },
   "outputs": [
    {
     "data": {
      "text/plain": [
       "(166048, 6)"
      ]
     },
     "execution_count": 6,
     "metadata": {},
     "output_type": "execute_result"
    }
   ],
   "source": [
    "data.shape"
   ]
  },
  {
   "cell_type": "code",
   "execution_count": 7,
   "metadata": {
    "collapsed": true
   },
   "outputs": [],
   "source": [
    "cols = ['DEATHS_DIRECT','STATE','MONTH_NAME','EVENT_TYPE','CZ_TYPE','NUM_EVENTS']"
   ]
  },
  {
   "cell_type": "markdown",
   "metadata": {},
   "source": [
    "Check some features of the columns"
   ]
  },
  {
   "cell_type": "code",
   "execution_count": 8,
   "metadata": {
    "collapsed": false
   },
   "outputs": [
    {
     "data": {
      "text/plain": [
       "DEATHS_DIRECT    0\n",
       "STATE            0\n",
       "MONTH_NAME       0\n",
       "EVENT_TYPE       0\n",
       "CZ_TYPE          0\n",
       "NUM_EVENTS       0\n",
       "dtype: int64"
      ]
     },
     "execution_count": 8,
     "metadata": {},
     "output_type": "execute_result"
    }
   ],
   "source": [
    "data[cols].isnull().sum()"
   ]
  },
  {
   "cell_type": "code",
   "execution_count": 9,
   "metadata": {
    "collapsed": false
   },
   "outputs": [
    {
     "data": {
      "text/plain": [
       "0     165214\n",
       "1        701\n",
       "2         77\n",
       "3         27\n",
       "4         11\n",
       "5          3\n",
       "       ...  \n",
       "11         1\n",
       "12         1\n",
       "13         1\n",
       "19         1\n",
       "24         1\n",
       "8          1\n",
       "Name: DEATHS_DIRECT, dtype: int64"
      ]
     },
     "execution_count": 9,
     "metadata": {},
     "output_type": "execute_result"
    }
   ],
   "source": [
    "data[cols[0]].value_counts(dropna=False)"
   ]
  },
  {
   "cell_type": "code",
   "execution_count": 10,
   "metadata": {
    "collapsed": false
   },
   "outputs": [
    {
     "data": {
      "text/plain": [
       "TEXAS             14167\n",
       "KANSAS             7180\n",
       "IOWA               6259\n",
       "NEBRASKA           6080\n",
       "OKLAHOMA           5451\n",
       "KENTUCKY           5423\n",
       "                  ...  \n",
       "GUAM                 39\n",
       "VIRGIN ISLANDS       36\n",
       "E PACIFIC            21\n",
       "GULF OF ALASKA       17\n",
       "AMERICAN SAMOA       14\n",
       "HAWAII WATERS         9\n",
       "Name: STATE, dtype: int64"
      ]
     },
     "execution_count": 10,
     "metadata": {},
     "output_type": "execute_result"
    }
   ],
   "source": [
    "data[cols[1]].value_counts(dropna=False)"
   ]
  },
  {
   "cell_type": "code",
   "execution_count": 11,
   "metadata": {
    "collapsed": false
   },
   "outputs": [
    {
     "data": {
      "text/plain": [
       "June         27163\n",
       "July         20877\n",
       "May          18231\n",
       "January      16917\n",
       "February     16870\n",
       "April        15427\n",
       "August       13308\n",
       "March        12232\n",
       "September     7963\n",
       "December      7192\n",
       "November      5411\n",
       "October       4457\n",
       "Name: MONTH_NAME, dtype: int64"
      ]
     },
     "execution_count": 11,
     "metadata": {},
     "output_type": "execute_result"
    }
   ],
   "source": [
    "data[cols[2]].value_counts(dropna=False)"
   ]
  },
  {
   "cell_type": "code",
   "execution_count": 12,
   "metadata": {
    "collapsed": false
   },
   "outputs": [
    {
     "data": {
      "text/plain": [
       "Thunderstorm Wind        41351\n",
       "Hail                     28516\n",
       "Winter Weather           12704\n",
       "Flash Flood              11501\n",
       "Winter Storm              9923\n",
       "Drought                   9652\n",
       "                         ...  \n",
       "Dense Smoke                  6\n",
       "Lakeshore Flood              6\n",
       "Marine Tropical Storm        5\n",
       "Tropical Depression          4\n",
       "Marine Dense Fog             3\n",
       "Marine Lightning             1\n",
       "Name: EVENT_TYPE, dtype: int64"
      ]
     },
     "execution_count": 12,
     "metadata": {},
     "output_type": "execute_result"
    }
   ],
   "source": [
    "data[cols[3]].value_counts(dropna=False)"
   ]
  },
  {
   "cell_type": "code",
   "execution_count": 13,
   "metadata": {
    "collapsed": false
   },
   "outputs": [
    {
     "data": {
      "text/plain": [
       "C    96756\n",
       "Z    69292\n",
       "Name: CZ_TYPE, dtype: int64"
      ]
     },
     "execution_count": 13,
     "metadata": {},
     "output_type": "execute_result"
    }
   ],
   "source": [
    "data[cols[4]].value_counts(dropna=False)"
   ]
  },
  {
   "cell_type": "code",
   "execution_count": 14,
   "metadata": {
    "collapsed": false
   },
   "outputs": [
    {
     "data": {
      "text/plain": [
       "1     8509\n",
       "2     8496\n",
       "3     8034\n",
       "4     7420\n",
       "5     7160\n",
       "6     6708\n",
       "      ... \n",
       "86      86\n",
       "84      84\n",
       "82      82\n",
       "81      81\n",
       "79      79\n",
       "72      72\n",
       "Name: NUM_EVENTS, dtype: int64"
      ]
     },
     "execution_count": 14,
     "metadata": {},
     "output_type": "execute_result"
    }
   ],
   "source": [
    "data[cols[5]].value_counts(dropna=False)"
   ]
  },
  {
   "cell_type": "markdown",
   "metadata": {},
   "source": [
    "<img src=\"usa-states-map.gif\">"
   ]
  },
  {
   "cell_type": "markdown",
   "metadata": {},
   "source": [
    "<h6>The image above is subject to Microsoft fair use copywrite via bing search services</h6>"
   ]
  },
  {
   "cell_type": "markdown",
   "metadata": {},
   "source": [
    "<h3>Some notes after looking at the data, along with a description of the values in the column</h3>"
   ]
  },
  {
   "cell_type": "markdown",
   "metadata": {},
   "source": [
    "<b><i>DEATHS_DIRECT</i>: </b>\n",
    "\n",
    "<i>The number of deaths directly related to the weather event.</i>\n",
    "\n",
    "About 99.5% have 0 deaths, the number of deaths with the next most occurances is 1, then 2, 3, 4, 5 which is much as we would hope for.\n",
    "\n",
    "The maximum number of deaths from one incident is 43 that occurred in Washinton with event id 505782. The minimum number of deaths from one incident is 0 and accounts for the majority of events."
   ]
  },
  {
   "cell_type": "markdown",
   "metadata": {},
   "source": [
    "<b><i>STATE</i>:</b>\n",
    "\n",
    "<i>The state name where the event occurred.</i>\n",
    "\n",
    "The top five states where the weather incident originated are all aligned in the vertical middle of the USA, they are: TEXAS, KANSAS, IOWA, NEBRASKA, OKLAHOMA. You can see this on the map above.\n",
    "\n",
    "There are 67 unique values, which is more than the 50 states of America that there are. So there are either some repeated values or other categories that cover other areas."
   ]
  },
  {
   "cell_type": "markdown",
   "metadata": {},
   "source": [
    "<b><i>MONTH_NAME</i>:</b>\n",
    "\n",
    "<i>Name of the month for the event in this record.</i>\n",
    "\n",
    "Janurary to August seems to be the worst for these events, being relatively quiet from September to December."
   ]
  },
  {
   "cell_type": "markdown",
   "metadata": {},
   "source": [
    "<b><i>EVENT_TYPE</i>:</b>\n",
    "\n",
    "<i> The chosen event name should be the one that most accurately describes the meteorological event leading to fatalities, injuries, damage, etc. The only events permitted in Storm Data are listed in Table 1 of Section 2.1.1 of NWS Directive 10-1605 on the <a href=\"http://www.nws.noaa.gov/directives/sym/pd01016005curr.pdf\">NWS website</a>.</i>\n",
    "\n",
    "The top four occuring events are <u>Thunderstorm Wind</u>, <u>Hail</u>, <u>Winter Weather</u>, and <u>Flash Flood</u>. With thunderstorm wind and hail being by far the most regularly occurring at 41,351 and 28,516 times respectively."
   ]
  },
  {
   "cell_type": "markdown",
   "metadata": {},
   "source": [
    "<b><i>CZ_TYPE</i>:</b>\n",
    "\n",
    "<i>Indicates whether the event happened in a (C) county/parish or (Z) zone.</i>\n",
    "\n",
    "There seems to be a slight increase in events in Z, or zone. This is a designation that applies to events that take effect over a large area such as drought, blizzard, dense fog. \n",
    "\n",
    "The other designation present in the data set is C, or county/parish. This designation applies to more locally based events such as thunderstorm wind, flash flood, hail. \n",
    "\n",
    "There is a final designation M, or marine. This is for events that take place over water such as a waterspout."
   ]
  },
  {
   "cell_type": "markdown",
   "metadata": {},
   "source": [
    "<b><i>NUM_EVENTS</i>:</b>\n",
    "\n",
    "<i>The number of events associated with each severe weather outbreak.</i>\n",
    "\n",
    "At the lower level of value counts of the number of events per episode (bottom of the Out[14] section) I can see that there is an unusual occurance of the counts equaling the variable value."
   ]
  },
  {
   "cell_type": "markdown",
   "metadata": {},
   "source": [
    "<h2>DRAFTS</h2>"
   ]
  },
  {
   "cell_type": "markdown",
   "metadata": {},
   "source": [
    "<h4>Project Title</h4>"
   ]
  },
  {
   "cell_type": "markdown",
   "metadata": {},
   "source": [
    "The Association between the Number of Deaths and the State and Time Weather Events occur."
   ]
  },
  {
   "cell_type": "markdown",
   "metadata": {},
   "source": [
    "<h4>Research Question</h4>"
   ]
  },
  {
   "cell_type": "markdown",
   "metadata": {},
   "source": [
    "This anlaysis is to identify the best predictors of the number of fatalities from storm event characteristics including the month it happened, the designation of the event, the state it started in, the type of event, and the number of associated events."
   ]
  },
  {
   "cell_type": "markdown",
   "metadata": {},
   "source": [
    "<h4>Motivation</h4>"
   ]
  },
  {
   "cell_type": "markdown",
   "metadata": {},
   "source": [
    "As an insurance analyst, and due to the recent extream weather partly caused by the El Niño last year (2016), I am interested in  the potential impact on businesses and people. By identifying which characteristics are important to predicting negative factors, such as deaths, we can identify what information to gather from the insured and potentially warn them about the risks they are facing so they can react responsibly."
   ]
  },
  {
   "cell_type": "markdown",
   "metadata": {},
   "source": [
    "<h4>Potential Implications</h4>"
   ]
  },
  {
   "cell_type": "markdown",
   "metadata": {},
   "source": [
    "Through predicting risk reliably there will be increased accuracy in pricing the products and less information may be collected meaning it will be quicker, easier, and potentially cheaper to buy your insurance."
   ]
  }
 ],
 "metadata": {
  "kernelspec": {
   "display_name": "Python [Root]",
   "language": "python",
   "name": "Python [Root]"
  },
  "language_info": {
   "codemirror_mode": {
    "name": "ipython",
    "version": 3
   },
   "file_extension": ".py",
   "mimetype": "text/x-python",
   "name": "python",
   "nbconvert_exporter": "python",
   "pygments_lexer": "ipython3",
   "version": "3.5.2"
  }
 },
 "nbformat": 4,
 "nbformat_minor": 0
}
