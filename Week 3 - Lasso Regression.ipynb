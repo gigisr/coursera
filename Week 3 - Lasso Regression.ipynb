{
 "cells": [
  {
   "cell_type": "markdown",
   "metadata": {},
   "source": [
    "<h1>Machine Learning for Data Analysis</h1>\n",
    "<i><h2>Week 3 - Lasso Regression</h2></i>"
   ]
  },
  {
   "cell_type": "markdown",
   "metadata": {},
   "source": [
    "The data set I am using is the Gapminder data set. A series of observational variables that have independent sources that have been centralised into one set."
   ]
  },
  {
   "cell_type": "markdown",
   "metadata": {},
   "source": [
    "I am investigating the association between incomeperperson and armedforcesrate. The association, or hypothesis, I am expecting is for higher incomeperperson there will be a lower armedforcesrate. So my coefficient to my explanetory variable should be less than 0. I will also be looking at the type of government, the polityscore variable, and seeing if that has a confounding effect."
   ]
  },
  {
   "cell_type": "markdown",
   "metadata": {},
   "source": [
    "For Lasso Regression I will not categorise my variables and I will add in several more to see if I've missed any variables of importance."
   ]
  },
  {
   "cell_type": "markdown",
   "metadata": {},
   "source": [
    "<h3>SET UP</h3>"
   ]
  },
  {
   "cell_type": "markdown",
   "metadata": {},
   "source": [
    "<i>Import appropraite packages and set appropriate options</i>"
   ]
  },
  {
   "cell_type": "code",
   "execution_count": 1,
   "metadata": {
    "collapsed": false
   },
   "outputs": [],
   "source": [
    "import pandas as pd\n",
    "import numpy as np\n",
    "from sklearn.cross_validation import train_test_split\n",
    "from sklearn.linear_model import LassoLarsCV\n",
    "from sklearn import preprocessing\n",
    "from sklearn.metrics import mean_squared_error\n",
    "import matplotlib.pyplot as plt\n",
    "import matplotlib.patches as mpatches\n",
    "import seaborn\n",
    "%matplotlib inline"
   ]
  },
  {
   "cell_type": "code",
   "execution_count": 2,
   "metadata": {
    "collapsed": false
   },
   "outputs": [],
   "source": [
    "pd.set_option('display.float_format', '{:,.2f}'.format)"
   ]
  },
  {
   "cell_type": "markdown",
   "metadata": {},
   "source": [
    "<i>Read in the data set</i>"
   ]
  },
  {
   "cell_type": "code",
   "execution_count": 3,
   "metadata": {
    "collapsed": false
   },
   "outputs": [],
   "source": [
    "usecols = ['incomeperperson', 'armedforcesrate', 'polityscore', 'country', \\\n",
    "           'lifeexpectancy', 'alcconsumption','co2emissions', 'urbanrate', \\\n",
    "           'suicideper100th']\n",
    "gap_data = pd.read_csv('gapminder.csv', usecols = usecols, index_col='country')"
   ]
  },
  {
   "cell_type": "markdown",
   "metadata": {},
   "source": [
    "<i>Replace spaces with blanks and coerce into numeric, replacing the spaces with an empty string is needed for converting to numeric</i>"
   ]
  },
  {
   "cell_type": "code",
   "execution_count": 4,
   "metadata": {
    "collapsed": true
   },
   "outputs": [],
   "source": [
    "gap_data.loc[:,'incomeperperson'] = pd.to_numeric(gap_data['incomeperperson'].replace(' ',''))\n",
    "gap_data.loc[:,'armedforcesrate'] = pd.to_numeric(gap_data['armedforcesrate'].replace(' ',''))\n",
    "gap_data.loc[:,'polityscore'] = pd.to_numeric(gap_data['polityscore'].replace(' ',''))\n",
    "gap_data.loc[:,'lifeexpectancy'] = pd.to_numeric(gap_data['lifeexpectancy'].replace(' ',''))\n",
    "gap_data.loc[:,'alcconsumption'] = pd.to_numeric(gap_data['alcconsumption'].replace(' ',''))\n",
    "gap_data.loc[:,'co2emissions'] = pd.to_numeric(gap_data['co2emissions'].replace(' ',''))\n",
    "gap_data.loc[:,'urbanrate'] = pd.to_numeric(gap_data['urbanrate'].replace(' ',''))\n",
    "gap_data.loc[:,'suicideper100th'] = pd.to_numeric(gap_data['suicideper100th'].replace(' ',''))"
   ]
  },
  {
   "cell_type": "markdown",
   "metadata": {},
   "source": [
    "<i>Remove any rows where there are nulls</i>"
   ]
  },
  {
   "cell_type": "code",
   "execution_count": 5,
   "metadata": {
    "collapsed": true
   },
   "outputs": [],
   "source": [
    "gap_data.dropna(inplace = True)"
   ]
  },
  {
   "cell_type": "markdown",
   "metadata": {},
   "source": [
    "<i>Look at some information about the data set</i>"
   ]
  },
  {
   "cell_type": "code",
   "execution_count": 6,
   "metadata": {
    "collapsed": false
   },
   "outputs": [
    {
     "data": {
      "text/plain": [
       "incomeperperson    float64\n",
       "alcconsumption     float64\n",
       "armedforcesrate    float64\n",
       "co2emissions       float64\n",
       "lifeexpectancy     float64\n",
       "polityscore        float64\n",
       "suicideper100th    float64\n",
       "urbanrate          float64\n",
       "dtype: object"
      ]
     },
     "execution_count": 6,
     "metadata": {},
     "output_type": "execute_result"
    }
   ],
   "source": [
    "gap_data.dtypes"
   ]
  },
  {
   "cell_type": "code",
   "execution_count": 7,
   "metadata": {
    "collapsed": false
   },
   "outputs": [
    {
     "data": {
      "text/html": [
       "<div>\n",
       "<table border=\"1\" class=\"dataframe\">\n",
       "  <thead>\n",
       "    <tr style=\"text-align: right;\">\n",
       "      <th></th>\n",
       "      <th>incomeperperson</th>\n",
       "      <th>alcconsumption</th>\n",
       "      <th>armedforcesrate</th>\n",
       "      <th>co2emissions</th>\n",
       "      <th>lifeexpectancy</th>\n",
       "      <th>polityscore</th>\n",
       "      <th>suicideper100th</th>\n",
       "      <th>urbanrate</th>\n",
       "    </tr>\n",
       "  </thead>\n",
       "  <tbody>\n",
       "    <tr>\n",
       "      <th>count</th>\n",
       "      <td>147.00</td>\n",
       "      <td>147.00</td>\n",
       "      <td>147.00</td>\n",
       "      <td>147.00</td>\n",
       "      <td>147.00</td>\n",
       "      <td>147.00</td>\n",
       "      <td>147.00</td>\n",
       "      <td>147.00</td>\n",
       "    </tr>\n",
       "    <tr>\n",
       "      <th>mean</th>\n",
       "      <td>6,834.70</td>\n",
       "      <td>6.93</td>\n",
       "      <td>1.39</td>\n",
       "      <td>6,735,854,963.72</td>\n",
       "      <td>69.06</td>\n",
       "      <td>3.81</td>\n",
       "      <td>9.99</td>\n",
       "      <td>56.36</td>\n",
       "    </tr>\n",
       "    <tr>\n",
       "      <th>std</th>\n",
       "      <td>9,940.24</td>\n",
       "      <td>5.13</td>\n",
       "      <td>1.55</td>\n",
       "      <td>29,857,863,523.92</td>\n",
       "      <td>9.91</td>\n",
       "      <td>6.21</td>\n",
       "      <td>6.42</td>\n",
       "      <td>22.05</td>\n",
       "    </tr>\n",
       "    <tr>\n",
       "      <th>min</th>\n",
       "      <td>103.78</td>\n",
       "      <td>0.05</td>\n",
       "      <td>0.00</td>\n",
       "      <td>850,666.67</td>\n",
       "      <td>47.79</td>\n",
       "      <td>-10.00</td>\n",
       "      <td>0.20</td>\n",
       "      <td>10.40</td>\n",
       "    </tr>\n",
       "    <tr>\n",
       "      <th>25%</th>\n",
       "      <td>576.39</td>\n",
       "      <td>2.62</td>\n",
       "      <td>0.46</td>\n",
       "      <td>98,019,166.67</td>\n",
       "      <td>62.28</td>\n",
       "      <td>-2.00</td>\n",
       "      <td>5.91</td>\n",
       "      <td>38.17</td>\n",
       "    </tr>\n",
       "    <tr>\n",
       "      <th>50%</th>\n",
       "      <td>2,231.99</td>\n",
       "      <td>6.12</td>\n",
       "      <td>0.93</td>\n",
       "      <td>428,006,333.33</td>\n",
       "      <td>72.97</td>\n",
       "      <td>6.00</td>\n",
       "      <td>8.97</td>\n",
       "      <td>59.46</td>\n",
       "    </tr>\n",
       "    <tr>\n",
       "      <th>75%</th>\n",
       "      <td>7,063.96</td>\n",
       "      <td>10.12</td>\n",
       "      <td>1.60</td>\n",
       "      <td>2,577,938,000.00</td>\n",
       "      <td>76.13</td>\n",
       "      <td>9.00</td>\n",
       "      <td>12.64</td>\n",
       "      <td>73.02</td>\n",
       "    </tr>\n",
       "    <tr>\n",
       "      <th>max</th>\n",
       "      <td>39,972.35</td>\n",
       "      <td>23.01</td>\n",
       "      <td>9.82</td>\n",
       "      <td>334,220,872,333.33</td>\n",
       "      <td>83.39</td>\n",
       "      <td>10.00</td>\n",
       "      <td>35.75</td>\n",
       "      <td>100.00</td>\n",
       "    </tr>\n",
       "  </tbody>\n",
       "</table>\n",
       "</div>"
      ],
      "text/plain": [
       "       incomeperperson  alcconsumption  armedforcesrate       co2emissions  \\\n",
       "count           147.00          147.00           147.00             147.00   \n",
       "mean          6,834.70            6.93             1.39   6,735,854,963.72   \n",
       "std           9,940.24            5.13             1.55  29,857,863,523.92   \n",
       "min             103.78            0.05             0.00         850,666.67   \n",
       "25%             576.39            2.62             0.46      98,019,166.67   \n",
       "50%           2,231.99            6.12             0.93     428,006,333.33   \n",
       "75%           7,063.96           10.12             1.60   2,577,938,000.00   \n",
       "max          39,972.35           23.01             9.82 334,220,872,333.33   \n",
       "\n",
       "       lifeexpectancy  polityscore  suicideper100th  urbanrate  \n",
       "count          147.00       147.00           147.00     147.00  \n",
       "mean            69.06         3.81             9.99      56.36  \n",
       "std              9.91         6.21             6.42      22.05  \n",
       "min             47.79       -10.00             0.20      10.40  \n",
       "25%             62.28        -2.00             5.91      38.17  \n",
       "50%             72.97         6.00             8.97      59.46  \n",
       "75%             76.13         9.00            12.64      73.02  \n",
       "max             83.39        10.00            35.75     100.00  "
      ]
     },
     "execution_count": 7,
     "metadata": {},
     "output_type": "execute_result"
    }
   ],
   "source": [
    "gap_data.describe()"
   ]
  },
  {
   "cell_type": "markdown",
   "metadata": {},
   "source": [
    "<h3>Assignment - Calculations</h3>"
   ]
  },
  {
   "cell_type": "markdown",
   "metadata": {},
   "source": [
    "<i>Split the columns into two sub-sets, the predictor and the target variables</i>"
   ]
  },
  {
   "cell_type": "code",
   "execution_count": 8,
   "metadata": {
    "collapsed": false
   },
   "outputs": [],
   "source": [
    "predictor_vars = gap_data[['incomeperperson', 'polityscore', \\\n",
    "                           'lifeexpectancy', 'alcconsumption', \\\n",
    "                           'urbanrate', 'suicideper100th']]\n",
    "targets_vars = gap_data['armedforcesrate']"
   ]
  },
  {
   "cell_type": "markdown",
   "metadata": {},
   "source": [
    "<i>Standardise the predictos - All the predictors are not categorical so I don't need to convert them to 'float64' format - Standardising the variables means transforming the variables to have a mean of 0 and a standard deviation of 1</i>"
   ]
  },
  {
   "cell_type": "code",
   "execution_count": 9,
   "metadata": {
    "collapsed": true
   },
   "outputs": [],
   "source": [
    "predictors = predictor_vars.copy()"
   ]
  },
  {
   "cell_type": "code",
   "execution_count": 10,
   "metadata": {
    "collapsed": false
   },
   "outputs": [],
   "source": [
    "for col in predictor_vars:\n",
    "    predictors.loc[:,col] = preprocessing.scale(predictors.loc[:,col])"
   ]
  },
  {
   "cell_type": "code",
   "execution_count": 11,
   "metadata": {
    "collapsed": false
   },
   "outputs": [
    {
     "data": {
      "text/html": [
       "<div>\n",
       "<table border=\"1\" class=\"dataframe\">\n",
       "  <thead>\n",
       "    <tr style=\"text-align: right;\">\n",
       "      <th></th>\n",
       "      <th>incomeperperson</th>\n",
       "      <th>polityscore</th>\n",
       "      <th>lifeexpectancy</th>\n",
       "      <th>alcconsumption</th>\n",
       "      <th>urbanrate</th>\n",
       "      <th>suicideper100th</th>\n",
       "    </tr>\n",
       "  </thead>\n",
       "  <tbody>\n",
       "    <tr>\n",
       "      <th>mean</th>\n",
       "      <td>-0.00</td>\n",
       "      <td>0.00</td>\n",
       "      <td>-0.00</td>\n",
       "      <td>0.00</td>\n",
       "      <td>-0.00</td>\n",
       "      <td>0.00</td>\n",
       "    </tr>\n",
       "    <tr>\n",
       "      <th>std</th>\n",
       "      <td>1.00</td>\n",
       "      <td>1.00</td>\n",
       "      <td>1.00</td>\n",
       "      <td>1.00</td>\n",
       "      <td>1.00</td>\n",
       "      <td>1.00</td>\n",
       "    </tr>\n",
       "  </tbody>\n",
       "</table>\n",
       "</div>"
      ],
      "text/plain": [
       "      incomeperperson  polityscore  lifeexpectancy  alcconsumption  urbanrate  \\\n",
       "mean            -0.00         0.00           -0.00            0.00      -0.00   \n",
       "std              1.00         1.00            1.00            1.00       1.00   \n",
       "\n",
       "      suicideper100th  \n",
       "mean             0.00  \n",
       "std              1.00  "
      ]
     },
     "execution_count": 11,
     "metadata": {},
     "output_type": "execute_result"
    }
   ],
   "source": [
    "predictors.describe().loc[['mean','std'],:]"
   ]
  },
  {
   "cell_type": "markdown",
   "metadata": {},
   "source": [
    "<i>This splits the data set into roughly 90% training set, and roughly 10% test set - I felt that I wanted to have a test set to compare with at the end but have very few observations so have kept the percentage split very severe</i>"
   ]
  },
  {
   "cell_type": "code",
   "execution_count": 12,
   "metadata": {
    "collapsed": false
   },
   "outputs": [],
   "source": [
    "pred_train, pred_test, tar_train, tar_test = train_test_split(predictors, targets_vars, test_size = 0.1)"
   ]
  },
  {
   "cell_type": "code",
   "execution_count": 13,
   "metadata": {
    "collapsed": false
   },
   "outputs": [
    {
     "name": "stdout",
     "output_type": "stream",
     "text": [
      "Predictors : training (132, 6) \n",
      "Predictors : testing  (15, 6) \n",
      "Target     : training (132,) \n",
      "Target     : testing  (15,)\n"
     ]
    }
   ],
   "source": [
    "print('Predictors : training',pred_train.shape, \\\n",
    "      '\\nPredictors : testing ',pred_test.shape, \\\n",
    "      '\\nTarget     : training',tar_train.shape, \\\n",
    "      '\\nTarget     : testing ',tar_test.shape)"
   ]
  },
  {
   "cell_type": "code",
   "execution_count": 14,
   "metadata": {
    "collapsed": false
   },
   "outputs": [
    {
     "name": "stdout",
     "output_type": "stream",
     "text": [
      "training :  89.8 % \n",
      "test     :  10.2 %\n"
     ]
    }
   ],
   "source": [
    "print(\"training : \",round((132 / 147) * 100, 2), \"%\", \"\\ntest     : \",round((15 / 147) * 100, 2), \"%\")"
   ]
  },
  {
   "cell_type": "markdown",
   "metadata": {},
   "source": [
    "<i>Creating the model</i>"
   ]
  },
  {
   "cell_type": "code",
   "execution_count": 15,
   "metadata": {
    "collapsed": true
   },
   "outputs": [],
   "source": [
    "model = LassoLarsCV(cv = 10, precompute = False).fit(pred_train, tar_train)"
   ]
  },
  {
   "cell_type": "markdown",
   "metadata": {},
   "source": [
    "<i>Creating a dictionary of the predictor name and it's coefficient value</i>"
   ]
  },
  {
   "cell_type": "code",
   "execution_count": 16,
   "metadata": {
    "collapsed": false
   },
   "outputs": [
    {
     "data": {
      "text/plain": [
       "{'alcconsumption': -0.17700731878782702,\n",
       " 'incomeperperson': -0.15790575123734332,\n",
       " 'lifeexpectancy': 0.43097137262776086,\n",
       " 'polityscore': -0.52900753415678903,\n",
       " 'suicideper100th': 0.0,\n",
       " 'urbanrate': 0.32119778099919016}"
      ]
     },
     "execution_count": 16,
     "metadata": {},
     "output_type": "execute_result"
    }
   ],
   "source": [
    "dict(zip(predictors.columns, model.coef_))"
   ]
  },
  {
   "cell_type": "markdown",
   "metadata": {},
   "source": [
    "<i>Plot Coefficient Progression</i>"
   ]
  },
  {
   "cell_type": "code",
   "execution_count": 17,
   "metadata": {
    "collapsed": false
   },
   "outputs": [
    {
     "data": {
      "text/plain": [
       "<matplotlib.text.Text at 0x1ac122a9470>"
      ]
     },
     "execution_count": 17,
     "metadata": {},
     "output_type": "execute_result"
    },
    {
     "data": {
      "image/png": "[encoded data removed]",
      "text/plain": [
       "<matplotlib.figure.Figure at 0x1ac11a1c6a0>"
      ]
     },
     "metadata": {},
     "output_type": "display_data"
    }
   ],
   "source": [
    "m_log_alphas = -np.log10(model.alphas_)\n",
    "ax = plt.gca()\n",
    "plt.plot(m_log_alphas, model.coef_path_.T)\n",
    "plt.axvline(-np.log10(model.alpha_), linestyle = '--', color = 'k', \\\n",
    "            label = 'alpha CV')\n",
    "plt.ylabel('Regression Coefficients')\n",
    "plt.xlabel('-log(alpha)')\n",
    "plt.title('Regression Coefficients Progression for LASSO Paths')"
   ]
  },
  {
   "cell_type": "markdown",
   "metadata": {},
   "source": [
    "<i>Plot Mean Square Error for each fold - There are 10 folds</i>"
   ]
  },
  {
   "cell_type": "code",
   "execution_count": 18,
   "metadata": {
    "collapsed": false
   },
   "outputs": [
    {
     "data": {
      "text/plain": [
       "<matplotlib.text.Text at 0x1ac12809470>"
      ]
     },
     "execution_count": 18,
     "metadata": {},
     "output_type": "execute_result"
    },
    {
     "data": {
      "image/png": "[encoded data removed]",
      "text/plain": [
       "<matplotlib.figure.Figure at 0x1ac127cde48>"
      ]
     },
     "metadata": {},
     "output_type": "display_data"
    }
   ],
   "source": [
    "m_log_alphascv = -np.log10(model.cv_alphas_)\n",
    "plt.figure()\n",
    "plt.plot(m_log_alphascv, model.cv_mse_path_, ':')\n",
    "plt.plot(m_log_alphascv, model.cv_mse_path_.mean(axis = -1), color = 'k', \\\n",
    "         label = 'Average across the folds', linewidth = 2)\n",
    "plt.axvline(-np.log10(model.alpha_), linestyle = '--', \\\n",
    "            color = 'k', label = 'alpha cv')\n",
    "plt.legend()\n",
    "plt.xlabel('-log(alpha)')\n",
    "plt.ylabel('Mean Squared Error')\n",
    "plt.title('Mean Squared Error on each fold')"
   ]
  },
  {
   "cell_type": "markdown",
   "metadata": {},
   "source": [
    "<i>Mean Squared Error from the training and test data sets</i>"
   ]
  },
  {
   "cell_type": "code",
   "execution_count": 19,
   "metadata": {
    "collapsed": false
   },
   "outputs": [
    {
     "name": "stdout",
     "output_type": "stream",
     "text": [
      "The train error is :  1.70081528202 \n",
      "The test error is  :  2.76544198065\n"
     ]
    }
   ],
   "source": [
    "train_error = mean_squared_error(tar_train, model.predict(pred_train))\n",
    "test_error = mean_squared_error(tar_test, model.predict(pred_test))\n",
    "print('The train error is : ', train_error, '\\nThe test error is  : ', test_error)"
   ]
  },
  {
   "cell_type": "markdown",
   "metadata": {},
   "source": [
    "<i>R-Squared from training and test value</i>"
   ]
  },
  {
   "cell_type": "code",
   "execution_count": 20,
   "metadata": {
    "collapsed": false
   },
   "outputs": [
    {
     "name": "stdout",
     "output_type": "stream",
     "text": [
      "The R-Squared training value is :  25.15 % \n",
      "The R-Squared test value is     :  18.42 %\n"
     ]
    }
   ],
   "source": [
    "rsquared_train = model.score(pred_train, tar_train)\n",
    "rsquared_test = model.score(pred_test, tar_test)\n",
    "print('The R-Squared training value is : ', round(rsquared_train * 100, 2), \\\n",
    "      \"%\", '\\nThe R-Squared test value is     : ', round(rsquared_test * 100, 2), \"%\")"
   ]
  },
  {
   "cell_type": "markdown",
   "metadata": {},
   "source": [
    "<h3>Assignment - Written Analysis</h3>"
   ]
  },
  {
   "cell_type": "markdown",
   "metadata": {},
   "source": [
    "I conducted a LASSO (Least Absolute Selection Shrinkage Operator) Regression Analysis to identify a subset of variables from a set of 6 quantitative predictor variables that best predict the quantitative response variable armedforcesrate. The predictor variables are alcconsumption, the amount of alcohol per capita drunk by an adult; imcomeperperson, the Gross Domestic Product per capita; lifeexpectancy, 2011 life expectancy at birth; polityscore, 2009 Democracy Score; suicideper100th, 2005 suicides per 100,000; and urbanrate, 2008 percentage of the population that lives in Urban areas. All the predictor variables have been standardised to have a mean of 0 and a standard deviation of 1. Standardising the variables to the same scale, mean of 0 standard deviation of 1, means that the tuning parameter $\\lambda$ is meaningful for all the variables."
   ]
  },
  {
   "cell_type": "markdown",
   "metadata": {},
   "source": [
    "The data was randomply split into a training set containing 90% of the data, and a testing set that included 10% of the observations. The LAR (Least Angle Regression) algorithm using 10 folds for the cross validation to estimate the LASSO regression model with the training set. The model was validated using the test set. The method uses the change in the cross validation average squared error at each step to identify the best subset of perdictor variables. See Out[55] above for the Mean Square Error (y-axis) for each fold (seperate plotted lines) as the tuning parameter (x-axis) increases."
   ]
  },
  {
   "cell_type": "markdown",
   "metadata": {},
   "source": [
    "5 of the 6 variables have been retained in the selected model. The variable suicideper100th has been removed from the model as shown by the coefficient being 0. During the estimation process the variables urbanrate and polityscore were the most strongly associated with the proportion of the work force employed in active army duty. The variable urbanrate was more strongly associated with armedforcesrate but ended up with a lower coefficient than lifeexpectancy implying that it has a bigger impact on the target. The other predictors are alcconsumption and incomeperperson. Most of the coefficients are negative which implies the variables have a negative impact on the target variable value."
   ]
  },
  {
   "cell_type": "markdown",
   "metadata": {},
   "source": [
    "The 5 variables that are in the selected model account for 25% of the variability in the training data set, and 18% of the variability in the test set. These values seem quite low so I think this model is not very well fitting."
   ]
  }
 ],
 "metadata": {
  "anaconda-cloud": {},
  "kernelspec": {
   "display_name": "Python [Root]",
   "language": "python",
   "name": "Python [Root]"
  },
  "language_info": {
   "codemirror_mode": {
    "name": "ipython",
    "version": 3
   },
   "file_extension": ".py",
   "mimetype": "text/x-python",
   "name": "python",
   "nbconvert_exporter": "python",
   "pygments_lexer": "ipython3",
   "version": "3.5.2"
  }
 },
 "nbformat": 4,
 "nbformat_minor": 0
}
