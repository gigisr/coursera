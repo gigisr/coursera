{
 "cells": [
  {
   "cell_type": "markdown",
   "metadata": {},
   "source": [
    "<h1>Regression Modeling in Practice</h1>\n",
    "<h3>WEEK 1 : Introduction to Regression</h3>"
   ]
  },
  {
   "cell_type": "markdown",
   "metadata": {},
   "source": [
    "I choose the GapMinder dataset. Of this dataset I am interested in 3 variables, the incomeperperson variable, the armedforcesrate, and polityscore. Below are detailed descriptions of what the variables represent."
   ]
  },
  {
   "cell_type": "markdown",
   "metadata": {},
   "source": [
    "<img src=\"CoursebookSnippet.png\">"
   ]
  },
  {
   "cell_type": "markdown",
   "metadata": {},
   "source": [
    "<font color = '#009900'><b>DATA</b></font>"
   ]
  },
  {
   "cell_type": "markdown",
   "metadata": {},
   "source": [
    "The data is provided by a non-profit organisation Gapminder. Their website is linked <a href = \"https://www.gapminder.org/\">here</a>."
   ]
  },
  {
   "cell_type": "markdown",
   "metadata": {},
   "source": [
    "<font color = '#009900'><h4>SAMPLE</h4></font>"
   ]
  },
  {
   "cell_type": "markdown",
   "metadata": {},
   "source": [
    "The sample is a collection of different data regarding 213 countries. The data is collected by Gapminder through donation from external sources, online polls, and asking to live audiences. More information can be found at the links below:\n",
    "<br><br><span style = \"margin-left : 50px\"><a href = \"https://www.gapminder.org/about-gapminder/\">About Gapminder</a></span>\n",
    "<br><span style = \"margin-left : 50px\"><a href = \"https://www.gapminder.org/data/\">Data in the Gapminder World</a></span>\n",
    "<br><br>\n",
    "The main sources of the data are indicated in the codebook snippet above:\n",
    "<br><span style = \"margin-left : 50px\"><i>incomeperperson</i> : World Bank</span>\n",
    "<br><span style = \"margin-left : 50px\"><i>armedforcesrate</i> : World Development Indicators (also World Bank)</span>\n",
    "<br><span style = \"margin-left : 50px\"><i>polityscore</i>     : Polity IV Project</span>"
   ]
  },
  {
   "cell_type": "markdown",
   "metadata": {},
   "source": [
    "<font color = '#009900'><h4>PROCEDURE</h4></font>"
   ]
  },
  {
   "cell_type": "markdown",
   "metadata": {},
   "source": [
    "The data is all observational."
   ]
  },
  {
   "cell_type": "markdown",
   "metadata": {},
   "source": [
    "By searching the <i>Data in the Gapminder World</i> link above for the individual variables we find that the infromation is <i>gathered/calculated/collected</i> by:\n",
    "<br><span style = \"margin-left : 50px\"><u>incomeperperson</u></span>\n",
    "<br><span style = \"margin-left : 100px\">The values are calculated as the weighted average of values from account data available to the World Bank and The Organisation for Economic Co-operation and Development (OECD).</span>\n",
    "<br><span style = \"margin-left : 50px\"><u>armedforcesrate</u></span>\n",
    "<br><span style = \"margin-left : 100px\">The data is recieved from the International Institute for Strategic Studies, The Military Balance. Not many countries are willing to give actual numbers of military personelle. As such the counts of active service men and women is sometimes extrapolated or gathered through intellegance. This means that the numbers may be incorrect in some cases but are still good estimates.</span>\n",
    "<br><span style = \"margin-left : 50px\"><u>polityscore</u></span>\n",
    "<br><span style = \"margin-left : 100px\">The values are gathered through monitoring the political behaviour of these countries. Decisions on indicators are then made in context to the country under observation.</span>"
   ]
  },
  {
   "cell_type": "markdown",
   "metadata": {},
   "source": [
    "As the data is observational we can only ever indicate if our variables are associated. Causality <b>CANNOT</b> be deduced from our analysis. Because countries are such complex networks of influences there is potential for an incredibly high number of confounding variables. "
   ]
  },
  {
   "cell_type": "markdown",
   "metadata": {},
   "source": [
    "<font color = '#009900'><h4>MEASURES</h4></font>"
   ]
  },
  {
   "cell_type": "markdown",
   "metadata": {},
   "source": [
    "By searching the <i>Data in the Gapminder World</i> link above for the individual variables we find:\n",
    "<br><span style = \"margin-left : 50px\"><u>incomeperperson</u></span>\n",
    "<br><span style = \"margin-left : 100px\"><i>Description</i> : GNI per capita is gross national income divided by midyear population. GNI (formerly GNP) is the sum of value added by all resident producers plus any product taxes (less subsidies) not included in the valuation of output plus net receipts of primary income (compensation of employees and property income) from abroad. Data are in constant 2000 U.S. dollars.</span>\n",
    "<br><span style = \"margin-left : 100px\"><i>My Data</i> : Coerced into a number, no rounding or binning to be used, any countries with nulls are removed</span>\n",
    "<br><span style = \"margin-left : 100px\"><i>Link to complete reference</i> : <a href = \"http://data.worldbank.org/indicator/NY.GNP.PCAP.KD\"> Link</a></span>\n",
    "<br><span style = \"margin-left : 50px\"><u>armedforcesrate</u></span>\n",
    "<br><span style = \"margin-left : 100px\"><i>Description</i> : Armed forces personnel are active duty military personnel, including paramilitary forces if the training, organization, equipment, and control suggest they may be used to support or replace regular military forces. Labor force comprises all people who meet the International Labour Organization's definition of the economically active population. Note: Data for some countries are based on partial or uncertain data or rough estimates.</span>\n",
    "<br><span style = \"margin-left : 100px\"><i>My Data</i> : Coerced into a number, no rounding or binning to be used, any countries with nulls are removed</span>\n",
    "<br><span style = \"margin-left : 100px\"><i>Link to complete reference</i> : <a href = \"http://data.worldbank.org/indicator/MS.MIL.TOTL.TF.ZS\"> Link</a></span>\n",
    "<br><span style = \"margin-left : 50px\"><u>polityscore</u></span>\n",
    "<br><span style = \"margin-left : 100px\"><i>Description</i> : Overall polity score from the Polity IV dataset, calculated by subtracting an autocracy score from a democracy score. It is a summary measure of a country's democratic and free nature. -10 is the lowest value, 10 the highest.</span>\n",
    "<br><span style = \"margin-left : 100px\"><i>My Data</i> : Categrical, no binning to be implemeneted unless an initial analysis to narrow down areas of interest is conducted, any countries with nulls are removed</span>\n",
    "<br><span style = \"margin-left : 100px\"><i>Link to complete reference</i> : <a href = \"http://www.systemicpeace.org/polity/polity4.htm\"> Link</a></span>\n",
    "<br><span style = \"margin-left : 100px\"><i>Sample size</i> : 167 countries are part of the study</span>\n",
    "<br><br>Further information is available at the complete reference links."
   ]
  },
  {
   "cell_type": "markdown",
   "metadata": {},
   "source": [
    "<b>NB</b> : For the current analysis all countries which have a null value for any of our 3 variables is removed."
   ]
  },
  {
   "cell_type": "markdown",
   "metadata": {},
   "source": [
    "<font color = '#009900'><h3>A QUICK LOOK AT THE DATA SET</h3></font>"
   ]
  },
  {
   "cell_type": "markdown",
   "metadata": {},
   "source": [
    "Set up"
   ]
  },
  {
   "cell_type": "code",
   "execution_count": 1,
   "metadata": {
    "collapsed": true
   },
   "outputs": [],
   "source": [
    "import pandas as pd\n",
    "pd.options.display.max_rows = 6"
   ]
  },
  {
   "cell_type": "markdown",
   "metadata": {},
   "source": [
    "Reading in then converting data to numeric"
   ]
  },
  {
   "cell_type": "code",
   "execution_count": 82,
   "metadata": {
    "collapsed": false
   },
   "outputs": [
    {
     "data": {
      "text/html": [
       "<div>\n",
       "<table border=\"1\" class=\"dataframe\">\n",
       "  <thead>\n",
       "    <tr style=\"text-align: right;\">\n",
       "      <th></th>\n",
       "      <th>incomeperperson</th>\n",
       "      <th>armedforcesrate</th>\n",
       "      <th>polityscore</th>\n",
       "    </tr>\n",
       "    <tr>\n",
       "      <th>country</th>\n",
       "      <th></th>\n",
       "      <th></th>\n",
       "      <th></th>\n",
       "    </tr>\n",
       "  </thead>\n",
       "  <tbody>\n",
       "    <tr>\n",
       "      <th>Afghanistan</th>\n",
       "      <td>NaN</td>\n",
       "      <td>0.569653</td>\n",
       "      <td>0.0</td>\n",
       "    </tr>\n",
       "    <tr>\n",
       "      <th>Albania</th>\n",
       "      <td>1914.996551</td>\n",
       "      <td>1.024736</td>\n",
       "      <td>9.0</td>\n",
       "    </tr>\n",
       "    <tr>\n",
       "      <th>Algeria</th>\n",
       "      <td>2231.993335</td>\n",
       "      <td>2.306817</td>\n",
       "      <td>2.0</td>\n",
       "    </tr>\n",
       "    <tr>\n",
       "      <th>...</th>\n",
       "      <td>...</td>\n",
       "      <td>...</td>\n",
       "      <td>...</td>\n",
       "    </tr>\n",
       "    <tr>\n",
       "      <th>Yemen, Rep.</th>\n",
       "      <td>610.357367</td>\n",
       "      <td>2.316235</td>\n",
       "      <td>-2.0</td>\n",
       "    </tr>\n",
       "    <tr>\n",
       "      <th>Zambia</th>\n",
       "      <td>432.226337</td>\n",
       "      <td>0.341335</td>\n",
       "      <td>7.0</td>\n",
       "    </tr>\n",
       "    <tr>\n",
       "      <th>Zimbabwe</th>\n",
       "      <td>320.771890</td>\n",
       "      <td>1.032785</td>\n",
       "      <td>1.0</td>\n",
       "    </tr>\n",
       "  </tbody>\n",
       "</table>\n",
       "<p>213 rows × 3 columns</p>\n",
       "</div>"
      ],
      "text/plain": [
       "             incomeperperson  armedforcesrate  polityscore\n",
       "country                                                   \n",
       "Afghanistan              NaN         0.569653          0.0\n",
       "Albania          1914.996551         1.024736          9.0\n",
       "Algeria          2231.993335         2.306817          2.0\n",
       "...                      ...              ...          ...\n",
       "Yemen, Rep.       610.357367         2.316235         -2.0\n",
       "Zambia            432.226337         0.341335          7.0\n",
       "Zimbabwe          320.771890         1.032785          1.0\n",
       "\n",
       "[213 rows x 3 columns]"
      ]
     },
     "execution_count": 82,
     "metadata": {},
     "output_type": "execute_result"
    }
   ],
   "source": [
    "gap_data = pd.read_csv('gapminder.csv', usecols = ['incomeperperson', 'armedforcesrate','polityscore','country'], \\\n",
    "    index_col='country')\n",
    "gap_data.loc[:,'incomeperperson'] = pd.to_numeric(gap_data['incomeperperson'].replace(' ',''))\n",
    "gap_data.loc[:,'armedforcesrate'] = pd.to_numeric(gap_data['armedforcesrate'].replace(' ',''))\n",
    "gap_data.loc[:,'polityscore'] = pd.to_numeric(gap_data['polityscore'].replace(' ',''))\n",
    "gap_data"
   ]
  },
  {
   "cell_type": "markdown",
   "metadata": {},
   "source": [
    "Check for nulls in the data set"
   ]
  },
  {
   "cell_type": "code",
   "execution_count": 60,
   "metadata": {
    "collapsed": false
   },
   "outputs": [
    {
     "data": {
      "text/plain": [
       "incomeperperson    23\n",
       "armedforcesrate    49\n",
       "polityscore        52\n",
       "dtype: int64"
      ]
     },
     "execution_count": 60,
     "metadata": {},
     "output_type": "execute_result"
    }
   ],
   "source": [
    "gap_data.isnull().sum()"
   ]
  },
  {
   "cell_type": "markdown",
   "metadata": {},
   "source": [
    "Check the size of the data set when any rows that contain null values are removed."
   ]
  },
  {
   "cell_type": "code",
   "execution_count": 78,
   "metadata": {
    "collapsed": false
   },
   "outputs": [
    {
     "data": {
      "text/plain": [
       "(149, 3)"
      ]
     },
     "execution_count": 78,
     "metadata": {},
     "output_type": "execute_result"
    }
   ],
   "source": [
    "gap_data[gap_data.isnull().apply(lambda x : ~x.any(), axis = 1)].shape"
   ]
  }
 ],
 "metadata": {
  "anaconda-cloud": {},
  "kernelspec": {
   "display_name": "Python [Root]",
   "language": "python",
   "name": "Python [Root]"
  },
  "language_info": {
   "codemirror_mode": {
    "name": "ipython",
    "version": 3
   },
   "file_extension": ".py",
   "mimetype": "text/x-python",
   "name": "python",
   "nbconvert_exporter": "python",
   "pygments_lexer": "ipython3",
   "version": "3.5.2"
  }
 },
 "nbformat": 4,
 "nbformat_minor": 0
}
