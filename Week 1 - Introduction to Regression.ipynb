{
 "cells": [
  {
   "cell_type": "markdown",
   "metadata": {},
   "source": [
    "<h1>Regression Modeling in Practice</h1>\n",
    "<h3>WEEK 1 : Introduction to Regression</h3>"
   ]
  },
  {
   "cell_type": "markdown",
   "metadata": {},
   "source": [
    "I choose the data set provided by the non-profit organisation Gapminder. Their website is linked <a href = \"https://www.gapminder.org/\">here</a>. All the values are analysed from <i>observational</i> data.\n",
    "<br><br>Of this dataset I am interested in 3 variables, the incomeperperson variable, the armedforcesrate, and polityscore. Below are detailed descriptions of what the variables represent."
   ]
  },
  {
   "cell_type": "markdown",
   "metadata": {},
   "source": [
    "<img src=\"CoursebookSnippet.png\">"
   ]
  },
  {
   "cell_type": "markdown",
   "metadata": {},
   "source": [
    "<b>LINKS TO SECTIONS IN THE DOCUMENT</b>\n",
    "<br><a></a>"
   ]
  },
  {
   "cell_type": "markdown",
   "metadata": {},
   "source": [
    ["Step 1 : SAMPLE"](\"#sample\")
    "Step 1 : <a href = \"#sample\">SAMPLE</a>\n",
    "<br>Step 2 : <a href = \"#procedure\">PROCEUDRES</a>\n",
    "<br>Step 3 : <a href = \"#measures\">MEASURES</a>\n",
    "<br><br>Extra : <a href = \"#data\">A QUICK LOOK AT THE DATA</a>"
   ]
  },
  {
   "cell_type": "markdown",
   "metadata": {},
   "source": [
    "<div id = \"sample\"><h4>SAMPLE</h4></div>"
   ]
  },
  {
   "cell_type": "markdown",
   "metadata": {},
   "source": [
    "The sample is a collection of different data regarding a total of 213 different countries. Each variable comes from a different source. The data is collected by Gapminder through donation from external sources, online polls, and querying live audiences. More information about the data set can be found at the links below:"
   ]
  },
  {
   "cell_type": "markdown",
   "metadata": {},
   "source": [
    "<span style = \"margin-left : 50px\"><a href = \"https://www.gapminder.org/about-gapminder/\">About Gapminder</a></span>\n",
    "<br><span style = \"margin-left : 50px\"><a href = \"https://www.gapminder.org/data/\">Data in the Gapminder World</a></span>"
   ]
  },
  {
   "cell_type": "markdown",
   "metadata": {},
   "source": [
    "<i><u>INCOMEPERPERSON</u></i> - GDP converted to USD at constant year 2000 rates\n",
    "<br><br><span style = \"margin-left : 50px ;\">Population Source :</span>\n",
    "<br><span style = \"margin-left : 100px ;\">1. World Bank national accounts data</span>\n",
    "<br><span style = \"margin-left : 100px ;\">2. OECD National Accounts data files</span>\n",
    "<br><span style = \"margin-left : 100px ;\">Individual accounts from these sources were analysed and anonamised through aggreation</span>\n",
    "<br><span style = \"margin-left : 50px ;\">Level of Analysis : </span>\n",
    "<br><span style = \"margin-left : 100px ;\">Account amounts are aggregated using a weighted average of values</span>\n",
    "<br><span style = \"margin-left : 100px ;\">Because there are two sources of data it is necessary to use the weighted average to represent the appropriate proportions of values from each source</span>\n",
    "<br><span style = \"margin-left : 50px ;\">Observations : </span>\n",
    "<br><span style = \"margin-left : 100px ;\">190 countries in our provided data set</span>\n",
    "<br><span style = \"margin-left : 50px ;\">Description of Sample : </span>\n",
    "<br><span style = \"margin-left : 100px ;\"><i>From the data set source :</i> \"GNI per capita is gross national income divided by midyear population. GNI (formerly GNP) is the sum of value added by all resident producers plus any product taxes (less subsidies) not included in the valuation of output plus net receipts of primary income (compensation of employees and property income) from abroad. Data are in constant 2000 U.S. dollars.\" (docs.google.com/spreadsheets/d/1t0qRfhsjNhkXQ47jaK2eAelyL2BwhJjEHNr5Fb7iUys/pub?gid=0#, tab About, accessed Nov 2016)</span>\n",
    "<br><span style = \"margin-left : 50px ;\">Description of Values : </span>\n",
    "<br><span style = \"margin-left : 100px ;\">The variable is countinuous and takes numeric decimal values over 0. The distrobution of values is positively skewed, meaning that the greatest density of values is towards the lower values.</span>\n",
    "<br><span style = \"margin-left : 100px ;\">The minimum value is 104 (rounded) [Congo, Dem. Rep.].</span>\n",
    "<br><span style = \"margin-left : 100px ;\">The maximum value is 105,147 (rounded) [Monaco].</span>\n",
    "<br><br><span style = \"margin-left : 50px\"><i>Link to complete reference</i> : <a href = \"http://data.worldbank.org/indicator/NY.GNP.PCAP.KD\"> Link</a></span>"
   ]
  },
  {
   "cell_type": "markdown",
   "metadata": {},
   "source": [
    "<i><u>ARMEDFORCESRATE</u></i> - % of total labor force on active duty\n",
    "<br><br><span style = \"margin-left : 50px ;\">Population Source :</span>\n",
    "<br><span style = \"margin-left : 100px ;\">1. International Institute for Strategic Studies, The Military Balance</span>\n",
    "<br><span style = \"margin-left : 100px ;\">Meta Data about the source was collated and inferences were made on how many active duty service personelle there were</span>\n",
    "<br><span style = \"margin-left : 50px ;\">Level of Analysis : </span>\n",
    "<br><span style = \"margin-left : 100px ;\">Values are aggregated using a weighted average from many sources</span>\n",
    "<br><span style = \"margin-left : 100px ;\">Some of the sources of data are not <i>official</i> sources, as such it is important to use the weighted average ro represent the potential accuracy of each source</span>\n",
    "<br><span style = \"margin-left : 50px ;\">Observations : </span>\n",
    "<br><span style = \"margin-left : 100px ;\">164 countries in our provided data set</span>\n",
    "<br><span style = \"margin-left : 50px ;\">Description of Sample : </span>\n",
    "<br><span style = \"margin-left : 100px ;\"><i>From the data set source :</i> \"Armed forces personnel are active duty military personnel, including paramilitary forces if the training, organization, equipment, and control suggest they may be used to support or replace regular military forces. Labor force comprises all people who meet the International Labour Organization's definition of the economically active population. Note: Data for some countries are based on partial or uncertain data or rough estimates.\" (docs.google.com/spreadsheets/d/1A2LQEx6WqKCfxSUxIK7zXKnOa64PD3q9CCFr6m-0VoY/pub?gid=0, tab About, accessed Nov 2016)</span>\n",
    "<br><span style = \"margin-left : 50px ;\">Description of Values : </span>\n",
    "<br><span style = \"margin-left : 100px ;\">The variable is countinuous and takes numeric decimal values of 0 or above. The distrobution of values is positively skewed, meaning that the greatest density of values is towards the lower values. But the data is also clustered in the middle of the distrobution.</span>\n",
    "<br><span style = \"margin-left : 100px ;\">The minimum value is 0 [Haiti].</span>\n",
    "<br><span style = \"margin-left : 100px ;\">The maximum value is 10.6385211 [Korea, Dem. Rep.].</span>\n",
    "<br><br><span style = \"margin-left : 50px\"><i>Link to complete reference</i> : <a href = \"http://data.worldbank.org/indicator/MS.MIL.TOTL.TF.ZS\"> Link</a></span>"
   ]
  },
  {
   "cell_type": "markdown",
   "metadata": {},
   "source": [
    "<i><u>POLITYSCORE</u></i> - Scale representing type of primary government in place\n",
    "<br><br><span style = \"margin-left : 50px ;\">Population Source :</span>\n",
    "<br><span style = \"margin-left : 100px ;\">1. Polity IV Project</span>\n",
    "<br><span style = \"margin-left : 100px ;\">Sets of statistics that represent the countries in ways such as estimated deaths from political violence, state frigidity index, distrobution of income.</span>\n",
    "<br><span style = \"margin-left : 50px ;\">Level of Analysis : </span>\n",
    "<br><span style = \"margin-left : 100px ;\">Subtracting an autocracy score from a democracy score</span>\n",
    "<br><span style = \"margin-left : 100px ;\">The values are gathered through monitoring the political behaviour of these countries. Decisions on indicators are then made in context to the country under observation.</span>\n",
    "<br><span style = \"margin-left : 50px ;\">Observations : </span>\n",
    "<br><span style = \"margin-left : 100px ;\">161 countries in our provided data set</span>\n",
    "<br><span style = \"margin-left : 50px ;\">Description of Sample : </span>\n",
    "<br><span style = \"margin-left : 100px ;\"><i>From the data set source :</i> \"Overall polity score from the Polity IV dataset, calculated by subtracting an autocracy score from a democracy score. It is a summary measure of a country's democratic and free nature. -10 is the lowest value, 10 the highest.\" (docs.google.com/spreadsheets/d/1MgJAijU4I4WnB8JDu6uPmS9lGYaPUkCt1k-RYTZ4nSE/pub?gid=0, tab About, accessed Nov 2016)</span>\n",
    "<br><span style = \"margin-left : 50px ;\">Description of Values : </span>\n",
    "<br><span style = \"margin-left : 100px ;\">The variable is discrete and takes the values -10, -9, -8, -7, -6, -5, -4, -3, -2, -1, 0, 1, 2, 3, 4, 5, 6, 7, 8, 9, or 10. The distrobution of values is negatively skewed, meaning that the bulk of the values take higher values. Higher values being towards the 8, 9, 10 end of the available values.</span>\n",
    "<br><span style = \"margin-left : 100px ;\">This is a categorical variable.</span>\n",
    "<br><br><span style = \"margin-left : 50px\"><i>Link to complete reference</i> : <a href = \"http://www.systemicpeace.org/polity/polity4.htm\"> Link</a></span>"
   ]
  },
  {
   "cell_type": "markdown",
   "metadata": {},
   "source": [
    "<div id = \"procedure\"><h4>PROCEDURE</h4></div>"
   ]
  },
  {
   "cell_type": "markdown",
   "metadata": {},
   "source": [
    "All the data is collected through observation. Values are reported after analysis."
   ]
  },
  {
   "cell_type": "markdown",
   "metadata": {},
   "source": [
    "<i><u>INCOMEPERPERSON</u></i>\n",
    "<br><span style = \"margin-left : 50px ;\">Purpose of Data Collection :</span>\n",
    "<br><span style = \"margin-left : 100px ;\">1. The World Bank aims to aid developing countries to grow and develop. One way to do that is to educate and bring attention to the motivating factors, such as differences in GDP between countries. By collecting, visualising, and distorbuting this data it bring attention to what they are doing.</span>\n",
    "<br><span style = \"margin-left : 100px ;\">2. The Organisation for Economic Co-operation and Development (OECD) aims to improve the economic and social situations of people around the world. As with the World Bank, eductaing others and distributing data that shows the differences they are trying to highlight as one way they go about achieving their aim.</span>\n",
    "<br><span style = \"margin-left : 50px ;\">How :</span>\n",
    "<br><span style = \"margin-left : 100px ;\">1. By providing accounts for individuals around the world they merly have to anonomise and aggregate the data they already have.</span>\n",
    "<br><span style = \"margin-left : 100px ;\">2. By monitoring events and working with governments they build up a comprehensive piecture of what is happening in that country.</span>\n",
    "<br><span style = \"margin-left : 50px ;\">When :</span>\n",
    "<br><span style = \"margin-left : 100px ;\">Continuously gathering new data and analysing it</span>\n",
    "<br><span style = \"margin-left : 100px ;\">Our data was uploaded: 13/12/2012</span>\n",
    "<br><span style = \"margin-left : 50px ;\">Where :</span>\n",
    "<br><span style = \"margin-left : 100px ;\">Worldwide, any countries or individuals that want to participate</span>"
   ]
  },
  {
   "cell_type": "markdown",
   "metadata": {},
   "source": [
    "<i><u>ARMEDFORCESRATE</u></i>\n",
    "<br><span style = \"margin-left : 50px ;\">Purpose of Data Collection :</span>\n",
    "<br><span style = \"margin-left : 100px ;\">The aim of the International Institute for Strategic Studies, The Military Balance is to promote global peace and security. Using statistics they can highlight factors of government that are relevant, and make useful suggestions as to policy from what is apparent in the data.</span>\n",
    "<br><span style = \"margin-left : 50px ;\">How :</span>\n",
    "<br><span style = \"margin-left : 100px ;\">Through research funded by governments and companies</span>\n",
    "<br><span style = \"margin-left : 50px ;\">When :</span>\n",
    "<br><span style = \"margin-left : 100px ;\">Continuously gathering new data and analysing it</span>\n",
    "<br><span style = \"margin-left : 100px ;\">Our data was uploaded : 27/10/2010</span>\n",
    "<br><span style = \"margin-left : 50px ;\">Where :</span>\n",
    "<br><span style = \"margin-left : 100px ;\">Worldwide</span>"
   ]
  },
  {
   "cell_type": "markdown",
   "metadata": {},
   "source": [
    "<i><u>POLITYSCORE</u></i>\n",
    "<br><span style = \"margin-left : 50px ;\">Purpose of Data Collection :</span>\n",
    "<br><span style = \"margin-left : 100px ;\">The Polity IV Project aims to assist the bringing about of global peace and the minimisation of the effects of political violence.</span>\n",
    "<br><span style = \"margin-left : 50px ;\">How :</span>\n",
    "<br><span style = \"margin-left : 100px ;\">The values are gathered through monitoring the political behaviour of these countries. Decisions on indicators are then made in context to the country under observation.</span>\n",
    "<br><span style = \"margin-left : 50px ;\">When :</span>\n",
    "<br><span style = \"margin-left : 100px ;\">Continuously gathering new data and analysing it</span>\n",
    "<br><span style = \"margin-left : 100px ;\">Our data was uploaded : 18/02/2013</span>\n",
    "<br><span style = \"margin-left : 50px ;\">Where :</span>\n",
    "<br><span style = \"margin-left : 100px ;\">Worldwide</span>"
   ]
  },
  {
   "cell_type": "markdown",
   "metadata": {},
   "source": [
    "As the data is observational we can only ever indicate if our variables are associated. Causality <b>CANNOT</b> be deduced from our analysis. Because countries are such complex networks of influences there is potential for an incredibly high number of confounding variables. "
   ]
  },
  {
   "cell_type": "markdown",
   "metadata": {},
   "source": [
    "<div id = \"measures\"><h4>MEASURES</h4></div>"
   ]
  },
  {
   "cell_type": "markdown",
   "metadata": {},
   "source": [
    "<i><u>INCOMEPERPERSON</u></i>\n",
    "<br><span style = \"margin-left : 50px ;\">Description :</span>\n",
    "<br><span style = \"margin-left : 100px ;\">Average Gross National Income (GNI) is measured, as a numeric value</span>\n",
    "<br><span style = \"margin-left : 50px ;\">Response Scale Explanetory Variable:</span>\n",
    "<br><span style = \"margin-left : 100px ;\">Greater than 0. Numeric floating point values.</span>\n",
    "<br><span style = \"margin-left : 100px ;\">The minimum value is 104 (rounded) [Congo, Dem. Rep.].</span>\n",
    "<br><span style = \"margin-left : 100px ;\">The maximum value is 105,147 (rounded) [Monaco].</span>\n",
    "<br><span style = \"margin-left : 50px ;\">Variable Management :</span>\n",
    "<br><span style = \"margin-left : 100px ;\">Coerce the variable into a number as it comes through as object</span>\n",
    "<br><span style = \"margin-left : 100px ;\">Removing any rows where this variable is null</span>"
   ]
  },
  {
   "cell_type": "markdown",
   "metadata": {},
   "source": [
    "<i><u>ARMEDFORCESRATE</u></i>\n",
    "<br><span style = \"margin-left : 50px ;\">Description :</span>\n",
    "<br><span style = \"margin-left : 100px ;\">The percentage of the total labor force that is on active military duty is measured, as a numeric value</span>\n",
    "<br><span style = \"margin-left : 50px ;\">Response Scale Response :</span>\n",
    "<br><span style = \"margin-left : 100px ;\">Greater than or equal to 0. Numeric floating point values.</span>\n",
    "<br><span style = \"margin-left : 100px ;\">The minimum value is 0 [Haiti].</span>\n",
    "<br><span style = \"margin-left : 100px ;\">The maximum value is 10.6385211 [Korea, Dem. Rep.].</span>\n",
    "<br><span style = \"margin-left : 50px ;\">Variable Management :</span>\n",
    "<br><span style = \"margin-left : 100px ;\">Coerce the variable into a number as it comes through as object</span>\n",
    "<br><span style = \"margin-left : 100px ;\">Removing any rows where this variable is null</span>"
   ]
  },
  {
   "cell_type": "markdown",
   "metadata": {},
   "source": [
    "<i><u>POLITYSCORE</u></i>\n",
    "<br><span style = \"margin-left : 50px ;\">Description :</span>\n",
    "<br><span style = \"margin-left : 100px ;\">A categorical scale measuring the type of governement and freedom of citizens</span>\n",
    "<br><span style = \"margin-left : 50px ;\">Response Scale Extra Response variable :</span>\n",
    "<br><span style = \"margin-left : 100px ;\">polityscore can take one of the values in [-10, -9, -8, -7, -6, -5, -4, -3, -2, -1, 0, 1, 2, 3, 4, 5, 6, 7, 8, 9, 10]</span>\n",
    "<br><span style = \"margin-left : 50px ;\">Variable Management :</span>\n",
    "<br><span style = \"margin-left : 100px ;\">Removing any rows where this variable is null</span>"
   ]
  },
  {
   "cell_type": "markdown",
   "metadata": {},
   "source": [
    "<div id = \"data\"><h3>A QUICK LOOK AT THE DATA SET</h3></div>"
   ]
  },
  {
   "cell_type": "markdown",
   "metadata": {},
   "source": [
    "Set up"
   ]
  },
  {
   "cell_type": "code",
   "execution_count": 1,
   "metadata": {
    "collapsed": true
   },
   "outputs": [],
   "source": [
    "import pandas as pd\n",
    "pd.options.display.max_rows = 6"
   ]
  },
  {
   "cell_type": "markdown",
   "metadata": {},
   "source": [
    "Reading in then converting data to numeric"
   ]
  },
  {
   "cell_type": "code",
   "execution_count": 2,
   "metadata": {
    "collapsed": false
   },
   "outputs": [
    {
     "data": {
      "text/html": [
       "<div>\n",
       "<table border=\"1\" class=\"dataframe\">\n",
       "  <thead>\n",
       "    <tr style=\"text-align: right;\">\n",
       "      <th></th>\n",
       "      <th>incomeperperson</th>\n",
       "      <th>armedforcesrate</th>\n",
       "      <th>polityscore</th>\n",
       "    </tr>\n",
       "    <tr>\n",
       "      <th>country</th>\n",
       "      <th></th>\n",
       "      <th></th>\n",
       "      <th></th>\n",
       "    </tr>\n",
       "  </thead>\n",
       "  <tbody>\n",
       "    <tr>\n",
       "      <th>Afghanistan</th>\n",
       "      <td>NaN</td>\n",
       "      <td>0.569653</td>\n",
       "      <td>0.0</td>\n",
       "    </tr>\n",
       "    <tr>\n",
       "      <th>Albania</th>\n",
       "      <td>1914.996551</td>\n",
       "      <td>1.024736</td>\n",
       "      <td>9.0</td>\n",
       "    </tr>\n",
       "    <tr>\n",
       "      <th>Algeria</th>\n",
       "      <td>2231.993335</td>\n",
       "      <td>2.306817</td>\n",
       "      <td>2.0</td>\n",
       "    </tr>\n",
       "    <tr>\n",
       "      <th>...</th>\n",
       "      <td>...</td>\n",
       "      <td>...</td>\n",
       "      <td>...</td>\n",
       "    </tr>\n",
       "    <tr>\n",
       "      <th>Yemen, Rep.</th>\n",
       "      <td>610.357367</td>\n",
       "      <td>2.316235</td>\n",
       "      <td>-2.0</td>\n",
       "    </tr>\n",
       "    <tr>\n",
       "      <th>Zambia</th>\n",
       "      <td>432.226337</td>\n",
       "      <td>0.341335</td>\n",
       "      <td>7.0</td>\n",
       "    </tr>\n",
       "    <tr>\n",
       "      <th>Zimbabwe</th>\n",
       "      <td>320.771890</td>\n",
       "      <td>1.032785</td>\n",
       "      <td>1.0</td>\n",
       "    </tr>\n",
       "  </tbody>\n",
       "</table>\n",
       "<p>213 rows × 3 columns</p>\n",
       "</div>"
      ],
      "text/plain": [
       "             incomeperperson  armedforcesrate  polityscore\n",
       "country                                                   \n",
       "Afghanistan              NaN         0.569653          0.0\n",
       "Albania          1914.996551         1.024736          9.0\n",
       "Algeria          2231.993335         2.306817          2.0\n",
       "...                      ...              ...          ...\n",
       "Yemen, Rep.       610.357367         2.316235         -2.0\n",
       "Zambia            432.226337         0.341335          7.0\n",
       "Zimbabwe          320.771890         1.032785          1.0\n",
       "\n",
       "[213 rows x 3 columns]"
      ]
     },
     "execution_count": 2,
     "metadata": {},
     "output_type": "execute_result"
    }
   ],
   "source": [
    "gap_data = pd.read_csv('gapminder.csv', usecols = ['incomeperperson', 'armedforcesrate','polityscore','country'], \\\n",
    "    index_col='country')\n",
    "gap_data.loc[:,'incomeperperson'] = pd.to_numeric(gap_data['incomeperperson'].replace(' ',''))\n",
    "gap_data.loc[:,'armedforcesrate'] = pd.to_numeric(gap_data['armedforcesrate'].replace(' ',''))\n",
    "gap_data.loc[:,'polityscore'] = pd.to_numeric(gap_data['polityscore'].replace(' ',''))\n",
    "gap_data"
   ]
  },
  {
   "cell_type": "markdown",
   "metadata": {},
   "source": [
    "Check for nulls in the data set"
   ]
  },
  {
   "cell_type": "code",
   "execution_count": 60,
   "metadata": {
    "collapsed": false
   },
   "outputs": [
    {
     "data": {
      "text/plain": [
       "incomeperperson    23\n",
       "armedforcesrate    49\n",
       "polityscore        52\n",
       "dtype: int64"
      ]
     },
     "execution_count": 60,
     "metadata": {},
     "output_type": "execute_result"
    }
   ],
   "source": [
    "gap_data.isnull().sum()"
   ]
  },
  {
   "cell_type": "markdown",
   "metadata": {},
   "source": [
    "Check the size of the data set when any rows that contain null values are removed."
   ]
  },
  {
   "cell_type": "code",
   "execution_count": 78,
   "metadata": {
    "collapsed": false
   },
   "outputs": [
    {
     "data": {
      "text/plain": [
       "(149, 3)"
      ]
     },
     "execution_count": 78,
     "metadata": {},
     "output_type": "execute_result"
    }
   ],
   "source": [
    "gap_data[gap_data.isnull().apply(lambda x : ~x.any(), axis = 1)].shape"
   ]
  }
 ],
 "metadata": {
  "anaconda-cloud": {},
  "kernelspec": {
   "display_name": "Python [Root]",
   "language": "python",
   "name": "Python [Root]"
  },
  "language_info": {
   "codemirror_mode": {
    "name": "ipython",
    "version": 3
   },
   "file_extension": ".py",
   "mimetype": "text/x-python",
   "name": "python",
   "nbconvert_exporter": "python",
   "pygments_lexer": "ipython3",
   "version": "3.5.2"
  }
 },
 "nbformat": 4,
 "nbformat_minor": 0
}
