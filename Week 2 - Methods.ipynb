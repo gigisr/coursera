{
 "cells": [
  {
   "cell_type": "markdown",
   "metadata": {},
   "source": [
    "<h1>DATA ANALYSIS AND INTERPRETATION CAPSTONE</h1>"
   ]
  },
  {
   "cell_type": "markdown",
   "metadata": {},
   "source": [
    "I will use the Storm Event data which contains extensive National Weather Service data of storm events by state and county."
   ]
  },
  {
   "cell_type": "markdown",
   "metadata": {},
   "source": [
    "I have also included the <b><i>drafts</i></b> from week 1. "
   ]
  },
  {
   "cell_type": "markdown",
   "metadata": {},
   "source": [
    "<h2>Module 1. Identify Your Data and Research Question</h2>"
   ]
  },
  {
   "cell_type": "markdown",
   "metadata": {},
   "source": [
    "<h4>Project Title</h4>"
   ]
  },
  {
   "cell_type": "markdown",
   "metadata": {},
   "source": [
    "The Association between the Number of Deaths and the State and Time Weather Events occur."
   ]
  },
  {
   "cell_type": "markdown",
   "metadata": {},
   "source": [
    "<h4>Research Question</h4>"
   ]
  },
  {
   "cell_type": "markdown",
   "metadata": {},
   "source": [
    "This anlaysis is to identify the best predictors of the number of fatalities from storm event characteristics including the month it happened, the designation of the event, the state it started in, the type of event, and the number of associated events."
   ]
  },
  {
   "cell_type": "markdown",
   "metadata": {},
   "source": [
    "<h4>Motivation</h4>"
   ]
  },
  {
   "cell_type": "markdown",
   "metadata": {},
   "source": [
    "As an insurance analyst, and due to the recent extream weather partly caused by the El Niño last year (2016), I am interested in  the potential impact on businesses and people. By identifying which characteristics are important to predicting negative factors, such as deaths, we can identify what information to gather from the insured and potentially warn them about the risks they are facing so they can react responsibly."
   ]
  },
  {
   "cell_type": "markdown",
   "metadata": {},
   "source": [
    "<h4>Potential Implications</h4>"
   ]
  },
  {
   "cell_type": "markdown",
   "metadata": {},
   "source": [
    "Through predicting risk reliably there will be increased accuracy in pricing the products and less information may be collected meaning it will be quicker, easier, and potentially cheaper to buy your insurance."
   ]
  },
  {
   "cell_type": "markdown",
   "metadata": {},
   "source": [
    "<h2>Module 2. Methods</h2>"
   ]
  },
  {
   "cell_type": "markdown",
   "metadata": {},
   "source": [
    "<h4>Sample Description</h4>"
   ]
  },
  {
   "cell_type": "markdown",
   "metadata": {},
   "source": [
    "The sample includes N = 155,145 individual storm events. These storm events are categorised by USA state and county, and occured between Janurary 2013 and October 2015. The main types of weather phenomenon that are recorded in the data set are thunder storms, hail, winter weather, flash floods, winter storms, and drought."
   ]
  },
  {
   "cell_type": "markdown",
   "metadata": {},
   "source": [
    "<h4>Description of Measures</h4>"
   ]
  },
  {
   "cell_type": "markdown",
   "metadata": {},
   "source": [
    "The number of deaths directly caused by the weather event is recorded as an integer that ranges from 0 to 43. The majority of storm events have a recorded value of 0."
   ]
  },
  {
   "cell_type": "markdown",
   "metadata": {},
   "source": [
    "My predictors include:\n",
    "<div style=\"margin-left:25px;\"><ul>\n",
    "    <li>The state in which the weather event occured, I have only included records that fit with the full USA state name. So, for instance, records that have occured in the Atlantic North will be excluded as that is not the name of a state.</li>\n",
    "    <li>The weather event label that most accurately describes the meteorological event leading to fatalities, injuries, damage, etc. I have further filtered the data so that only the top 20 occuring weather events are included. The top five of these are noted in the sample description.</li>\n",
    "    <li>CZ type, which indicates where the event occured, (C) county/parish or (Z) zone. Where zone happens over a large area such as a drought or heavy fog, and county/parish relates to more local events such as flash floods or hail.</li>\n",
    "</ul></div>"
   ]
  },
  {
   "cell_type": "markdown",
   "metadata": {},
   "source": [
    "I used various columns to determine:\n",
    "<div style=\"margin-left:25px;\"><ul>\n",
    "    <li>The month name the event happened in, which I have mapped from the month name to the month's number, for example August becomes 8.</li>\n",
    "    <li>The number of incidents associated with a single weather event. The majority of weather events have a low number of incidents associated with them. I have binned the variable into two bins, 1 if the number is less than 20, and 2 if it is greater.</li>\n",
    "</ul></div>"
   ]
  },
  {
   "cell_type": "markdown",
   "metadata": {},
   "source": [
    "<h4>Description of Analyses</h4>"
   ]
  },
  {
   "cell_type": "markdown",
   "metadata": {},
   "source": [
    "I investigated the distrobutions for the predictor variables, and of the response variable. By producing frequency tables for the USA state, the type of weather event, the country / zone categorisation, and our categorical bins for the number of incidents associated with the event. By calculating the mean, standard deviation, maximum, and minimum values for the quantitative variables. All of my categorical variables have been binned into two bins."
   ]
  },
  {
   "cell_type": "markdown",
   "metadata": {},
   "source": [
    "For the numerical variables I have looked at the scatter plots and the desity plots. For the categorical variables I have looked at bar charts to see the relative counts of values within the variables. I will use a Pearson Correlation test to examine my response varaible against the quantitative variables. I will use an Analysis of Variance (ANOVA) test to check relationships between the response variable, once I have cetegorised it, and my categorical variables. I will test each predictor varaible independently against the response varaible."
   ]
  },
  {
   "cell_type": "markdown",
   "metadata": {},
   "source": [
    "In order to identify the best sub set of variables to predict the potential deaths from a weather event I will use Lasso regression with the least angle regression selection algorithm. By standarising my variables to have a mean of 0 and a standard deviation of 1 I can compare the outputted scales for the different variables against one another, judging if one has a greater relation to the model than another."
   ]
  },
  {
   "cell_type": "markdown",
   "metadata": {},
   "source": [
    "By randomly splitting my data into a test and a training set I can <i>train</i> my model and then test it to check it's accuracy. I will use a random forest model as the majority of my variables are categorical and the amount of data I have mean it is likely that we will have a good overall view of the real world behaviour. By only using the best predictor variables, as identified by the lasso regression, the tree should be a concise and interpretable size."
   ]
  }
 ],
 "metadata": {
  "anaconda-cloud": {},
  "kernelspec": {
   "display_name": "Python [Root]",
   "language": "python",
   "name": "Python [Root]"
  },
  "language_info": {
   "codemirror_mode": {
    "name": "ipython",
    "version": 3
   },
   "file_extension": ".py",
   "mimetype": "text/x-python",
   "name": "python",
   "nbconvert_exporter": "python",
   "pygments_lexer": "ipython3",
   "version": "3.5.2"
  }
 },
 "nbformat": 4,
 "nbformat_minor": 0
}
