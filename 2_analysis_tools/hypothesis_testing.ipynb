{
 "cells": [
  {
   "cell_type": "code",
   "execution_count": 1,
   "metadata": {
    "collapsed": true
   },
   "outputs": [],
   "source": [
    "from IPython.core.interactiveshell import InteractiveShell\n",
    "InteractiveShell.ast_node_interactivity = \"all\""
   ]
  },
  {
   "cell_type": "markdown",
   "metadata": {},
   "source": [
    "<h1> Hypothesis Testing and ANOVA</h1>"
   ]
  },
  {
   "cell_type": "markdown",
   "metadata": {},
   "source": [
    "I used the GapMinder data set to investigate the three variables incomeperperson, armedforcesrate, and polityscore."
   ]
  },
  {
   "cell_type": "markdown",
   "metadata": {},
   "source": [
    "<h4>SET UP</h4>"
   ]
  },
  {
   "cell_type": "markdown",
   "metadata": {},
   "source": [
    "<i>Import the packages to use</i>"
   ]
  },
  {
   "cell_type": "code",
   "execution_count": 2,
   "metadata": {
    "collapsed": true
   },
   "outputs": [],
   "source": [
    "import pandas as pd\n",
    "import numpy as np\n",
    "import statsmodels.formula.api as smf\n",
    "import statsmodels.stats.multicomp as multi"
   ]
  },
  {
   "cell_type": "markdown",
   "metadata": {},
   "source": [
    "<i>Set some options</i>"
   ]
  },
  {
   "cell_type": "code",
   "execution_count": 3,
   "metadata": {
    "collapsed": true
   },
   "outputs": [],
   "source": [
    "pd.set_option('display.max_rows', 200)\n",
    "pd.set_option('expand_frame_repr', False)\n",
    "pd.set_option('display.float_format', '{:,.2f}'.format)"
   ]
  },
  {
   "cell_type": "markdown",
   "metadata": {},
   "source": [
    "<i>Read in the data</i>"
   ]
  },
  {
   "cell_type": "code",
   "execution_count": 22,
   "metadata": {
    "collapsed": false
   },
   "outputs": [],
   "source": [
    "data = pd.read_csv('../gapminder.csv', low_memory=False).set_index('country')\n",
    "data = data[['incomeperperson','armedforcesrate','polityscore']]\n",
    "data = data[(data['incomeperperson'] != ' ') & (data['armedforcesrate'] != ' ') & (data['polityscore'] != ' ')]\n",
    "data.loc[:,'incomeperperson'] = pd.to_numeric(data.loc[:,'incomeperperson']).astype('int')\n",
    "data.loc[:,'armedforcesrate'] = pd.to_numeric(data.loc[:,'armedforcesrate']).round(4)"
   ]
  },
  {
   "cell_type": "markdown",
   "metadata": {},
   "source": [
    "<i>Map some values so the analysis doesn't get too big to interpret</i>"
   ]
  },
  {
   "cell_type": "code",
   "execution_count": 23,
   "metadata": {
    "collapsed": false
   },
   "outputs": [],
   "source": [
    "data.polityscore = data.polityscore \\\n",
    "    .map({'-10':'-10:-5','-9':'-10:-5','-8':'-10:-5','-7':'-10:-5','-6':'-10:-5'\n",
    "         ,'-5':'-10:-5','-4':'-4:-','-3':'-4:-1','-2':'-4:-1','-1':'-4:-1','0':'0'\n",
    "         ,'1':'1:5','2':'1:5','3':'1:5','4':'1:5','5':'1:5','6':'6:10','7':'6:10'\n",
    "         ,'8':'6:10', '9':'6:10','10':'6:10'})"
   ]
  },
  {
   "cell_type": "markdown",
   "metadata": {},
   "source": [
    "<h4>ANOVA ANALYSIS</h4>"
   ]
  },
  {
   "cell_type": "markdown",
   "metadata": {},
   "source": [
    "<i>Perform the ANOVA test</i>"
   ]
  },
  {
   "cell_type": "code",
   "execution_count": 27,
   "metadata": {
    "collapsed": false
   },
   "outputs": [
    {
     "data": {
      "text/html": [
       "<table class=\"simpletable\">\n",
       "<caption>OLS Regression Results</caption>\n",
       "<tr>\n",
       "  <th>Dep. Variable:</th>     <td>incomeperperson</td> <th>  R-squared:         </th> <td>   0.120</td>\n",
       "</tr>\n",
       "<tr>\n",
       "  <th>Model:</th>                   <td>OLS</td>       <th>  Adj. R-squared:    </th> <td>   0.089</td>\n",
       "</tr>\n",
       "<tr>\n",
       "  <th>Method:</th>             <td>Least Squares</td>  <th>  F-statistic:       </th> <td>   3.896</td>\n",
       "</tr>\n",
       "<tr>\n",
       "  <th>Date:</th>             <td>Sat, 20 May 2017</td> <th>  Prob (F-statistic):</th>  <td>0.00243</td>\n",
       "</tr>\n",
       "<tr>\n",
       "  <th>Time:</th>                 <td>21:20:14</td>     <th>  Log-Likelihood:    </th> <td> -1572.1</td>\n",
       "</tr>\n",
       "<tr>\n",
       "  <th>No. Observations:</th>      <td>   149</td>      <th>  AIC:               </th> <td>   3156.</td>\n",
       "</tr>\n",
       "<tr>\n",
       "  <th>Df Residuals:</th>          <td>   143</td>      <th>  BIC:               </th> <td>   3174.</td>\n",
       "</tr>\n",
       "<tr>\n",
       "  <th>Df Model:</th>              <td>     5</td>      <th>                     </th>     <td> </td>   \n",
       "</tr>\n",
       "<tr>\n",
       "  <th>Covariance Type:</th>      <td>nonrobust</td>    <th>                     </th>     <td> </td>   \n",
       "</tr>\n",
       "</table>\n",
       "<table class=\"simpletable\">\n",
       "<tr>\n",
       "             <td></td>                <th>coef</th>     <th>std err</th>      <th>t</th>      <th>P>|t|</th> <th>[95.0% Conf. Int.]</th> \n",
       "</tr>\n",
       "<tr>\n",
       "  <th>Intercept</th>               <td> 6165.0000</td> <td> 2059.996</td> <td>    2.993</td> <td> 0.003</td> <td> 2093.021  1.02e+04</td>\n",
       "</tr>\n",
       "<tr>\n",
       "  <th>C(polityscore)[T.-4:-]</th>  <td>-4803.6667</td> <td> 4369.912</td> <td>   -1.099</td> <td> 0.274</td> <td>-1.34e+04  3834.305</td>\n",
       "</tr>\n",
       "<tr>\n",
       "  <th>C(polityscore)[T.-4:-1]</th> <td>-2983.2000</td> <td> 3191.333</td> <td>   -0.935</td> <td> 0.351</td> <td>-9291.482  3325.082</td>\n",
       "</tr>\n",
       "<tr>\n",
       "  <th>C(polityscore)[T.0]</th>     <td>-5703.7500</td> <td> 5149.991</td> <td>   -1.108</td> <td> 0.270</td> <td>-1.59e+04  4476.197</td>\n",
       "</tr>\n",
       "<tr>\n",
       "  <th>C(polityscore)[T.1:5]</th>   <td>-5007.1667</td> <td> 3032.233</td> <td>   -1.651</td> <td> 0.101</td> <td> -1.1e+04   986.624</td>\n",
       "</tr>\n",
       "<tr>\n",
       "  <th>C(polityscore)[T.6:10]</th>  <td> 3335.6471</td> <td> 2300.435</td> <td>    1.450</td> <td> 0.149</td> <td>-1211.604  7882.899</td>\n",
       "</tr>\n",
       "</table>\n",
       "<table class=\"simpletable\">\n",
       "<tr>\n",
       "  <th>Omnibus:</th>       <td>52.425</td> <th>  Durbin-Watson:     </th> <td>   1.702</td>\n",
       "</tr>\n",
       "<tr>\n",
       "  <th>Prob(Omnibus):</th> <td> 0.000</td> <th>  Jarque-Bera (JB):  </th> <td> 100.574</td>\n",
       "</tr>\n",
       "<tr>\n",
       "  <th>Skew:</th>          <td> 1.658</td> <th>  Prob(JB):          </th> <td>1.45e-22</td>\n",
       "</tr>\n",
       "<tr>\n",
       "  <th>Kurtosis:</th>      <td> 5.282</td> <th>  Cond. No.          </th> <td>    9.28</td>\n",
       "</tr>\n",
       "</table>"
      ],
      "text/plain": [
       "<class 'statsmodels.iolib.summary.Summary'>\n",
       "\"\"\"\n",
       "                            OLS Regression Results                            \n",
       "==============================================================================\n",
       "Dep. Variable:        incomeperperson   R-squared:                       0.120\n",
       "Model:                            OLS   Adj. R-squared:                  0.089\n",
       "Method:                 Least Squares   F-statistic:                     3.896\n",
       "Date:                Sat, 20 May 2017   Prob (F-statistic):            0.00243\n",
       "Time:                        21:20:14   Log-Likelihood:                -1572.1\n",
       "No. Observations:                 149   AIC:                             3156.\n",
       "Df Residuals:                     143   BIC:                             3174.\n",
       "Df Model:                           5                                         \n",
       "Covariance Type:            nonrobust                                         \n",
       "===========================================================================================\n",
       "                              coef    std err          t      P>|t|      [95.0% Conf. Int.]\n",
       "-------------------------------------------------------------------------------------------\n",
       "Intercept                6165.0000   2059.996      2.993      0.003      2093.021  1.02e+04\n",
       "C(polityscore)[T.-4:-]  -4803.6667   4369.912     -1.099      0.274     -1.34e+04  3834.305\n",
       "C(polityscore)[T.-4:-1] -2983.2000   3191.333     -0.935      0.351     -9291.482  3325.082\n",
       "C(polityscore)[T.0]     -5703.7500   5149.991     -1.108      0.270     -1.59e+04  4476.197\n",
       "C(polityscore)[T.1:5]   -5007.1667   3032.233     -1.651      0.101      -1.1e+04   986.624\n",
       "C(polityscore)[T.6:10]   3335.6471   2300.435      1.450      0.149     -1211.604  7882.899\n",
       "==============================================================================\n",
       "Omnibus:                       52.425   Durbin-Watson:                   1.702\n",
       "Prob(Omnibus):                  0.000   Jarque-Bera (JB):              100.574\n",
       "Skew:                           1.658   Prob(JB):                     1.45e-22\n",
       "Kurtosis:                       5.282   Cond. No.                         9.28\n",
       "==============================================================================\n",
       "\n",
       "Warnings:\n",
       "[1] Standard Errors assume that the covariance matrix of the errors is correctly specified.\n",
       "\"\"\""
      ]
     },
     "execution_count": 27,
     "metadata": {},
     "output_type": "execute_result"
    }
   ],
   "source": [
    "model1 = smf.ols(formula='incomeperperson~C(polityscore)', data=data)\n",
    "results1 = model1.fit()\n",
    "results1.summary()"
   ]
  },
  {
   "cell_type": "markdown",
   "metadata": {},
   "source": [
    "<i>Look at some statistics and perform a post hoc test</i>"
   ]
  },
  {
   "cell_type": "code",
   "execution_count": 28,
   "metadata": {
    "collapsed": true
   },
   "outputs": [],
   "source": [
    "mean1 = data.groupby('polityscore').mean()\n",
    "sd1 = data.groupby('polityscore').std()"
   ]
  },
  {
   "cell_type": "code",
   "execution_count": 29,
   "metadata": {
    "collapsed": false
   },
   "outputs": [
    {
     "data": {
      "text/html": [
       "<table class=\"simpletable\">\n",
       "<caption>Multiple Comparison of Means - Tukey HSD,FWER=0.05</caption>\n",
       "<tr>\n",
       "  <th>group1</th> <th>group2</th>  <th>meandiff</th>     <th>lower</th>       <th>upper</th>   <th>reject</th>\n",
       "</tr>\n",
       "<tr>\n",
       "  <td>-10:-5</td>  <td>-4:-</td>  <td>-4803.6667</td> <td>-17427.1898</td>  <td>7819.8565</td>  <td>False</td>\n",
       "</tr>\n",
       "<tr>\n",
       "  <td>-10:-5</td>  <td>-4:-1</td>   <td>-2983.2</td>  <td>-12202.1178</td>  <td>6235.7178</td>  <td>False</td>\n",
       "</tr>\n",
       "<tr>\n",
       "  <td>-10:-5</td>    <td>0</td>    <td>-5703.75</td>  <td>-20580.7147</td>  <td>9173.2147</td>  <td>False</td>\n",
       "</tr>\n",
       "<tr>\n",
       "  <td>-10:-5</td>   <td>1:5</td>  <td>-5007.1667</td> <td>-13766.4863</td>  <td>3752.153</td>   <td>False</td>\n",
       "</tr>\n",
       "<tr>\n",
       "  <td>-10:-5</td>  <td>6:10</td>   <td>3335.6471</td> <td>-3309.7019</td>   <td>9980.996</td>   <td>False</td>\n",
       "</tr>\n",
       "<tr>\n",
       "   <td>-4:-</td>   <td>-4:-1</td>  <td>1820.4667</td> <td>-11352.1594</td> <td>14993.0927</td>  <td>False</td>\n",
       "</tr>\n",
       "<tr>\n",
       "   <td>-4:-</td>     <td>0</td>    <td>-900.0833</td> <td>-18502.7453</td> <td>16702.5787</td>  <td>False</td>\n",
       "</tr>\n",
       "<tr>\n",
       "   <td>-4:-</td>    <td>1:5</td>    <td>-203.5</td>   <td>-13058.6667</td> <td>12651.6667</td>  <td>False</td>\n",
       "</tr>\n",
       "<tr>\n",
       "   <td>-4:-</td>   <td>6:10</td>   <td>8139.3137</td> <td>-3379.8136</td>  <td>19658.4411</td>  <td>False</td>\n",
       "</tr>\n",
       "<tr>\n",
       "   <td>-4:-1</td>    <td>0</td>    <td>-2720.55</td>  <td>-18066.195</td>   <td>12625.095</td>  <td>False</td>\n",
       "</tr>\n",
       "<tr>\n",
       "   <td>-4:-1</td>   <td>1:5</td>  <td>-2023.9667</td> <td>-11557.6135</td>  <td>7509.6801</td>  <td>False</td>\n",
       "</tr>\n",
       "<tr>\n",
       "   <td>-4:-1</td>  <td>6:10</td>   <td>6318.8471</td>  <td>-1318.26</td>   <td>13955.9541</td>  <td>False</td>\n",
       "</tr>\n",
       "<tr>\n",
       "     <td>0</td>     <td>1:5</td>   <td>696.5833</td>  <td>-14377.4358</td> <td>15770.6025</td>  <td>False</td>\n",
       "</tr>\n",
       "<tr>\n",
       "     <td>0</td>    <td>6:10</td>   <td>9039.3971</td> <td>-4912.7009</td>   <td>22991.495</td>  <td>False</td>\n",
       "</tr>\n",
       "<tr>\n",
       "    <td>1:5</td>   <td>6:10</td>   <td>8342.8137</td>  <td>1267.3181</td>  <td>15418.3094</td>  <td>True</td> \n",
       "</tr>\n",
       "</table>"
      ],
      "text/plain": [
       "<class 'statsmodels.iolib.table.SimpleTable'>"
      ]
     },
     "execution_count": 29,
     "metadata": {},
     "output_type": "execute_result"
    }
   ],
   "source": [
    "mc1 = multi.MultiComparison(data['incomeperperson'],data['polityscore'])\n",
    "res1 = mc1.tukeyhsd()\n",
    "res1.summary()"
   ]
  },
  {
   "cell_type": "markdown",
   "metadata": {},
   "source": [
    "<h4>MODEL INTERPRETATION</h4>"
   ]
  },
  {
   "cell_type": "markdown",
   "metadata": {},
   "source": [
    "My main question is between two quantitative variables so I have incorporated my further variable in order to perform, which is categorical, so I will be looking at the association between the income per person and the polity score of countries. I have also mapped my values to 5 sets to make the analysis displays more compact, the groups are: -10:-5, -6:-1,0,1:5,6:10. \n",
    "\n",
    "My Analysis of Variance (ANVOA) revealed that there is an association between income per person and polity score by country, F = 4.859, p = 0.00105, so p < 0.05. As my categorical variable (polity score) has 5 levels I need to perform a post hoc comparison of mean income per person against polity score grouping, using the Tukey Honestly Significantly Difference test. This revealed that there is a significant difference between countries scoring -4:-1 and 6:10 as well as countries scoring 1:5 and 6:10, with the 6:10 group earning much more income per person than the other groups. All other comparisons were statistically similar."
   ]
  }
 ],
 "metadata": {
  "kernelspec": {
   "display_name": "Python [Root]",
   "language": "python",
   "name": "Python [Root]"
  },
  "language_info": {
   "codemirror_mode": {
    "name": "ipython",
    "version": 3
   },
   "file_extension": ".py",
   "mimetype": "text/x-python",
   "name": "python",
   "nbconvert_exporter": "python",
   "pygments_lexer": "ipython3",
   "version": "3.5.2"
  }
 },
 "nbformat": 4,
 "nbformat_minor": 0
}
