{
 "cells": [
  {
   "cell_type": "code",
   "execution_count": 2,
   "metadata": {
    "collapsed": true
   },
   "outputs": [],
   "source": [
    "from IPython.core.interactiveshell import InteractiveShell\n",
    "InteractiveShell.ast_node_interactivity = \"all\""
   ]
  },
  {
   "cell_type": "markdown",
   "metadata": {},
   "source": [
    "<h1>Chi Square Test of Independence</h1>"
   ]
  },
  {
   "cell_type": "markdown",
   "metadata": {},
   "source": [
    "I used the GapMinder data set to investigate the three variables incomeperperson, armedforcesrate, and polityscore."
   ]
  },
  {
   "cell_type": "markdown",
   "metadata": {},
   "source": [
    "<h4>SET UP</h4>"
   ]
  },
  {
   "cell_type": "markdown",
   "metadata": {},
   "source": [
    "<i>Import the packages to use</i>"
   ]
  },
  {
   "cell_type": "code",
   "execution_count": 3,
   "metadata": {
    "collapsed": true
   },
   "outputs": [],
   "source": [
    "import pandas as pd\n",
    "import numpy as np\n",
    "import scipy.stats as scistat\n",
    "import seaborn as sb\n",
    "import matplotlib.pyplot as plt\n",
    "\n",
    "%matplotlib inline"
   ]
  },
  {
   "cell_type": "markdown",
   "metadata": {},
   "source": [
    "<i>Set some options</i>"
   ]
  },
  {
   "cell_type": "code",
   "execution_count": 4,
   "metadata": {
    "collapsed": true
   },
   "outputs": [],
   "source": [
    "pd.set_option('display.max_rows', 200)\n",
    "pd.set_option('expand_frame_repr', False)\n",
    "pd.set_option('display.float_format', '{:,.2f}'.format)"
   ]
  },
  {
   "cell_type": "markdown",
   "metadata": {},
   "source": [
    "<i>Read in the data</i>"
   ]
  },
  {
   "cell_type": "code",
   "execution_count": 5,
   "metadata": {
    "collapsed": false
   },
   "outputs": [],
   "source": [
    "data = pd.read_csv('../gapminder.csv', low_memory=False).set_index('country')\n",
    "data = data[['incomeperperson','armedforcesrate','polityscore']]\n",
    "data = data[(data['incomeperperson'] != ' ') & (data['armedforcesrate'] != ' ') & (data['polityscore'] != ' ')]\n",
    "data.loc[:,'incomeperperson'] = pd.to_numeric(data.loc[:,'incomeperperson']).astype('int')\n",
    "data.loc[:,'armedforcesrate'] = pd.to_numeric(data.loc[:,'armedforcesrate']).round(4)"
   ]
  },
  {
   "cell_type": "markdown",
   "metadata": {},
   "source": [
    "<i>Map some values so the analysis doesn't get too big to interpret</i>"
   ]
  },
  {
   "cell_type": "code",
   "execution_count": 6,
   "metadata": {
    "collapsed": false
   },
   "outputs": [],
   "source": [
    "data.polityscore = data.polityscore \\\n",
    "    .map({'-10':'neg','-9':'neg','-8':'neg','-7':'neg','-6':'neg','-5':'neg'\n",
    "         ,'-4':'neg','-3':'neg','-2':'neg','-1':'neg','0':'pos','1':'pos'\n",
    "         ,'2':'pos','3':'pos','4':'pos','5':'pos','6':'pos','7':'pos'\n",
    "         ,'8':'pos','9':'pos','10':'pos'})\n",
    "data.polityscore = data.polityscore.map({'neg':0,'pos':1})\n",
    "data.loc[data.incomeperperson < 5000,'incomeperperson'] = 5000\n",
    "data.loc[(data.incomeperperson > 5000)&(data.incomeperperson <= 10000),'incomeperperson'] = 10000\n",
    "data.loc[(data.incomeperperson > 10000)&(data.incomeperperson <= 25000),'incomeperperson'] = 25000\n",
    "data.loc[(data.incomeperperson > 25000)&(data.incomeperperson < 40000),'incomeperperson'] = 40000"
   ]
  },
  {
   "cell_type": "markdown",
   "metadata": {},
   "source": [
    "<h4>CHI SQUARED ANALYSIS</h4>"
   ]
  },
  {
   "cell_type": "markdown",
   "metadata": {},
   "source": [
    "<i>The contingency table of observed counts</i>"
   ]
  },
  {
   "cell_type": "code",
   "execution_count": 7,
   "metadata": {
    "collapsed": false
   },
   "outputs": [
    {
     "name": "stdout",
     "output_type": "stream",
     "text": [
      "The crosstab table of value counts\n"
     ]
    },
    {
     "data": {
      "text/html": [
       "<div>\n",
       "<table border=\"1\" class=\"dataframe\">\n",
       "  <thead>\n",
       "    <tr style=\"text-align: right;\">\n",
       "      <th>incomeperperson</th>\n",
       "      <th>5000</th>\n",
       "      <th>10000</th>\n",
       "      <th>25000</th>\n",
       "      <th>40000</th>\n",
       "    </tr>\n",
       "    <tr>\n",
       "      <th>polityscore</th>\n",
       "      <th></th>\n",
       "      <th></th>\n",
       "      <th></th>\n",
       "      <th></th>\n",
       "    </tr>\n",
       "  </thead>\n",
       "  <tbody>\n",
       "    <tr>\n",
       "      <th>0</th>\n",
       "      <td>33</td>\n",
       "      <td>4</td>\n",
       "      <td>3</td>\n",
       "      <td>2</td>\n",
       "    </tr>\n",
       "    <tr>\n",
       "      <th>1</th>\n",
       "      <td>63</td>\n",
       "      <td>17</td>\n",
       "      <td>13</td>\n",
       "      <td>14</td>\n",
       "    </tr>\n",
       "  </tbody>\n",
       "</table>\n",
       "</div>"
      ],
      "text/plain": [
       "incomeperperson  5000   10000  25000  40000\n",
       "polityscore                                \n",
       "0                   33      4      3      2\n",
       "1                   63     17     13     14"
      ]
     },
     "execution_count": 7,
     "metadata": {},
     "output_type": "execute_result"
    },
    {
     "name": "stdout",
     "output_type": "stream",
     "text": [
      "The column sums for each explanatory variable\n"
     ]
    },
    {
     "data": {
      "text/plain": [
       "incomeperperson\n",
       "5000     96\n",
       "10000    21\n",
       "25000    16\n",
       "40000    16\n",
       "dtype: int64"
      ]
     },
     "execution_count": 7,
     "metadata": {},
     "output_type": "execute_result"
    },
    {
     "name": "stdout",
     "output_type": "stream",
     "text": [
      "The column percentages for the crosstabs table\n"
     ]
    },
    {
     "data": {
      "text/html": [
       "<div>\n",
       "<table border=\"1\" class=\"dataframe\">\n",
       "  <thead>\n",
       "    <tr style=\"text-align: right;\">\n",
       "      <th>incomeperperson</th>\n",
       "      <th>5000</th>\n",
       "      <th>10000</th>\n",
       "      <th>25000</th>\n",
       "      <th>40000</th>\n",
       "    </tr>\n",
       "    <tr>\n",
       "      <th>polityscore</th>\n",
       "      <th></th>\n",
       "      <th></th>\n",
       "      <th></th>\n",
       "      <th></th>\n",
       "    </tr>\n",
       "  </thead>\n",
       "  <tbody>\n",
       "    <tr>\n",
       "      <th>0</th>\n",
       "      <td>0.34</td>\n",
       "      <td>0.19</td>\n",
       "      <td>0.19</td>\n",
       "      <td>0.12</td>\n",
       "    </tr>\n",
       "    <tr>\n",
       "      <th>1</th>\n",
       "      <td>0.66</td>\n",
       "      <td>0.81</td>\n",
       "      <td>0.81</td>\n",
       "      <td>0.88</td>\n",
       "    </tr>\n",
       "  </tbody>\n",
       "</table>\n",
       "</div>"
      ],
      "text/plain": [
       "incomeperperson  5000   10000  25000  40000\n",
       "polityscore                                \n",
       "0                 0.34   0.19   0.19   0.12\n",
       "1                 0.66   0.81   0.81   0.88"
      ]
     },
     "execution_count": 7,
     "metadata": {},
     "output_type": "execute_result"
    }
   ],
   "source": [
    "ct1 = pd.crosstab(data['polityscore'],data['incomeperperson'])\n",
    "colsum1 = ct1.sum(axis = 0)\n",
    "colpct1 = ct1/colsum1\n",
    "print('The crosstab table of value counts')\n",
    "ct1\n",
    "print('The column sums for each explanatory variable')\n",
    "colsum1\n",
    "print('The column percentages for the crosstabs table')\n",
    "colpct1"
   ]
  },
  {
   "cell_type": "markdown",
   "metadata": {},
   "source": [
    "<i>The test statistics</i>"
   ]
  },
  {
   "cell_type": "code",
   "execution_count": 8,
   "metadata": {
    "collapsed": false
   },
   "outputs": [
    {
     "data": {
      "text/plain": [
       "(5.331542917011042,\n",
       " 0.1490686642960721,\n",
       " 3,\n",
       " array([[ 27.06040268,   5.91946309,   4.51006711,   4.51006711],\n",
       "        [ 68.93959732,  15.08053691,  11.48993289,  11.48993289]]))"
      ]
     },
     "execution_count": 8,
     "metadata": {},
     "output_type": "execute_result"
    }
   ],
   "source": [
    "cs1 = scistat.chi2_contingency(ct1)\n",
    "cs1"
   ]
  },
  {
   "cell_type": "markdown",
   "metadata": {},
   "source": [
    "<i>Graphical Views</i>"
   ]
  },
  {
   "cell_type": "code",
   "execution_count": 9,
   "metadata": {
    "collapsed": false
   },
   "outputs": [
    {
     "data": {
      "text/plain": [
       "<seaborn.axisgrid.FacetGrid at 0x29b507a7550>"
      ]
     },
     "execution_count": 9,
     "metadata": {},
     "output_type": "execute_result"
    },
    {
     "data": {
      "text/plain": [
       "<matplotlib.text.Text at 0x29b50787f28>"
      ]
     },
     "execution_count": 9,
     "metadata": {},
     "output_type": "execute_result"
    },
    {
     "data": {
      "text/plain": [
       "<matplotlib.text.Text at 0x29b507b2048>"
      ]
     },
     "execution_count": 9,
     "metadata": {},
     "output_type": "execute_result"
    },
    {
     "data": {
      "image/png": "[encoded data removed]",
      "text/plain": [
       "<matplotlib.figure.Figure at 0x29b507a7240>"
      ]
     },
     "metadata": {},
     "output_type": "display_data"
    }
   ],
   "source": [
    "data.loc[:,'incomeperperson'] = data.loc[:,'incomeperperson'].astype('category')\n",
    "sb.factorplot(x = 'incomeperperson', y = 'polityscore', data = data, kind = 'bar', ci = None)\n",
    "plt.xlabel('incomeperperson band')\n",
    "plt.ylabel('polityscore')"
   ]
  },
  {
   "cell_type": "markdown",
   "metadata": {},
   "source": [
    "<i>If I rejected my null hypothesis (which I am not doing on a p-value of 0.149)</i>"
   ]
  },
  {
   "cell_type": "markdown",
   "metadata": {},
   "source": [
    "My Bonferroni Adjustment number is:\n",
    "<br>0.05 / 6 = 0.00833"
   ]
  },
  {
   "cell_type": "markdown",
   "metadata": {},
   "source": [
    "<i>Post hoc test examples - they are not needed in this instance</i>"
   ]
  },
  {
   "cell_type": "code",
   "execution_count": 14,
   "metadata": {
    "collapsed": false
   },
   "outputs": [
    {
     "name": "stdout",
     "output_type": "stream",
     "text": [
      "The crosstab table of value counts\n"
     ]
    },
    {
     "data": {
      "text/html": [
       "<div>\n",
       "<table border=\"1\" class=\"dataframe\">\n",
       "  <thead>\n",
       "    <tr style=\"text-align: right;\">\n",
       "      <th>comparisonvalues</th>\n",
       "      <th>5000.0</th>\n",
       "      <th>10000.0</th>\n",
       "    </tr>\n",
       "    <tr>\n",
       "      <th>polityscore</th>\n",
       "      <th></th>\n",
       "      <th></th>\n",
       "    </tr>\n",
       "  </thead>\n",
       "  <tbody>\n",
       "    <tr>\n",
       "      <th>0</th>\n",
       "      <td>33</td>\n",
       "      <td>4</td>\n",
       "    </tr>\n",
       "    <tr>\n",
       "      <th>1</th>\n",
       "      <td>63</td>\n",
       "      <td>17</td>\n",
       "    </tr>\n",
       "  </tbody>\n",
       "</table>\n",
       "</div>"
      ],
      "text/plain": [
       "comparisonvalues  5,000.00   10,000.00\n",
       "polityscore                           \n",
       "0                        33          4\n",
       "1                        63         17"
      ]
     },
     "execution_count": 14,
     "metadata": {},
     "output_type": "execute_result"
    },
    {
     "data": {
      "text/plain": [
       "(1.2303228312017374,\n",
       " 0.26734426427928082,\n",
       " 1,\n",
       " array([[ 30.35897436,   6.64102564],\n",
       "        [ 65.64102564,  14.35897436]]))"
      ]
     },
     "execution_count": 14,
     "metadata": {},
     "output_type": "execute_result"
    }
   ],
   "source": [
    "#ONE\n",
    "data['comparisonvalues'] = data['incomeperperson'].map({5000.0:5000.0,10000.0:10000.0})\n",
    "ct2 = pd.crosstab(data['polityscore'],data['comparisonvalues'])\n",
    "print('The crosstab table of value counts')\n",
    "ct2\n",
    "#The test statistics\n",
    "cs2 = scistat.chi2_contingency(ct2)\n",
    "cs2"
   ]
  },
  {
   "cell_type": "code",
   "execution_count": 18,
   "metadata": {
    "collapsed": false
   },
   "outputs": [
    {
     "name": "stdout",
     "output_type": "stream",
     "text": [
      "The crosstab table of value counts\n"
     ]
    },
    {
     "data": {
      "text/html": [
       "<div>\n",
       "<table border=\"1\" class=\"dataframe\">\n",
       "  <thead>\n",
       "    <tr style=\"text-align: right;\">\n",
       "      <th>comparisonvalues</th>\n",
       "      <th>5000.0</th>\n",
       "      <th>25000.0</th>\n",
       "    </tr>\n",
       "    <tr>\n",
       "      <th>polityscore</th>\n",
       "      <th></th>\n",
       "      <th></th>\n",
       "    </tr>\n",
       "  </thead>\n",
       "  <tbody>\n",
       "    <tr>\n",
       "      <th>0</th>\n",
       "      <td>33</td>\n",
       "      <td>3</td>\n",
       "    </tr>\n",
       "    <tr>\n",
       "      <th>1</th>\n",
       "      <td>63</td>\n",
       "      <td>13</td>\n",
       "    </tr>\n",
       "  </tbody>\n",
       "</table>\n",
       "</div>"
      ],
      "text/plain": [
       "comparisonvalues  5,000.00   25,000.00\n",
       "polityscore                           \n",
       "0                        33          3\n",
       "1                        63         13"
      ]
     },
     "execution_count": 18,
     "metadata": {},
     "output_type": "execute_result"
    },
    {
     "data": {
      "text/plain": [
       "(0.90229044834307981,\n",
       " 0.34216829932888848,\n",
       " 1,\n",
       " array([[ 30.85714286,   5.14285714],\n",
       "        [ 65.14285714,  10.85714286]]))"
      ]
     },
     "execution_count": 18,
     "metadata": {},
     "output_type": "execute_result"
    }
   ],
   "source": [
    "#TWO\n",
    "data['comparisonvalues'] = data['incomeperperson'].map({5000.0:5000.0,25000.0:25000.0})\n",
    "ct3 = pd.crosstab(data['polityscore'],data['comparisonvalues'])\n",
    "print('The crosstab table of value counts')\n",
    "ct3\n",
    "#The test statistics\n",
    "cs3 = scistat.chi2_contingency(ct3)\n",
    "cs3"
   ]
  },
  {
   "cell_type": "markdown",
   "metadata": {},
   "source": [
    "<h4>ANALYSIS</h4>"
   ]
  },
  {
   "cell_type": "markdown",
   "metadata": {},
   "source": [
    "<i>Model Interpretation for Chi-Square Tests:</i>"
   ]
  },
  {
   "cell_type": "markdown",
   "metadata": {},
   "source": [
    "I took a continuous quantitative variable, incomeperperson, and grouped it into ‘bins’ so that I could use it as a category. I also mapped the values of polityscore into two ‘bins’ so that it would produce an easily analysable set.\n",
    "\n",
    "As my question doesn’t imediately lend itself towards the Chi Square analysis I have chosen to use my variables and investigate the association between polityscore (categorical response) and incomeperperson (categorical explanatory). The Chi Square test gave us values  X2 = 5.331542917011042, p = 0.1491 (4 d.p.). This indicates that we should accept our null hypothesis as our p-value is greater than 0.05, so there is a 95% chance that we are correctly accepting our null hypothesis.\n",
    "\n",
    "The degrees of freedom for this category set is incomeperperson levels – 1 = 6 - 1 = 5."
   ]
  },
  {
   "cell_type": "markdown",
   "metadata": {},
   "source": [
    "<i>Model Interpretation for post hoc Chi-Square Test results:</i>"
   ]
  },
  {
   "cell_type": "markdown",
   "metadata": {},
   "source": [
    "The Chi Square test of independence has revealed that we should accept our null hypothesis, that there is no difference to the category means. \n",
    "\n",
    "Despite this I have calculated the Bonferroni Number, 0.05/6 = 0.008333… and have laid out the code sections for the first two post hoc comparisons I would have calculated if the Chi Square analysis p-value had been below our 0.05 tolerance level for 95% confidence."
   ]
  },
  {
   "cell_type": "markdown",
   "metadata": {},
   "source": [
    "<i></i>"
   ]
  }
 ],
 "metadata": {
  "anaconda-cloud": {},
  "kernelspec": {
   "display_name": "Python [Root]",
   "language": "python",
   "name": "Python [Root]"
  },
  "language_info": {
   "codemirror_mode": {
    "name": "ipython",
    "version": 3
   },
   "file_extension": ".py",
   "mimetype": "text/x-python",
   "name": "python",
   "nbconvert_exporter": "python",
   "pygments_lexer": "ipython3",
   "version": "3.5.2"
  }
 },
 "nbformat": 4,
 "nbformat_minor": 0
}
