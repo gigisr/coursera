{
 "cells": [
  {
   "cell_type": "code",
   "execution_count": 1,
   "metadata": {
    "collapsed": true
   },
   "outputs": [],
   "source": [
    "from IPython.core.interactiveshell import InteractiveShell\n",
    "InteractiveShell.ast_node_interactivity = \"all\""
   ]
  },
  {
   "cell_type": "markdown",
   "metadata": {},
   "source": [
    "<h1>Testing a potential moderator</h1>"
   ]
  },
  {
   "cell_type": "markdown",
   "metadata": {},
   "source": [
    "I used the GapMinder data set to investigate the three variables incomeperperson, armedforcesrate, and polityscore."
   ]
  },
  {
   "cell_type": "markdown",
   "metadata": {},
   "source": [
    "<h4>SET UP</h4>"
   ]
  },
  {
   "cell_type": "markdown",
   "metadata": {},
   "source": [
    "<i>Import the packages to use</i>"
   ]
  },
  {
   "cell_type": "code",
   "execution_count": 2,
   "metadata": {
    "collapsed": true
   },
   "outputs": [],
   "source": [
    "import pandas as pd\n",
    "import numpy as np\n",
    "import scipy.stats as scistat\n",
    "import seaborn as sb\n",
    "import matplotlib.pyplot as plt\n",
    "\n",
    "%matplotlib inline"
   ]
  },
  {
   "cell_type": "markdown",
   "metadata": {},
   "source": [
    "<i>Set some options</i>"
   ]
  },
  {
   "cell_type": "code",
   "execution_count": 3,
   "metadata": {
    "collapsed": true
   },
   "outputs": [],
   "source": [
    "pd.set_option('display.max_rows', 200)\n",
    "pd.set_option('expand_frame_repr', False)\n",
    "pd.set_option('display.float_format', '{:,.2f}'.format)"
   ]
  },
  {
   "cell_type": "markdown",
   "metadata": {},
   "source": [
    "<i>Read in the data</i>"
   ]
  },
  {
   "cell_type": "code",
   "execution_count": 55,
   "metadata": {
    "collapsed": false
   },
   "outputs": [],
   "source": [
    "data = pd.read_csv('../gapminder.csv', low_memory=False).set_index('country')\n",
    "data = data[['incomeperperson','armedforcesrate','polityscore']]\n",
    "data = data[(data['incomeperperson'] != ' ') & (data['armedforcesrate'] != ' ') & (data['polityscore'] != ' ')]\n",
    "data.loc[:,'incomeperperson'] = pd.to_numeric(data.loc[:,'incomeperperson']).astype('int')\n",
    "data.loc[:,'armedforcesrate'] = pd.to_numeric(data.loc[:,'armedforcesrate']).round(4)\n",
    "# data.loc[:,'polityscore'] = pd.to_numeric(data.loc[:,'polityscore']).astype('int')\n",
    "data_clean = data.dropna()"
   ]
  },
  {
   "cell_type": "markdown",
   "metadata": {},
   "source": [
    "<h4>CODE ANALYSIS</h4>"
   ]
  },
  {
   "cell_type": "markdown",
   "metadata": {},
   "source": [
    "<i>Create a sorted list of values from the polityscore categories</i>"
   ]
  },
  {
   "cell_type": "code",
   "execution_count": 56,
   "metadata": {
    "collapsed": false
   },
   "outputs": [],
   "source": [
    "polityscore_values = data.polityscore.unique()\n",
    "polityscore_values.sort()"
   ]
  },
  {
   "cell_type": "markdown",
   "metadata": {},
   "source": [
    "<i>Create a list of filtered data frame values</i>"
   ]
  },
  {
   "cell_type": "code",
   "execution_count": 58,
   "metadata": {
    "collapsed": false
   },
   "outputs": [],
   "source": [
    "data_poln10 = data[data['polityscore'] == \"-10\"]\n",
    "data_poln10.name = \"-10\"\n",
    "data_poln9 = data[data['polityscore'] == \"-9\"]\n",
    "data_poln9.name= \"-9\"\n",
    "data_poln8 = data[data['polityscore'] == \"-8\"]\n",
    "data_poln8.name= \"-8\"\n",
    "data_poln7 = data[data['polityscore'] == \"-7\"]\n",
    "data_poln7.name= \"-7\"\n",
    "data_poln6 = data[data['polityscore'] == \"-6\"]\n",
    "data_poln6.name= \"-6\"\n",
    "data_poln5 = data[data['polityscore'] == \"-5\"]\n",
    "data_poln5.name= \"-5\"\n",
    "data_poln4 = data[data['polityscore'] == \"-4\"]\n",
    "data_poln4.name= \"-4\"\n",
    "data_poln3 = data[data['polityscore'] == \"-3\"]\n",
    "data_poln3.name= \"-3\"\n",
    "data_poln2 = data[data['polityscore'] == \"-2\"]\n",
    "data_poln2.name= \"-2\"\n",
    "data_poln1 = data[data['polityscore'] == \"-1\"]\n",
    "data_poln1.name= \"-1\"\n",
    "data_pol0 = data[data['polityscore'] == \"0\"]\n",
    "data_pol0.name= \"0\"\n",
    "data_polp1 = data[data['polityscore'] == \"1\"]\n",
    "data_polp1.name= \"1\"\n",
    "data_polp2 = data[data['polityscore'] == \"2\"]\n",
    "data_polp2.name= \"2\"\n",
    "data_polp3 = data[data['polityscore'] == \"3\"]\n",
    "data_polp3.name= \"3\"\n",
    "data_polp4 = data[data['polityscore'] == \"4\"]\n",
    "data_polp4.name= \"4\"\n",
    "data_polp5 = data[data['polityscore'] == \"5\"]\n",
    "data_polp5.name= \"5\"\n",
    "data_polp6 = data[data['polityscore'] == \"6\"]\n",
    "data_polp6.name= \"6\"\n",
    "data_polp7 = data[data['polityscore'] == \"7\"]\n",
    "data_polp7.name= \"7\"\n",
    "data_polp8 = data[data['polityscore'] == \"8\"]\n",
    "data_polp8.name= \"8\"\n",
    "data_polp9 = data[data['polityscore'] == \"9\"]\n",
    "data_polp9.name= \"9\"\n",
    "data_polp10 = data[data['polityscore'] == \"10\"]\n",
    "data_polp10.name= \"10\"\n",
    "\n",
    "data_list = [data_poln10, data_poln9, data_poln8, data_poln7, data_poln6\n",
    "            ,data_poln5, data_poln4, data_poln3, data_poln2, data_poln1\n",
    "            ,data_pol0, data_polp1, data_polp2, data_polp3, data_polp4\n",
    "            ,data_polp5, data_polp6, data_polp7, data_polp8, data_polp9\n",
    "            ,data_polp10]"
   ]
  },
  {
   "cell_type": "markdown",
   "metadata": {},
   "source": [
    "<i>Loop over each value in polityscore and do the appropraite analysis</i>"
   ]
  },
  {
   "cell_type": "code",
   "execution_count": 59,
   "metadata": {
    "collapsed": true
   },
   "outputs": [
    {
     "name": "stdout",
     "output_type": "stream",
     "text": [
      "\n",
      "For polityscore -10\n",
      "\n",
      "\tThe correlation coefficient between incomeperperson and armedforcesrate\n"
     ]
    },
    {
     "data": {
      "text/plain": [
       "-1.0"
      ]
     },
     "execution_count": 59,
     "metadata": {},
     "output_type": "execute_result"
    },
    {
     "name": "stdout",
     "output_type": "stream",
     "text": [
      "\tThe p-value\n"
     ]
    },
    {
     "data": {
      "text/plain": [
       "0.0"
      ]
     },
     "execution_count": 59,
     "metadata": {},
     "output_type": "execute_result"
    },
    {
     "name": "stdout",
     "output_type": "stream",
     "text": [
      "\tr^2 variability of incomeperperson that we will see in the armedforcesrate\n"
     ]
    },
    {
     "data": {
      "text/plain": [
       "1.0"
      ]
     },
     "execution_count": 59,
     "metadata": {},
     "output_type": "execute_result"
    },
    {
     "name": "stdout",
     "output_type": "stream",
     "text": [
      "\n",
      "\n",
      "For polityscore -9\n",
      "\n",
      "\tThe correlation coefficient between incomeperperson and armedforcesrate\n"
     ]
    },
    {
     "data": {
      "text/plain": [
       "1.0"
      ]
     },
     "execution_count": 59,
     "metadata": {},
     "output_type": "execute_result"
    },
    {
     "name": "stdout",
     "output_type": "stream",
     "text": [
      "\tThe p-value\n"
     ]
    },
    {
     "data": {
      "text/plain": [
       "0.0"
      ]
     },
     "execution_count": 59,
     "metadata": {},
     "output_type": "execute_result"
    },
    {
     "name": "stdout",
     "output_type": "stream",
     "text": [
      "\tr^2 variability of incomeperperson that we will see in the armedforcesrate\n"
     ]
    },
    {
     "data": {
      "text/plain": [
       "1.0"
      ]
     },
     "execution_count": 59,
     "metadata": {},
     "output_type": "execute_result"
    },
    {
     "name": "stdout",
     "output_type": "stream",
     "text": [
      "\n",
      "\n",
      "For polityscore -8\n",
      "\n",
      "\tThe correlation coefficient between incomeperperson and armedforcesrate\n"
     ]
    },
    {
     "data": {
      "text/plain": [
       "-1.0"
      ]
     },
     "execution_count": 59,
     "metadata": {},
     "output_type": "execute_result"
    },
    {
     "name": "stdout",
     "output_type": "stream",
     "text": [
      "\tThe p-value\n"
     ]
    },
    {
     "data": {
      "text/plain": [
       "0.0"
      ]
     },
     "execution_count": 59,
     "metadata": {},
     "output_type": "execute_result"
    },
    {
     "name": "stdout",
     "output_type": "stream",
     "text": [
      "\tr^2 variability of incomeperperson that we will see in the armedforcesrate\n"
     ]
    },
    {
     "data": {
      "text/plain": [
       "1.0"
      ]
     },
     "execution_count": 59,
     "metadata": {},
     "output_type": "execute_result"
    },
    {
     "name": "stdout",
     "output_type": "stream",
     "text": [
      "\n",
      "\n",
      "For polityscore -7\n",
      "\n",
      "\tThe correlation coefficient between incomeperperson and armedforcesrate\n"
     ]
    },
    {
     "data": {
      "text/plain": [
       "-0.020037632747302744"
      ]
     },
     "execution_count": 59,
     "metadata": {},
     "output_type": "execute_result"
    },
    {
     "name": "stdout",
     "output_type": "stream",
     "text": [
      "\tThe p-value\n"
     ]
    },
    {
     "data": {
      "text/plain": [
       "0.95337004028731143"
      ]
     },
     "execution_count": 59,
     "metadata": {},
     "output_type": "execute_result"
    },
    {
     "name": "stdout",
     "output_type": "stream",
     "text": [
      "\tr^2 variability of incomeperperson that we will see in the armedforcesrate\n"
     ]
    },
    {
     "data": {
      "text/plain": [
       "0.00040150672611577931"
      ]
     },
     "execution_count": 59,
     "metadata": {},
     "output_type": "execute_result"
    },
    {
     "name": "stdout",
     "output_type": "stream",
     "text": [
      "\n",
      "\n",
      "For polityscore -6\n",
      "\n",
      "\tThe correlation coefficient between incomeperperson and armedforcesrate\n"
     ]
    },
    {
     "data": {
      "text/plain": [
       "-1.0"
      ]
     },
     "execution_count": 59,
     "metadata": {},
     "output_type": "execute_result"
    },
    {
     "name": "stdout",
     "output_type": "stream",
     "text": [
      "\tThe p-value\n"
     ]
    },
    {
     "data": {
      "text/plain": [
       "0.0"
      ]
     },
     "execution_count": 59,
     "metadata": {},
     "output_type": "execute_result"
    },
    {
     "name": "stdout",
     "output_type": "stream",
     "text": [
      "\tr^2 variability of incomeperperson that we will see in the armedforcesrate\n"
     ]
    },
    {
     "data": {
      "text/plain": [
       "1.0"
      ]
     },
     "execution_count": 59,
     "metadata": {},
     "output_type": "execute_result"
    },
    {
     "name": "stdout",
     "output_type": "stream",
     "text": [
      "\n",
      "\n",
      "For polityscore -5\n",
      "\n",
      "\tThe correlation coefficient between incomeperperson and armedforcesrate\n"
     ]
    },
    {
     "data": {
      "text/plain": [
       "1.0"
      ]
     },
     "execution_count": 59,
     "metadata": {},
     "output_type": "execute_result"
    },
    {
     "name": "stdout",
     "output_type": "stream",
     "text": [
      "\tThe p-value\n"
     ]
    },
    {
     "data": {
      "text/plain": [
       "0.0"
      ]
     },
     "execution_count": 59,
     "metadata": {},
     "output_type": "execute_result"
    },
    {
     "name": "stdout",
     "output_type": "stream",
     "text": [
      "\tr^2 variability of incomeperperson that we will see in the armedforcesrate\n"
     ]
    },
    {
     "data": {
      "text/plain": [
       "1.0"
      ]
     },
     "execution_count": 59,
     "metadata": {},
     "output_type": "execute_result"
    },
    {
     "name": "stdout",
     "output_type": "stream",
     "text": [
      "\n",
      "\n",
      "For polityscore -4\n",
      "\n",
      "\tThe correlation coefficient between incomeperperson and armedforcesrate\n"
     ]
    },
    {
     "data": {
      "text/plain": [
       "0.7998263144539981"
      ]
     },
     "execution_count": 59,
     "metadata": {},
     "output_type": "execute_result"
    },
    {
     "name": "stdout",
     "output_type": "stream",
     "text": [
      "\tThe p-value\n"
     ]
    },
    {
     "data": {
      "text/plain": [
       "0.056093826392223947"
      ]
     },
     "execution_count": 59,
     "metadata": {},
     "output_type": "execute_result"
    },
    {
     "name": "stdout",
     "output_type": "stream",
     "text": [
      "\tr^2 variability of incomeperperson that we will see in the armedforcesrate\n"
     ]
    },
    {
     "data": {
      "text/plain": [
       "0.63972213329306582"
      ]
     },
     "execution_count": 59,
     "metadata": {},
     "output_type": "execute_result"
    },
    {
     "name": "stdout",
     "output_type": "stream",
     "text": [
      "\n",
      "\n",
      "For polityscore -3\n",
      "\n",
      "\tThe correlation coefficient between incomeperperson and armedforcesrate\n"
     ]
    },
    {
     "data": {
      "text/plain": [
       "0.25409516963034828"
      ]
     },
     "execution_count": 59,
     "metadata": {},
     "output_type": "execute_result"
    },
    {
     "name": "stdout",
     "output_type": "stream",
     "text": [
      "\tThe p-value\n"
     ]
    },
    {
     "data": {
      "text/plain": [
       "0.62705999095153109"
      ]
     },
     "execution_count": 59,
     "metadata": {},
     "output_type": "execute_result"
    },
    {
     "name": "stdout",
     "output_type": "stream",
     "text": [
      "\tr^2 variability of incomeperperson that we will see in the armedforcesrate\n"
     ]
    },
    {
     "data": {
      "text/plain": [
       "0.06456435522947547"
      ]
     },
     "execution_count": 59,
     "metadata": {},
     "output_type": "execute_result"
    },
    {
     "name": "stdout",
     "output_type": "stream",
     "text": [
      "\n",
      "\n",
      "For polityscore -2\n",
      "\n",
      "\tThe correlation coefficient between incomeperperson and armedforcesrate\n"
     ]
    },
    {
     "data": {
      "text/plain": [
       "0.97290012603725962"
      ]
     },
     "execution_count": 59,
     "metadata": {},
     "output_type": "execute_result"
    },
    {
     "name": "stdout",
     "output_type": "stream",
     "text": [
      "\tThe p-value\n"
     ]
    },
    {
     "data": {
      "text/plain": [
       "0.0053334896343757892"
      ]
     },
     "execution_count": 59,
     "metadata": {},
     "output_type": "execute_result"
    },
    {
     "name": "stdout",
     "output_type": "stream",
     "text": [
      "\tr^2 variability of incomeperperson that we will see in the armedforcesrate\n"
     ]
    },
    {
     "data": {
      "text/plain": [
       "0.94653465524331559"
      ]
     },
     "execution_count": 59,
     "metadata": {},
     "output_type": "execute_result"
    },
    {
     "name": "stdout",
     "output_type": "stream",
     "text": [
      "\n",
      "\n",
      "For polityscore -1\n",
      "\n",
      "\tThe correlation coefficient between incomeperperson and armedforcesrate\n"
     ]
    },
    {
     "data": {
      "text/plain": [
       "0.26829563665569256"
      ]
     },
     "execution_count": 59,
     "metadata": {},
     "output_type": "execute_result"
    },
    {
     "name": "stdout",
     "output_type": "stream",
     "text": [
      "\tThe p-value\n"
     ]
    },
    {
     "data": {
      "text/plain": [
       "0.73170436334430722"
      ]
     },
     "execution_count": 59,
     "metadata": {},
     "output_type": "execute_result"
    },
    {
     "name": "stdout",
     "output_type": "stream",
     "text": [
      "\tr^2 variability of incomeperperson that we will see in the armedforcesrate\n"
     ]
    },
    {
     "data": {
      "text/plain": [
       "0.071982548648483399"
      ]
     },
     "execution_count": 59,
     "metadata": {},
     "output_type": "execute_result"
    },
    {
     "name": "stdout",
     "output_type": "stream",
     "text": [
      "\n",
      "\n",
      "For polityscore 0\n",
      "\n",
      "\tThe correlation coefficient between incomeperperson and armedforcesrate\n"
     ]
    },
    {
     "data": {
      "text/plain": [
       "0.76135871665089505"
      ]
     },
     "execution_count": 59,
     "metadata": {},
     "output_type": "execute_result"
    },
    {
     "name": "stdout",
     "output_type": "stream",
     "text": [
      "\tThe p-value\n"
     ]
    },
    {
     "data": {
      "text/plain": [
       "0.23864128334910503"
      ]
     },
     "execution_count": 59,
     "metadata": {},
     "output_type": "execute_result"
    },
    {
     "name": "stdout",
     "output_type": "stream",
     "text": [
      "\tr^2 variability of incomeperperson that we will see in the armedforcesrate\n"
     ]
    },
    {
     "data": {
      "text/plain": [
       "0.57966709542029793"
      ]
     },
     "execution_count": 59,
     "metadata": {},
     "output_type": "execute_result"
    },
    {
     "name": "stdout",
     "output_type": "stream",
     "text": [
      "\n",
      "\n",
      "For polityscore 1\n",
      "\n",
      "\tThe correlation coefficient between incomeperperson and armedforcesrate\n"
     ]
    },
    {
     "data": {
      "text/plain": [
       "0.808274191946181"
      ]
     },
     "execution_count": 59,
     "metadata": {},
     "output_type": "execute_result"
    },
    {
     "name": "stdout",
     "output_type": "stream",
     "text": [
      "\tThe p-value\n"
     ]
    },
    {
     "data": {
      "text/plain": [
       "0.40080381787379582"
      ]
     },
     "execution_count": 59,
     "metadata": {},
     "output_type": "execute_result"
    },
    {
     "name": "stdout",
     "output_type": "stream",
     "text": [
      "\tr^2 variability of incomeperperson that we will see in the armedforcesrate\n"
     ]
    },
    {
     "data": {
      "text/plain": [
       "0.65330716936625188"
      ]
     },
     "execution_count": 59,
     "metadata": {},
     "output_type": "execute_result"
    },
    {
     "name": "stdout",
     "output_type": "stream",
     "text": [
      "\n",
      "\n",
      "For polityscore 2\n",
      "\n",
      "\tThe correlation coefficient between incomeperperson and armedforcesrate\n"
     ]
    },
    {
     "data": {
      "text/plain": [
       "-0.49880648707442449"
      ]
     },
     "execution_count": 59,
     "metadata": {},
     "output_type": "execute_result"
    },
    {
     "name": "stdout",
     "output_type": "stream",
     "text": [
      "\tThe p-value\n"
     ]
    },
    {
     "data": {
      "text/plain": [
       "0.6675436757260621"
      ]
     },
     "execution_count": 59,
     "metadata": {},
     "output_type": "execute_result"
    },
    {
     "name": "stdout",
     "output_type": "stream",
     "text": [
      "\tr^2 variability of incomeperperson that we will see in the armedforcesrate\n"
     ]
    },
    {
     "data": {
      "text/plain": [
       "0.24880791154752802"
      ]
     },
     "execution_count": 59,
     "metadata": {},
     "output_type": "execute_result"
    },
    {
     "name": "stdout",
     "output_type": "stream",
     "text": [
      "\n",
      "\n",
      "For polityscore 3\n",
      "\n",
      "\tThe correlation coefficient between incomeperperson and armedforcesrate\n"
     ]
    },
    {
     "data": {
      "text/plain": [
       "nan"
      ]
     },
     "execution_count": 59,
     "metadata": {},
     "output_type": "execute_result"
    },
    {
     "name": "stdout",
     "output_type": "stream",
     "text": [
      "\tThe p-value\n"
     ]
    },
    {
     "data": {
      "text/plain": [
       "nan"
      ]
     },
     "execution_count": 59,
     "metadata": {},
     "output_type": "execute_result"
    },
    {
     "name": "stdout",
     "output_type": "stream",
     "text": [
      "\tr^2 variability of incomeperperson that we will see in the armedforcesrate\n"
     ]
    },
    {
     "data": {
      "text/plain": [
       "nan"
      ]
     },
     "execution_count": 59,
     "metadata": {},
     "output_type": "execute_result"
    },
    {
     "name": "stdout",
     "output_type": "stream",
     "text": [
      "\n",
      "\n",
      "For polityscore 4\n",
      "\n",
      "\tThe correlation coefficient between incomeperperson and armedforcesrate\n"
     ]
    },
    {
     "data": {
      "text/plain": [
       "0.91939429463145728"
      ]
     },
     "execution_count": 59,
     "metadata": {},
     "output_type": "execute_result"
    },
    {
     "name": "stdout",
     "output_type": "stream",
     "text": [
      "\tThe p-value\n"
     ]
    },
    {
     "data": {
      "text/plain": [
       "0.080605705368542738"
      ]
     },
     "execution_count": 59,
     "metadata": {},
     "output_type": "execute_result"
    },
    {
     "name": "stdout",
     "output_type": "stream",
     "text": [
      "\tr^2 variability of incomeperperson that we will see in the armedforcesrate\n"
     ]
    },
    {
     "data": {
      "text/plain": [
       "0.84528586900087488"
      ]
     },
     "execution_count": 59,
     "metadata": {},
     "output_type": "execute_result"
    },
    {
     "name": "stdout",
     "output_type": "stream",
     "text": [
      "\n",
      "\n",
      "For polityscore 5\n",
      "\n",
      "\tThe correlation coefficient between incomeperperson and armedforcesrate\n"
     ]
    },
    {
     "data": {
      "text/plain": [
       "0.59358600799785866"
      ]
     },
     "execution_count": 59,
     "metadata": {},
     "output_type": "execute_result"
    },
    {
     "name": "stdout",
     "output_type": "stream",
     "text": [
      "\tThe p-value\n"
     ]
    },
    {
     "data": {
      "text/plain": [
       "0.16000248638173917"
      ]
     },
     "execution_count": 59,
     "metadata": {},
     "output_type": "execute_result"
    },
    {
     "name": "stdout",
     "output_type": "stream",
     "text": [
      "\tr^2 variability of incomeperperson that we will see in the armedforcesrate\n"
     ]
    },
    {
     "data": {
      "text/plain": [
       "0.35234434889083394"
      ]
     },
     "execution_count": 59,
     "metadata": {},
     "output_type": "execute_result"
    },
    {
     "name": "stdout",
     "output_type": "stream",
     "text": [
      "\n",
      "\n",
      "For polityscore 6\n",
      "\n",
      "\tThe correlation coefficient between incomeperperson and armedforcesrate\n"
     ]
    },
    {
     "data": {
      "text/plain": [
       "0.35120882218154542"
      ]
     },
     "execution_count": 59,
     "metadata": {},
     "output_type": "execute_result"
    },
    {
     "name": "stdout",
     "output_type": "stream",
     "text": [
      "\tThe p-value\n"
     ]
    },
    {
     "data": {
      "text/plain": [
       "0.31968751149317071"
      ]
     },
     "execution_count": 59,
     "metadata": {},
     "output_type": "execute_result"
    },
    {
     "name": "stdout",
     "output_type": "stream",
     "text": [
      "\tr^2 variability of incomeperperson that we will see in the armedforcesrate\n"
     ]
    },
    {
     "data": {
      "text/plain": [
       "0.12334763677814839"
      ]
     },
     "execution_count": 59,
     "metadata": {},
     "output_type": "execute_result"
    },
    {
     "name": "stdout",
     "output_type": "stream",
     "text": [
      "\n",
      "\n",
      "For polityscore 7\n",
      "\n",
      "\tThe correlation coefficient between incomeperperson and armedforcesrate\n"
     ]
    },
    {
     "data": {
      "text/plain": [
       "0.93142251010618449"
      ]
     },
     "execution_count": 59,
     "metadata": {},
     "output_type": "execute_result"
    },
    {
     "name": "stdout",
     "output_type": "stream",
     "text": [
      "\tThe p-value\n"
     ]
    },
    {
     "data": {
      "text/plain": [
       "3.7032597838683622e-06"
      ]
     },
     "execution_count": 59,
     "metadata": {},
     "output_type": "execute_result"
    },
    {
     "name": "stdout",
     "output_type": "stream",
     "text": [
      "\tr^2 variability of incomeperperson that we will see in the armedforcesrate\n"
     ]
    },
    {
     "data": {
      "text/plain": [
       "0.86754789233250529"
      ]
     },
     "execution_count": 59,
     "metadata": {},
     "output_type": "execute_result"
    },
    {
     "name": "stdout",
     "output_type": "stream",
     "text": [
      "\n",
      "\n",
      "For polityscore 8\n",
      "\n",
      "\tThe correlation coefficient between incomeperperson and armedforcesrate\n"
     ]
    },
    {
     "data": {
      "text/plain": [
       "0.42901735536216512"
      ]
     },
     "execution_count": 59,
     "metadata": {},
     "output_type": "execute_result"
    },
    {
     "name": "stdout",
     "output_type": "stream",
     "text": [
      "\tThe p-value\n"
     ]
    },
    {
     "data": {
      "text/plain": [
       "0.085723395492883103"
      ]
     },
     "execution_count": 59,
     "metadata": {},
     "output_type": "execute_result"
    },
    {
     "name": "stdout",
     "output_type": "stream",
     "text": [
      "\tr^2 variability of incomeperperson that we will see in the armedforcesrate\n"
     ]
    },
    {
     "data": {
      "text/plain": [
       "0.18405589120194626"
      ]
     },
     "execution_count": 59,
     "metadata": {},
     "output_type": "execute_result"
    },
    {
     "name": "stdout",
     "output_type": "stream",
     "text": [
      "\n",
      "\n",
      "For polityscore 9\n",
      "\n",
      "\tThe correlation coefficient between incomeperperson and armedforcesrate\n"
     ]
    },
    {
     "data": {
      "text/plain": [
       "0.049694910426941998"
      ]
     },
     "execution_count": 59,
     "metadata": {},
     "output_type": "execute_result"
    },
    {
     "name": "stdout",
     "output_type": "stream",
     "text": [
      "\tThe p-value\n"
     ]
    },
    {
     "data": {
      "text/plain": [
       "0.87191925215351329"
      ]
     },
     "execution_count": 59,
     "metadata": {},
     "output_type": "execute_result"
    },
    {
     "name": "stdout",
     "output_type": "stream",
     "text": [
      "\tr^2 variability of incomeperperson that we will see in the armedforcesrate\n"
     ]
    },
    {
     "data": {
      "text/plain": [
       "0.0024695841223417885"
      ]
     },
     "execution_count": 59,
     "metadata": {},
     "output_type": "execute_result"
    },
    {
     "name": "stdout",
     "output_type": "stream",
     "text": [
      "\n",
      "\n",
      "For polityscore 10\n",
      "\n",
      "\tThe correlation coefficient between incomeperperson and armedforcesrate\n"
     ]
    },
    {
     "data": {
      "text/plain": [
       "-0.14739679680004453"
      ]
     },
     "execution_count": 59,
     "metadata": {},
     "output_type": "execute_result"
    },
    {
     "name": "stdout",
     "output_type": "stream",
     "text": [
      "\tThe p-value\n"
     ]
    },
    {
     "data": {
      "text/plain": [
       "0.42079661854802286"
      ]
     },
     "execution_count": 59,
     "metadata": {},
     "output_type": "execute_result"
    },
    {
     "name": "stdout",
     "output_type": "stream",
     "text": [
      "\tr^2 variability of incomeperperson that we will see in the armedforcesrate\n"
     ]
    },
    {
     "data": {
      "text/plain": [
       "0.021725815706913617"
      ]
     },
     "execution_count": 59,
     "metadata": {},
     "output_type": "execute_result"
    },
    {
     "name": "stdout",
     "output_type": "stream",
     "text": [
      "\n"
     ]
    }
   ],
   "source": [
    "for data_frame in data_list:\n",
    "    #Pearsons Correlation Coefficient analysis\n",
    "    corr_coeff = scistat.pearsonr(data_frame['incomeperperson'], data_frame['armedforcesrate'])\n",
    "    print('\\nFor polityscore ' + data_frame.name + '\\n')\n",
    "    print('\\tThe correlation coefficient between incomeperperson and armedforcesrate')\n",
    "    corr_coeff[0]\n",
    "    print('\\tThe p-value')\n",
    "    corr_coeff[1]\n",
    "    print('\\tr^2 variability of incomeperperson that we will see in the armedforcesrate')\n",
    "    corr_coeff[0] ** 2\n",
    "    print()"
   ]
  },
  {
   "cell_type": "markdown",
   "metadata": {},
   "source": [
    "<i>Scatter plots for significant associations</i>"
   ]
  },
  {
   "cell_type": "code",
   "execution_count": 60,
   "metadata": {
    "collapsed": false
   },
   "outputs": [
    {
     "name": "stdout",
     "output_type": "stream",
     "text": [
      "\n",
      "For polityscore -2\n"
     ]
    },
    {
     "data": {
      "text/plain": [
       "<matplotlib.collections.PathCollection at 0x2083cc43400>"
      ]
     },
     "execution_count": 60,
     "metadata": {},
     "output_type": "execute_result"
    },
    {
     "data": {
      "text/plain": [
       "[<matplotlib.lines.Line2D at 0x2083cc43908>]"
      ]
     },
     "execution_count": 60,
     "metadata": {},
     "output_type": "execute_result"
    },
    {
     "data": {
      "image/png": "[encoded data removed]",
      "text/plain": [
       "<matplotlib.figure.Figure at 0x2083cc75390>"
      ]
     },
     "metadata": {},
     "output_type": "display_data"
    },
    {
     "name": "stdout",
     "output_type": "stream",
     "text": [
      "\n",
      "For polityscore 7\n"
     ]
    },
    {
     "data": {
      "text/plain": [
       "<matplotlib.collections.PathCollection at 0x2083cdb6630>"
      ]
     },
     "execution_count": 60,
     "metadata": {},
     "output_type": "execute_result"
    },
    {
     "data": {
      "text/plain": [
       "[<matplotlib.lines.Line2D at 0x2083cdb6eb8>]"
      ]
     },
     "execution_count": 60,
     "metadata": {},
     "output_type": "execute_result"
    },
    {
     "data": {
      "image/png": "[encoded data removed]",
      "text/plain": [
       "<matplotlib.figure.Figure at 0x2083cc43550>"
      ]
     },
     "metadata": {},
     "output_type": "display_data"
    }
   ],
   "source": [
    "print('\\nFor polityscore -2')\n",
    "plt.scatter(data_poln2.incomeperperson, data_poln2.armedforcesrate)\n",
    "gradient, intercept = np.polyfit(data_poln2.incomeperperson, data_poln2.armedforcesrate, 1)\n",
    "plt.plot(data_poln2.incomeperperson, gradient * data_poln2.incomeperperson + intercept, '-')\n",
    "plt.show()\n",
    "print('\\nFor polityscore 7')\n",
    "plt.scatter(data_polp7.incomeperperson, data_polp7.armedforcesrate)\n",
    "gradient, intercept = np.polyfit(data_polp7.incomeperperson, data_polp7.armedforcesrate, 1)\n",
    "plt.plot(data_polp7.incomeperperson, gradient * data_polp7.incomeperperson + intercept, '-')\n",
    "plt.show()"
   ]
  },
  {
   "cell_type": "markdown",
   "metadata": {},
   "source": [
    "<h4>ANALYSIS</h4>"
   ]
  },
  {
   "cell_type": "markdown",
   "metadata": {},
   "source": [
    "I am interested in the association between incomeperperson and armedforcesrate, with regards to the moderator polityscore. \n",
    "\n",
    "I consider the analysis for each level of polityscore, -10:10, and output a scatter graph for a visual representation and the appropriate Pearson Correlation Coefficient values or r and p. These are all output into the console and have been displayed above. A table containing all the important values is below:"
   ]
  },
  {
   "cell_type": "markdown",
   "metadata": {},
   "source": [
    "<table style=\"width:100%\">\n",
    "  <tr>\n",
    "    <th>polityscore</th>\n",
    "    <th>Data points</th>\n",
    "    <th>r</th>\n",
    "    <th>p-value</th>\n",
    "    <th>Relationship direction</th>\n",
    "    <th>Relationship strength</th>\n",
    "    <th>r * r</th>\n",
    "  </tr>\n",
    "  <tr>\n",
    "    <td>-10</td>\n",
    "    <td>2</td>\n",
    "    <td>-1.0</td>\n",
    "    <td>0.0</td>\n",
    "    <td>negative</td>\n",
    "    <td>strong</td>\n",
    "    <td>1.0</td>\n",
    "  </tr>\n",
    "  <tr>\n",
    "    <td>-9</td>\n",
    "    <td>2</td>\n",
    "    <td>1.0</td>\n",
    "    <td>0.0</td>\n",
    "    <td>postive</td>\n",
    "    <td>strong</td>\n",
    "    <td>1.0</td>\n",
    "  </tr>\n",
    "  <tr>\n",
    "    <td>-8</td>\n",
    "    <td>2</td>\n",
    "    <td>-1.0</td>\n",
    "    <td>0.0</td>\n",
    "    <td>negative</td>\n",
    "    <td>strong</td>\n",
    "    <td>1.0</td>\n",
    "  </tr>\n",
    "  <tr>\n",
    "    <td>-7</td>\n",
    "    <td>11</td>\n",
    "    <td>-0.0200174368648</td>\n",
    "    <td>0.953416994555</td>\n",
    "    <td>negative</td>\n",
    "    <td>very weak</td>\n",
    "    <td>0.000400697778638</td>\n",
    "  </tr>\n",
    "  <tr>\n",
    "    <td>-6</td>\n",
    "    <td>2</td>\n",
    "    <td>-1.0</td>\n",
    "    <td>0.0</td>\n",
    "    <td>negative</td>\n",
    "    <td>strong</td>\n",
    "    <td>1.0</td>\n",
    "  </tr>\n",
    "  <tr>\n",
    "    <td>-5</td>\n",
    "    <td>2</td>\n",
    "    <td>1.0</td>\n",
    "    <td>0.0</td>\n",
    "    <td>positive</td>\n",
    "    <td>strong</td>\n",
    "    <td>1.0</td>\n",
    "  </tr>\n",
    "  <tr>\n",
    "    <td>-4</td>\n",
    "    <td>6</td>\n",
    "    <td>0.799901505819</td>\n",
    "    <td>0.0560531984986</td>\n",
    "    <td>positive</td>\n",
    "    <td>strong</td>\n",
    "    <td>0.639842419011</td>\n",
    "  </tr>\n",
    "  <tr>\n",
    "    <td>-3</td>\n",
    "    <td>6</td>\n",
    "    <td>0.25407983735</td>\n",
    "    <td>0.627081504583</td>\n",
    "    <td>positive</td>\n",
    "    <td>almost weak</td>\n",
    "    <td>0.0645565637479</td>\n",
    "  </tr>\n",
    "  <tr>\n",
    "    <td>-2</td>\n",
    "    <td>5</td>\n",
    "    <td>0.972897572461</td>\n",
    "    <td>0.0053342414394</td>\n",
    "    <td>positive</td>\n",
    "    <td><b><big>very strong</big></b></td>\n",
    "    <td>0.946529686501</td>\n",
    "  </tr>\n",
    "  <tr>\n",
    "    <td>-1</td>\n",
    "    <td>4</td>\n",
    "    <td>0.268764763935</td>\n",
    "    <td>0.731235236065</td>\n",
    "    <td>positive</td>\n",
    "    <td>almost weak</td>\n",
    "    <td>0.0722344983329</td>\n",
    "  </tr>\n",
    "  <tr>\n",
    "    <td>0</td>\n",
    "    <td>4</td>\n",
    "    <td>0.761715455454</td>\n",
    "    <td>0.238284544546</td>\n",
    "    <td>positive</td>\n",
    "    <td>strong</td>\n",
    "    <td>0.580210435078</td>\n",
    "  </tr>\n",
    "  <tr>\n",
    "    <td>1</td>\n",
    "    <td>3</td>\n",
    "    <td>0.80819791017</td>\n",
    "    <td>0.400886286713</td>\n",
    "    <td>positive</td>\n",
    "    <td>strong</td>\n",
    "    <td>0.653183862002</td>\n",
    "  </tr>\n",
    "  <tr>\n",
    "    <td>2</td>\n",
    "    <td>3</td>\n",
    "    <td>-0.499165618178</td>\n",
    "    <td>0.667279854676</td>\n",
    "    <td>negative</td>\n",
    "    <td>moderate</td>\n",
    "    <td>0.249166314371</td>\n",
    "  </tr>\n",
    "  <tr>\n",
    "    <td>3</td>\n",
    "    <td>1</td>\n",
    "    <td>nan</td>\n",
    "    <td>nan</td>\n",
    "    <td>-</td>\n",
    "    <td>-</td>\n",
    "    <td>nan</td>\n",
    "  </tr>\n",
    "  <tr>\n",
    "    <td>4</td>\n",
    "    <td>4</td>\n",
    "    <td>0.919358393727</td>\n",
    "    <td>0.0806416062729</td>\n",
    "    <td>positive</td>\n",
    "    <td>strong</td>\n",
    "    <td>0.845219856117</td>\n",
    "  </tr>\n",
    "  <tr>\n",
    "    <td>5</td>\n",
    "    <td>7</td>\n",
    "    <td>0.593887686476</td>\n",
    "    <td>0.159735659702</td>\n",
    "    <td>positive</td>\n",
    "    <td>moderate</td>\n",
    "    <td>0.352702584148</td>\n",
    "  </tr>\n",
    "  <tr>\n",
    "    <td>6</td>\n",
    "    <td>10</td>\n",
    "    <td>0.351276426913</td>\n",
    "    <td>0.319587885633</td>\n",
    "    <td>positive</td>\n",
    "    <td>moderate</td>\n",
    "    <td>0.123395128105</td>\n",
    "  </tr>\n",
    "  <tr>\n",
    "    <td>7</td>\n",
    "    <td>13</td>\n",
    "    <td>0.931430894019</td>\n",
    "    <td>3.70083107193e-06</td>\n",
    "    <td>positive</td>\n",
    "    <td><b><big>very strong</big></b></td>\n",
    "    <td>0.867563510333</td>\n",
    "  </tr>\n",
    "  <tr>\n",
    "    <td>8</td>\n",
    "    <td>17</td>\n",
    "    <td>0.429029157116</td>\n",
    "    <td>0.0857138351273</td>\n",
    "    <td>positive</td>\n",
    "    <td>moderate</td>\n",
    "    <td>0.184066017656</td>\n",
    "  </tr>\n",
    "  <tr>\n",
    "    <td>9</td>\n",
    "    <td>13</td>\n",
    "    <td>0.0496813525074</td>\n",
    "    <td>0.871953937143</td>\n",
    "    <td>positive</td>\n",
    "    <td>very weak</td>\n",
    "    <td>0.00246823678697</td>\n",
    "  </tr>\n",
    "  <tr>\n",
    "    <td>10</td>\n",
    "    <td>32</td>\n",
    "    <td>-0.147387395423</td>\n",
    "    <td>0.420826577778</td>\n",
    "    <td>negative</td>\n",
    "    <td>weak</td>\n",
    "    <td>0.0217230443294</td>\n",
    "  </tr>\n",
    "</table>"
   ]
  },
  {
   "cell_type": "markdown",
   "metadata": {},
   "source": [
    "The polityscores -10, -9, -8, -6, -5 have only 2 points of data which gives us no interesting relationship as it will always be r = 1.0, p = 0.0. There is a single value for polityscore 3 which also makes it unusable. These values have all been indicated with italics and will not be considered.\n",
    "\n",
    "There are two polityscore values that have significant p-values, these are polityscores -2 and 7, these values have been indicated in bold. I have produced scatter plots for these variables to get a better look at how the data behaves.\n",
    "\n",
    "These significant values indicate that only countries with polityscore’s of -2 or 7 have a significant linear association between their incomeperperson and armedforcesrate. Both these associations are positive and very strong indicating that in these groups countries with higher GDP (incomeperpeson) also have a higher proportion of the work force employed in the military (armedofrcesrate).\n",
    "\n",
    "The related values of r * r are exceptionally high, indicating that almost all of the variability of the armedforcesrate can be explained by the variability in the incomeperperson variable. "
   ]
  }
 ],
 "metadata": {
  "anaconda-cloud": {},
  "kernelspec": {
   "display_name": "Python [Root]",
   "language": "python",
   "name": "Python [Root]"
  },
  "language_info": {
   "codemirror_mode": {
    "name": "ipython",
    "version": 3
   },
   "file_extension": ".py",
   "mimetype": "text/x-python",
   "name": "python",
   "nbconvert_exporter": "python",
   "pygments_lexer": "ipython3",
   "version": "3.5.2"
  }
 },
 "nbformat": 4,
 "nbformat_minor": 0
}
