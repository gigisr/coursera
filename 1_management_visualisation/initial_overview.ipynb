{
 "cells": [
  {
   "cell_type": "markdown",
   "metadata": {},
   "source": [
    "<h1>Initial investigation</h1>"
   ]
  },
  {
   "cell_type": "markdown",
   "metadata": {},
   "source": [
    "<h3>Step 1: Choose a data set</h3>"
   ]
  },
  {
   "cell_type": "markdown",
   "metadata": {},
   "source": [
    "After considering all the available data sets the GapMinder data, which is identified by country, took my primary interest. Given the current world wide turmoil a data set that takes a panoramic view of the world could only be interesting a relevant."
   ]
  },
  {
   "cell_type": "markdown",
   "metadata": {},
   "source": [
    "<h3>Step 2: Identify a topic of interest</h3>"
   ]
  },
  {
   "cell_type": "markdown",
   "metadata": {},
   "source": [
    "From the codebook provided a few of the variables popped out at me: the Gross domestic Product  per person is a good indicator for how well an economy is doing, the armed forces rate due to all the current wars, the amount of cumulative CO2 emissions would indicate the amount of continued industry and the general populations access to energy sources, female employee rate is interesting due to all the statistics been thrown around about it in the media, and the democracy score would indicate the hugely important indicator about the country which is its government type.\n",
    "\n",
    "I decided to query the existence of an association between the GDP per person and the percentage of the total labour force that is employed in the army.\n",
    "\n",
    "This is interesting to me because of the levels of conflict currently going on around the world and the types of countries, organisations, and factions currently engaged in them both in a military capacity and through financing."
   ]
  },
  {
   "cell_type": "markdown",
   "metadata": {},
   "source": [
    "<h3>Step 3: Prepare a codebook of your own</h3>"
   ]
  },
  {
   "cell_type": "markdown",
   "metadata": {},
   "source": [
    "So I have added to my personal codebook the first and second pages of the provided codebook, this gives me information on where the data has come from and my main variables of incomeperperson and armedforcesrate."
   ]
  },
  {
   "cell_type": "markdown",
   "metadata": {},
   "source": [
    "<h3>Step 4: Identify a second topic that you would like to explore in terms of it’s association with your original topic<br>&&<br>Step 5: Add questions/items/variables documenting this second topic to your personal codebook</h3>"
   ]
  },
  {
   "cell_type": "markdown",
   "metadata": {},
   "source": [
    "A further topic of interest that is deeply related to both my original variables is the type of government that is present in the country. If you have a dictatorship does that link typically to a large military force but low GDP, or if you have a democracy do you have a smaller military force and high GDP? Or could the data show a completely different relation ship between all three variables?\n",
    "\n",
    "I now add the third page of the provided codebook to mine, including the variable polityscore."
   ]
  },
  {
   "cell_type": "markdown",
   "metadata": {},
   "source": [
    "<h3>Step 6: Perform a literature review to see what research has been previously done on this topic</h3>"
   ]
  },
  {
   "cell_type": "markdown",
   "metadata": {},
   "source": [
    "There has been a variety of different studies looking at links between corruptions levels, military spending, defence investment, economic development and many others. \n",
    "\n",
    "There seems to be a general consensus that more developed countries benefit economically from military spending while for less developed countries it acts as an inhibitor and can even prompt economic regression. \n",
    "\n",
    "Based on the studies I found associations between economy and military might seems to be a well researched topic. Many of the studies I have cited below have roots in a string of journals from 1983 to do with the military. The reason for them may be the wrapping up of the world wars, it was sufficiently long ago by then that people felt they could treat the figures as data, or there may have been a political call for a reassessment of military practices. Governments are still dealing with the fallout from the World Wars today and on February 24 1983 the US Congress released a report on the interment practices of the Japanese during World War II."
   ]
  },
  {
   "cell_type": "markdown",
   "metadata": {},
   "source": [
    "<h3>Step 7: Based on the literature review, develop a hypothesis about what you believe the association might be between these topics, be sure to integrate the specific variables you selected into the hypothesis</h3>"
   ]
  },
  {
   "cell_type": "markdown",
   "metadata": {},
   "source": [
    "From all the information and the research that I’ve conducted for the main topic my null hypothesis is that there is no significant association between the GDP of a country (incomeperperson) and the percentage of the total labour force that is employed in the armed forces (armedforcerate). Thus my alternative hypothesis is that there is an association between the two factors, this is the outcome I am expecting to see from my analysis.\n",
    "\n",
    "For my further topic, incorporating the type of government in the country (polityscore), I expect to find that the type of government does have an influence on the GDP and the levels of military personnel in the total work force."
   ]
  },
  {
   "cell_type": "markdown",
   "metadata": {},
   "source": [
    "<h3>Sources</h3>"
   ]
  },
  {
   "cell_type": "markdown",
   "metadata": {},
   "source": [
    "<i>Location</i>: http://search.proquest.com/openview/c7ea57587818a4aef28c8c7a9aa4d026/1?pq-origsite=gscholar&cbl=1816656 found using google scholar with the search term ‘links between GDP and standing army’\n",
    "\n",
    "<i>Name and Details</i>: Military Participation Ratios, Human Capital Formation, and Economic Growth: A Cross-National Analysis by Weede, Erich. JPMS : Journal of Political and Military Sociology11.1 (Spring 1983): 11.\n",
    "\n",
    "<i>Information</i>: An analysis between the discipline of a population and how the capital growth of the country is formed. Quote:\n",
    "“military service is not often believed to contribute to economic growth”\n",
    "\n",
    "<i>Location</i>: http://afs.sagepub.com/content/9/4/633.short found using google scholar with the search term ‘links between GDP and armed forces’\n",
    "\n",
    "<i>Name and Details</i>: Defense Expenditures and Economic Growth in Developing Countries by P. C. Frederiksen and Robert E. Looney, Naval Postgraduate School\n",
    "\n",
    "<i>Information</i>: Looking at the effects of government spending on defence on the economy based on the development rating of the country. Quote:\n",
    "“expenditures in countries that are relatively resource unconstrained play a positive role in increasing growth, while countries suffering from a lack of foreign exchange and government revenues experience the reverse”\n",
    "\n",
    "<i>Location</i>: http://www.sciencedirect.com/science/article/pii/S0176268001000544 found using google scholar with the search term ‘links between GDP and armed forces’\n",
    "\n",
    "<i>Name and Details</i>: European Journal of Political Economy by Sanjeev Gupta, Luiz de Mello, Raju Sharan, Fiscal Affairs Department, International Monetary Fund, 700 19th Street, NW, Washington, DC 20431, USA\n",
    "\n",
    "<i>Information</i>: Looking into an association between corruption and military spending, results suggesting Quote:\n",
    "“that defence spending may be used as a component of an indicator of the quality of government”\n",
    "\n",
    "<i>Location</i>: http://jcr.sagepub.com/content/27/2/335.short found using google scholar and the search term ‘links between GDP and armed forces’\n",
    "\n",
    "<i>Name and Details</i>: Military Expenditure and Growth in Less Developed Countries by Saadet Deger and Ron Smith, Department of Economics, Birkbeck College, London University\n",
    "\n",
    "<i>Information</i>: Quote:\n",
    "“military expenditure has a negative effect on growth and thus retards development”"
   ]
  }
 ],
 "metadata": {
  "kernelspec": {
   "display_name": "Python [Root]",
   "language": "python",
   "name": "Python [Root]"
  },
  "language_info": {
   "codemirror_mode": {
    "name": "ipython",
    "version": 3
   },
   "file_extension": ".py",
   "mimetype": "text/x-python",
   "name": "python",
   "nbconvert_exporter": "python",
   "pygments_lexer": "ipython3",
   "version": "3.5.2"
  }
 },
 "nbformat": 4,
 "nbformat_minor": 0
}
