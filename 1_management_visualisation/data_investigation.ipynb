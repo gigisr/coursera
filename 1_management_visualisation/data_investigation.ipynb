{
 "cells": [
  {
   "cell_type": "code",
   "execution_count": 1,
   "metadata": {
    "collapsed": true
   },
   "outputs": [],
   "source": [
    "from IPython.core.interactiveshell import InteractiveShell\n",
    "InteractiveShell.ast_node_interactivity = \"all\""
   ]
  },
  {
   "cell_type": "markdown",
   "metadata": {},
   "source": [
    "<h1>Data Investigation</h1>"
   ]
  },
  {
   "cell_type": "markdown",
   "metadata": {},
   "source": [
    "I used the GapMinder data set to investigate the three variables incomeperperson, armedforcesrate, and polityscore."
   ]
  },
  {
   "cell_type": "markdown",
   "metadata": {},
   "source": [
    "<h4>SET UP</h4>"
   ]
  },
  {
   "cell_type": "markdown",
   "metadata": {},
   "source": [
    "<i>Import the packages needed in this programme</i>"
   ]
  },
  {
   "cell_type": "code",
   "execution_count": 2,
   "metadata": {
    "collapsed": true
   },
   "outputs": [],
   "source": [
    "import pandas as pd\n",
    "import numpy as np"
   ]
  },
  {
   "cell_type": "markdown",
   "metadata": {},
   "source": [
    "<i>Set some options</i>"
   ]
  },
  {
   "cell_type": "code",
   "execution_count": 3,
   "metadata": {
    "collapsed": true
   },
   "outputs": [],
   "source": [
    "pd.set_option('display.max_rows', 220)\n",
    "pd.set_option('expand_frame_repr', False)\n",
    "pd.set_option('display.float_format',lambda x:'%f'%x)"
   ]
  },
  {
   "cell_type": "markdown",
   "metadata": {},
   "source": [
    "<i>Read in the whole data set then set the index to be the Series country</i>"
   ]
  },
  {
   "cell_type": "code",
   "execution_count": 4,
   "metadata": {
    "collapsed": false
   },
   "outputs": [],
   "source": [
    "data = pd.read_csv('../gapminder.csv', low_memory=False, index_col='country')"
   ]
  },
  {
   "cell_type": "code",
   "execution_count": 5,
   "metadata": {
    "collapsed": false
   },
   "outputs": [],
   "source": [
    "for each in data.columns:\n",
    "    data.loc[:,each] = pd.to_numeric(data.loc[:,each].str.replace(' ',''))"
   ]
  },
  {
   "cell_type": "markdown",
   "metadata": {},
   "source": [
    "<h4>INVESTIGATION</h4>"
   ]
  },
  {
   "cell_type": "markdown",
   "metadata": {},
   "source": [
    "<i>Look at the top 5 rows and the dimension of the DataFrame</i>"
   ]
  },
  {
   "cell_type": "code",
   "execution_count": 6,
   "metadata": {
    "collapsed": false
   },
   "outputs": [
    {
     "data": {
      "text/html": [
       "<div>\n",
       "<table border=\"1\" class=\"dataframe\">\n",
       "  <thead>\n",
       "    <tr style=\"text-align: right;\">\n",
       "      <th></th>\n",
       "      <th>incomeperperson</th>\n",
       "      <th>alcconsumption</th>\n",
       "      <th>armedforcesrate</th>\n",
       "      <th>breastcancerper100th</th>\n",
       "      <th>co2emissions</th>\n",
       "      <th>femaleemployrate</th>\n",
       "      <th>hivrate</th>\n",
       "      <th>internetuserate</th>\n",
       "      <th>lifeexpectancy</th>\n",
       "      <th>oilperperson</th>\n",
       "      <th>polityscore</th>\n",
       "      <th>relectricperperson</th>\n",
       "      <th>suicideper100th</th>\n",
       "      <th>employrate</th>\n",
       "      <th>urbanrate</th>\n",
       "    </tr>\n",
       "    <tr>\n",
       "      <th>country</th>\n",
       "      <th></th>\n",
       "      <th></th>\n",
       "      <th></th>\n",
       "      <th></th>\n",
       "      <th></th>\n",
       "      <th></th>\n",
       "      <th></th>\n",
       "      <th></th>\n",
       "      <th></th>\n",
       "      <th></th>\n",
       "      <th></th>\n",
       "      <th></th>\n",
       "      <th></th>\n",
       "      <th></th>\n",
       "      <th></th>\n",
       "    </tr>\n",
       "  </thead>\n",
       "  <tbody>\n",
       "    <tr>\n",
       "      <th>Afghanistan</th>\n",
       "      <td>nan</td>\n",
       "      <td>0.030000</td>\n",
       "      <td>0.569653</td>\n",
       "      <td>26.800000</td>\n",
       "      <td>75944000.000000</td>\n",
       "      <td>25.600000</td>\n",
       "      <td>nan</td>\n",
       "      <td>3.654122</td>\n",
       "      <td>48.673000</td>\n",
       "      <td>nan</td>\n",
       "      <td>0.000000</td>\n",
       "      <td>nan</td>\n",
       "      <td>6.684385</td>\n",
       "      <td>55.700001</td>\n",
       "      <td>24.040000</td>\n",
       "    </tr>\n",
       "    <tr>\n",
       "      <th>Albania</th>\n",
       "      <td>1914.996551</td>\n",
       "      <td>7.290000</td>\n",
       "      <td>1.024736</td>\n",
       "      <td>57.400000</td>\n",
       "      <td>223747333.333333</td>\n",
       "      <td>42.099998</td>\n",
       "      <td>nan</td>\n",
       "      <td>44.989947</td>\n",
       "      <td>76.918000</td>\n",
       "      <td>nan</td>\n",
       "      <td>9.000000</td>\n",
       "      <td>636.341383</td>\n",
       "      <td>7.699330</td>\n",
       "      <td>51.400002</td>\n",
       "      <td>46.720000</td>\n",
       "    </tr>\n",
       "    <tr>\n",
       "      <th>Algeria</th>\n",
       "      <td>2231.993335</td>\n",
       "      <td>0.690000</td>\n",
       "      <td>2.306817</td>\n",
       "      <td>23.500000</td>\n",
       "      <td>2932108666.666670</td>\n",
       "      <td>31.700001</td>\n",
       "      <td>0.100000</td>\n",
       "      <td>12.500073</td>\n",
       "      <td>73.131000</td>\n",
       "      <td>0.420095</td>\n",
       "      <td>2.000000</td>\n",
       "      <td>590.509814</td>\n",
       "      <td>4.848770</td>\n",
       "      <td>50.500000</td>\n",
       "      <td>65.220000</td>\n",
       "    </tr>\n",
       "    <tr>\n",
       "      <th>Andorra</th>\n",
       "      <td>21943.339898</td>\n",
       "      <td>10.170000</td>\n",
       "      <td>nan</td>\n",
       "      <td>nan</td>\n",
       "      <td>nan</td>\n",
       "      <td>nan</td>\n",
       "      <td>nan</td>\n",
       "      <td>81.000000</td>\n",
       "      <td>nan</td>\n",
       "      <td>nan</td>\n",
       "      <td>nan</td>\n",
       "      <td>nan</td>\n",
       "      <td>5.362179</td>\n",
       "      <td>nan</td>\n",
       "      <td>88.920000</td>\n",
       "    </tr>\n",
       "    <tr>\n",
       "      <th>Angola</th>\n",
       "      <td>1381.004268</td>\n",
       "      <td>5.570000</td>\n",
       "      <td>1.461329</td>\n",
       "      <td>23.100000</td>\n",
       "      <td>248358000.000000</td>\n",
       "      <td>69.400002</td>\n",
       "      <td>2.000000</td>\n",
       "      <td>9.999954</td>\n",
       "      <td>51.093000</td>\n",
       "      <td>nan</td>\n",
       "      <td>-2.000000</td>\n",
       "      <td>172.999227</td>\n",
       "      <td>14.554677</td>\n",
       "      <td>75.699997</td>\n",
       "      <td>56.700000</td>\n",
       "    </tr>\n",
       "  </tbody>\n",
       "</table>\n",
       "</div>"
      ],
      "text/plain": [
       "             incomeperperson  alcconsumption  armedforcesrate  breastcancerper100th      co2emissions  femaleemployrate  hivrate  internetuserate  lifeexpectancy  oilperperson  polityscore  relectricperperson  suicideper100th  employrate  urbanrate\n",
       "country                                                                                                                                                                                                                                                 \n",
       "Afghanistan              nan        0.030000         0.569653             26.800000   75944000.000000         25.600000      nan         3.654122       48.673000           nan     0.000000                 nan         6.684385   55.700001  24.040000\n",
       "Albania          1914.996551        7.290000         1.024736             57.400000  223747333.333333         42.099998      nan        44.989947       76.918000           nan     9.000000          636.341383         7.699330   51.400002  46.720000\n",
       "Algeria          2231.993335        0.690000         2.306817             23.500000 2932108666.666670         31.700001 0.100000        12.500073       73.131000      0.420095     2.000000          590.509814         4.848770   50.500000  65.220000\n",
       "Andorra         21943.339898       10.170000              nan                   nan               nan               nan      nan        81.000000             nan           nan          nan                 nan         5.362179         nan  88.920000\n",
       "Angola           1381.004268        5.570000         1.461329             23.100000  248358000.000000         69.400002 2.000000         9.999954       51.093000           nan    -2.000000          172.999227        14.554677   75.699997  56.700000"
      ]
     },
     "execution_count": 6,
     "metadata": {},
     "output_type": "execute_result"
    }
   ],
   "source": [
    "data.head(5)"
   ]
  },
  {
   "cell_type": "code",
   "execution_count": 7,
   "metadata": {
    "collapsed": false
   },
   "outputs": [
    {
     "data": {
      "text/plain": [
       "(213, 15)"
      ]
     },
     "execution_count": 7,
     "metadata": {},
     "output_type": "execute_result"
    }
   ],
   "source": [
    "data.shape"
   ]
  },
  {
   "cell_type": "markdown",
   "metadata": {},
   "source": [
    "<i>Income per person variable</i>"
   ]
  },
  {
   "cell_type": "code",
   "execution_count": 8,
   "metadata": {
    "collapsed": true
   },
   "outputs": [],
   "source": [
    "c1 = data[\"incomeperperson\"].value_counts(sort = False).sort_index()\n",
    "p1 = data[\"incomeperperson\"].value_counts(sort = False, normalize = True)\n",
    "u1 = data[\"incomeperperson\"].unique().size\n",
    "n1 = data[\"incomeperperson\"].isnull()[data[\"incomeperperson\"].isnull() == True].size\n",
    "ct1 = data.groupby(data['incomeperperson'],sort=True).size()*100/len(data)\n",
    "fc1 = np.cumsum(c1)\n",
    "fp1 = np.cumsum(ct1)\n",
    "ippFreqTable = pd.concat([c1,p1,ct1,fc1,fp1],axis=1)\n",
    "ippFreqTable.columns = ['Value Counts','Normalised Percentage','Percentage','Cumulative Value Counts','Cumulative Percentage']\n",
    "ippFreqTable.index.name = 'incomeperperson'\n",
    "valc1 = data['incomeperperson'].value_counts().sum()"
   ]
  },
  {
   "cell_type": "code",
   "execution_count": 9,
   "metadata": {
    "collapsed": false
   },
   "outputs": [
    {
     "name": "stdout",
     "output_type": "stream",
     "text": [
      "The number of unique values is:  191\n",
      "The number of null values is:  23\n"
     ]
    },
    {
     "data": {
      "text/html": [
       "<div>\n",
       "<table border=\"1\" class=\"dataframe\">\n",
       "  <thead>\n",
       "    <tr style=\"text-align: right;\">\n",
       "      <th></th>\n",
       "      <th>Value Counts</th>\n",
       "      <th>Normalised Percentage</th>\n",
       "      <th>Percentage</th>\n",
       "      <th>Cumulative Value Counts</th>\n",
       "      <th>Cumulative Percentage</th>\n",
       "    </tr>\n",
       "    <tr>\n",
       "      <th>incomeperperson</th>\n",
       "      <th></th>\n",
       "      <th></th>\n",
       "      <th></th>\n",
       "      <th></th>\n",
       "      <th></th>\n",
       "    </tr>\n",
       "  </thead>\n",
       "  <tbody>\n",
       "    <tr>\n",
       "      <th>103.775857</th>\n",
       "      <td>1</td>\n",
       "      <td>0.005263</td>\n",
       "      <td>0.469484</td>\n",
       "      <td>1</td>\n",
       "      <td>0.469484</td>\n",
       "    </tr>\n",
       "    <tr>\n",
       "      <th>115.305996</th>\n",
       "      <td>1</td>\n",
       "      <td>0.005263</td>\n",
       "      <td>0.469484</td>\n",
       "      <td>2</td>\n",
       "      <td>0.938967</td>\n",
       "    </tr>\n",
       "    <tr>\n",
       "      <th>131.796207</th>\n",
       "      <td>1</td>\n",
       "      <td>0.005263</td>\n",
       "      <td>0.469484</td>\n",
       "      <td>3</td>\n",
       "      <td>1.408451</td>\n",
       "    </tr>\n",
       "    <tr>\n",
       "      <th>155.033231</th>\n",
       "      <td>1</td>\n",
       "      <td>0.005263</td>\n",
       "      <td>0.469484</td>\n",
       "      <td>4</td>\n",
       "      <td>1.877934</td>\n",
       "    </tr>\n",
       "    <tr>\n",
       "      <th>161.317137</th>\n",
       "      <td>1</td>\n",
       "      <td>0.005263</td>\n",
       "      <td>0.469484</td>\n",
       "      <td>5</td>\n",
       "      <td>2.347418</td>\n",
       "    </tr>\n",
       "  </tbody>\n",
       "</table>\n",
       "</div>"
      ],
      "text/plain": [
       "                 Value Counts  Normalised Percentage  Percentage  Cumulative Value Counts  Cumulative Percentage\n",
       "incomeperperson                                                                                                 \n",
       "103.775857                  1               0.005263    0.469484                        1               0.469484\n",
       "115.305996                  1               0.005263    0.469484                        2               0.938967\n",
       "131.796207                  1               0.005263    0.469484                        3               1.408451\n",
       "155.033231                  1               0.005263    0.469484                        4               1.877934\n",
       "161.317137                  1               0.005263    0.469484                        5               2.347418"
      ]
     },
     "execution_count": 9,
     "metadata": {},
     "output_type": "execute_result"
    },
    {
     "data": {
      "text/html": [
       "<div>\n",
       "<table border=\"1\" class=\"dataframe\">\n",
       "  <thead>\n",
       "    <tr style=\"text-align: right;\">\n",
       "      <th></th>\n",
       "      <th>Value Counts</th>\n",
       "      <th>Normalised Percentage</th>\n",
       "      <th>Percentage</th>\n",
       "      <th>Cumulative Value Counts</th>\n",
       "      <th>Cumulative Percentage</th>\n",
       "    </tr>\n",
       "    <tr>\n",
       "      <th>incomeperperson</th>\n",
       "      <th></th>\n",
       "      <th></th>\n",
       "      <th></th>\n",
       "      <th></th>\n",
       "      <th></th>\n",
       "    </tr>\n",
       "  </thead>\n",
       "  <tbody>\n",
       "    <tr>\n",
       "      <th>39972.352768</th>\n",
       "      <td>1</td>\n",
       "      <td>0.005263</td>\n",
       "      <td>0.469484</td>\n",
       "      <td>186</td>\n",
       "      <td>87.323944</td>\n",
       "    </tr>\n",
       "    <tr>\n",
       "      <th>52301.587179</th>\n",
       "      <td>1</td>\n",
       "      <td>0.005263</td>\n",
       "      <td>0.469484</td>\n",
       "      <td>187</td>\n",
       "      <td>87.793427</td>\n",
       "    </tr>\n",
       "    <tr>\n",
       "      <th>62682.147006</th>\n",
       "      <td>1</td>\n",
       "      <td>0.005263</td>\n",
       "      <td>0.469484</td>\n",
       "      <td>188</td>\n",
       "      <td>88.262911</td>\n",
       "    </tr>\n",
       "    <tr>\n",
       "      <th>81647.100031</th>\n",
       "      <td>1</td>\n",
       "      <td>0.005263</td>\n",
       "      <td>0.469484</td>\n",
       "      <td>189</td>\n",
       "      <td>88.732394</td>\n",
       "    </tr>\n",
       "    <tr>\n",
       "      <th>105147.437697</th>\n",
       "      <td>1</td>\n",
       "      <td>0.005263</td>\n",
       "      <td>0.469484</td>\n",
       "      <td>190</td>\n",
       "      <td>89.201878</td>\n",
       "    </tr>\n",
       "  </tbody>\n",
       "</table>\n",
       "</div>"
      ],
      "text/plain": [
       "                 Value Counts  Normalised Percentage  Percentage  Cumulative Value Counts  Cumulative Percentage\n",
       "incomeperperson                                                                                                 \n",
       "39972.352768                1               0.005263    0.469484                      186              87.323944\n",
       "52301.587179                1               0.005263    0.469484                      187              87.793427\n",
       "62682.147006                1               0.005263    0.469484                      188              88.262911\n",
       "81647.100031                1               0.005263    0.469484                      189              88.732394\n",
       "105147.437697               1               0.005263    0.469484                      190              89.201878"
      ]
     },
     "execution_count": 9,
     "metadata": {},
     "output_type": "execute_result"
    }
   ],
   "source": [
    "print('The number of unique values is: ', u1)\n",
    "print('The number of null values is: ',n1)\n",
    "ippFreqTable.sort_values('Cumulative Value Counts').head()\n",
    "ippFreqTable.sort_values('Cumulative Value Counts').tail()"
   ]
  },
  {
   "cell_type": "code",
   "execution_count": 10,
   "metadata": {
    "collapsed": false
   },
   "outputs": [
    {
     "name": "stdout",
     "output_type": "stream",
     "text": [
      "The number of coountries with GDP:\n",
      "less than or equal to $1,000 is: 54 which is 28.42 %\n",
      "between $1,000 and $5,000 is: 61 which is 32.11 %\n",
      "between $5,000 and $10,000 is: 28 which is 14.74 %\n",
      "between $10,000 and $25,000 is: 23 which is 12.11 %\n",
      "between $25,000 and $50,000 is: 20 which is 10.53 %\n",
      "greater than $50,000 is: 4 which is 2.11 %\n"
     ]
    }
   ],
   "source": [
    "print('The number of coountries with GDP:')\n",
    "print('less than or equal to $1,000 is:', data['incomeperperson'][data['incomeperperson'] < 1000].value_counts().sum(), 'which is',round(data['incomeperperson'][data['incomeperperson'] < 1000].value_counts().sum()*100/valc1,2),'%')\n",
    "print('between $1,000 and $5,000 is:', data['incomeperperson'][(data['incomeperperson'] < 5000) &  (data['incomeperperson'] >= 1000)].value_counts().sum(),'which is', round(data['incomeperperson'][(data['incomeperperson'] < 5000) & (data['incomeperperson'] >= 1000)].value_counts().sum()*100/valc1,2),'%')\n",
    "print('between $5,000 and $10,000 is:', data['incomeperperson'][(data['incomeperperson'] < 10000) & (data['incomeperperson'] >= 5000)].value_counts().sum(),'which is', round(data['incomeperperson'][(data['incomeperperson'] < 10000) & (data['incomeperperson'] >= 5000)].value_counts().sum()*100/valc1,2),'%')\n",
    "print('between $10,000 and $25,000 is:', data['incomeperperson'][(data['incomeperperson'] < 25000) & (data['incomeperperson'] >= 10000)].value_counts().sum(),'which is', round(data['incomeperperson'][(data['incomeperperson'] < 25000) & (data['incomeperperson'] >= 10000)].value_counts().sum()*100/valc1,2),'%')    \n",
    "print('between $25,000 and $50,000 is:', data['incomeperperson'][(data['incomeperperson'] < 50000) & (data['incomeperperson'] >= 25000)].value_counts().sum(),'which is', round(data['incomeperperson'][(data['incomeperperson'] < 50000) & (data['incomeperperson'] >= 25000)].value_counts().sum()*100/valc1,2),'%')    \n",
    "print('greater than $50,000 is:', data['incomeperperson'][data['incomeperperson'] > 50000].value_counts().sum(), 'which is',round(data['incomeperperson'][data['incomeperperson'] > 50000].value_counts().sum()*100/valc1,2),'%')"
   ]
  },
  {
   "cell_type": "markdown",
   "metadata": {},
   "source": [
    "<i>Armed forces rate variable</i>"
   ]
  },
  {
   "cell_type": "code",
   "execution_count": 11,
   "metadata": {
    "collapsed": true
   },
   "outputs": [],
   "source": [
    "c2 = data[\"armedforcesrate\"].value_counts(sort = False).sort_index()\n",
    "p2 = data[\"armedforcesrate\"].value_counts(sort = False, normalize = True)\n",
    "u2 = data[\"armedforcesrate\"].unique().size\n",
    "n2 = data[\"armedforcesrate\"].isnull()[data[\"armedforcesrate\"].isnull() == True].size\n",
    "ct2 = data.groupby(data['armedforcesrate'],sort=True).size()*100/len(data)\n",
    "fc2 = np.cumsum(c2)\n",
    "fp2 = np.cumsum(ct2)\n",
    "ippFreqTable = pd.concat([c2,p2,ct2,fc2,fp2],axis=1)\n",
    "ippFreqTable.columns = ['Value Counts','Normalised Percentage','Percentage','Cumulative Value Counts','Cumulative Percentage']\n",
    "ippFreqTable.index.name = 'armedforcesrate'\n",
    "valc2 = data['armedforcesrate'].value_counts().sum()"
   ]
  },
  {
   "cell_type": "code",
   "execution_count": 12,
   "metadata": {
    "collapsed": false
   },
   "outputs": [
    {
     "name": "stdout",
     "output_type": "stream",
     "text": [
      "The number of unique values is:  165\n",
      "The number of null values is:  49\n"
     ]
    },
    {
     "data": {
      "text/html": [
       "<div>\n",
       "<table border=\"1\" class=\"dataframe\">\n",
       "  <thead>\n",
       "    <tr style=\"text-align: right;\">\n",
       "      <th></th>\n",
       "      <th>Value Counts</th>\n",
       "      <th>Normalised Percentage</th>\n",
       "      <th>Percentage</th>\n",
       "      <th>Cumulative Value Counts</th>\n",
       "      <th>Cumulative Percentage</th>\n",
       "    </tr>\n",
       "    <tr>\n",
       "      <th>armedforcesrate</th>\n",
       "      <th></th>\n",
       "      <th></th>\n",
       "      <th></th>\n",
       "      <th></th>\n",
       "      <th></th>\n",
       "    </tr>\n",
       "  </thead>\n",
       "  <tbody>\n",
       "    <tr>\n",
       "      <th>0.000000</th>\n",
       "      <td>1</td>\n",
       "      <td>0.006098</td>\n",
       "      <td>0.469484</td>\n",
       "      <td>1</td>\n",
       "      <td>0.469484</td>\n",
       "    </tr>\n",
       "    <tr>\n",
       "      <th>0.066100</th>\n",
       "      <td>1</td>\n",
       "      <td>0.006098</td>\n",
       "      <td>0.469484</td>\n",
       "      <td>2</td>\n",
       "      <td>0.938967</td>\n",
       "    </tr>\n",
       "    <tr>\n",
       "      <th>0.102269</th>\n",
       "      <td>1</td>\n",
       "      <td>0.006098</td>\n",
       "      <td>0.469484</td>\n",
       "      <td>3</td>\n",
       "      <td>1.408451</td>\n",
       "    </tr>\n",
       "    <tr>\n",
       "      <th>0.105115</th>\n",
       "      <td>1</td>\n",
       "      <td>0.006098</td>\n",
       "      <td>0.469484</td>\n",
       "      <td>4</td>\n",
       "      <td>1.877934</td>\n",
       "    </tr>\n",
       "    <tr>\n",
       "      <th>0.114592</th>\n",
       "      <td>1</td>\n",
       "      <td>0.006098</td>\n",
       "      <td>0.469484</td>\n",
       "      <td>5</td>\n",
       "      <td>2.347418</td>\n",
       "    </tr>\n",
       "  </tbody>\n",
       "</table>\n",
       "</div>"
      ],
      "text/plain": [
       "                 Value Counts  Normalised Percentage  Percentage  Cumulative Value Counts  Cumulative Percentage\n",
       "armedforcesrate                                                                                                 \n",
       "0.000000                    1               0.006098    0.469484                        1               0.469484\n",
       "0.066100                    1               0.006098    0.469484                        2               0.938967\n",
       "0.102269                    1               0.006098    0.469484                        3               1.408451\n",
       "0.105115                    1               0.006098    0.469484                        4               1.877934\n",
       "0.114592                    1               0.006098    0.469484                        5               2.347418"
      ]
     },
     "execution_count": 12,
     "metadata": {},
     "output_type": "execute_result"
    },
    {
     "data": {
      "text/html": [
       "<div>\n",
       "<table border=\"1\" class=\"dataframe\">\n",
       "  <thead>\n",
       "    <tr style=\"text-align: right;\">\n",
       "      <th></th>\n",
       "      <th>Value Counts</th>\n",
       "      <th>Normalised Percentage</th>\n",
       "      <th>Percentage</th>\n",
       "      <th>Cumulative Value Counts</th>\n",
       "      <th>Cumulative Percentage</th>\n",
       "    </tr>\n",
       "    <tr>\n",
       "      <th>armedforcesrate</th>\n",
       "      <th></th>\n",
       "      <th></th>\n",
       "      <th></th>\n",
       "      <th></th>\n",
       "      <th></th>\n",
       "    </tr>\n",
       "  </thead>\n",
       "  <tbody>\n",
       "    <tr>\n",
       "      <th>5.955847</th>\n",
       "      <td>1</td>\n",
       "      <td>0.006098</td>\n",
       "      <td>0.469484</td>\n",
       "      <td>160</td>\n",
       "      <td>75.117371</td>\n",
       "    </tr>\n",
       "    <tr>\n",
       "      <th>6.394936</th>\n",
       "      <td>1</td>\n",
       "      <td>0.006098</td>\n",
       "      <td>0.469484</td>\n",
       "      <td>161</td>\n",
       "      <td>75.586854</td>\n",
       "    </tr>\n",
       "    <tr>\n",
       "      <th>7.737913</th>\n",
       "      <td>1</td>\n",
       "      <td>0.006098</td>\n",
       "      <td>0.469484</td>\n",
       "      <td>162</td>\n",
       "      <td>76.056338</td>\n",
       "    </tr>\n",
       "    <tr>\n",
       "      <th>9.820127</th>\n",
       "      <td>1</td>\n",
       "      <td>0.006098</td>\n",
       "      <td>0.469484</td>\n",
       "      <td>163</td>\n",
       "      <td>76.525822</td>\n",
       "    </tr>\n",
       "    <tr>\n",
       "      <th>10.638521</th>\n",
       "      <td>1</td>\n",
       "      <td>0.006098</td>\n",
       "      <td>0.469484</td>\n",
       "      <td>164</td>\n",
       "      <td>76.995305</td>\n",
       "    </tr>\n",
       "  </tbody>\n",
       "</table>\n",
       "</div>"
      ],
      "text/plain": [
       "                 Value Counts  Normalised Percentage  Percentage  Cumulative Value Counts  Cumulative Percentage\n",
       "armedforcesrate                                                                                                 \n",
       "5.955847                    1               0.006098    0.469484                      160              75.117371\n",
       "6.394936                    1               0.006098    0.469484                      161              75.586854\n",
       "7.737913                    1               0.006098    0.469484                      162              76.056338\n",
       "9.820127                    1               0.006098    0.469484                      163              76.525822\n",
       "10.638521                   1               0.006098    0.469484                      164              76.995305"
      ]
     },
     "execution_count": 12,
     "metadata": {},
     "output_type": "execute_result"
    }
   ],
   "source": [
    "print('The number of unique values is: ', u2)\n",
    "print('The number of null values is: ',n2)\n",
    "ippFreqTable.sort_values('Cumulative Value Counts').head()\n",
    "ippFreqTable.sort_values('Cumulative Value Counts').tail()"
   ]
  },
  {
   "cell_type": "code",
   "execution_count": 13,
   "metadata": {
    "collapsed": false
   },
   "outputs": [
    {
     "name": "stdout",
     "output_type": "stream",
     "text": [
      "The number of countries with armed forces rate:\n",
      "less than 0.5% of total work force: 43 which is 26.22 %\n",
      "between 0.5% and 1%: 46 which is 28.05 %\n",
      "between 1% and 5%: 65 which is 39.63 %\n",
      "between 5% and 7.5%: 7 which is 4.27 %\n",
      "greater than 7.5%: 3 which is 1.83 %\n"
     ]
    }
   ],
   "source": [
    "print('The number of countries with armed forces rate:')\n",
    "print('less than 0.5% of total work force:', data['armedforcesrate'][data['armedforcesrate'] < 0.5].value_counts().sum(), 'which is', round(data['armedforcesrate'][data['armedforcesrate'] < 0.5].value_counts().sum()*100/valc2,2),'%')\n",
    "print('between 0.5% and 1%:', data['armedforcesrate'][(data['armedforcesrate'] < 1) & (data['armedforcesrate'] >= 0.5)].value_counts().sum(), 'which is',round(data['armedforcesrate'][(data['armedforcesrate'] < 1) & (data['armedforcesrate'] >= 0.5)].value_counts().sum()*100/valc2,2),'%')\n",
    "print('between 1% and 5%:', data['armedforcesrate'][(data['armedforcesrate'] < 5) & (data['armedforcesrate'] >= 1)].value_counts().sum(),'which is', round(data['armedforcesrate'][(data['armedforcesrate'] < 5) & (data['armedforcesrate'] >= 1)].value_counts().sum()*100/valc2,2),'%')\n",
    "print('between 5% and 7.5%:', data['armedforcesrate'][(data['armedforcesrate'] < 7.5) & (data['armedforcesrate'] >= 5)].value_counts().sum(),'which is', round(data['armedforcesrate'][(data['armedforcesrate'] < 7.5) & (data['armedforcesrate'] >= 5)].value_counts().sum()*100/valc2,2),'%')\n",
    "print('greater than 7.5%:', data['armedforcesrate'][data['armedforcesrate'] > 7.5].value_counts().sum(), 'which is',round(data['armedforcesrate'][data['armedforcesrate'] > 7.5].value_counts().sum()*100/valc2,2),'%')"
   ]
  },
  {
   "cell_type": "markdown",
   "metadata": {},
   "source": [
    "<i>Polity score variable</i>"
   ]
  },
  {
   "cell_type": "code",
   "execution_count": 14,
   "metadata": {
    "collapsed": true
   },
   "outputs": [],
   "source": [
    "c3 = data[\"polityscore\"].value_counts(sort = False).sort_index()\n",
    "p3 = data[\"polityscore\"].value_counts(sort = False, normalize = True)\n",
    "u3 = data[\"polityscore\"].unique().size\n",
    "n3 = data[\"polityscore\"].isnull()[data[\"polityscore\"].isnull() == True].size\n",
    "ct3 = data.groupby(data['polityscore'],sort=True).size()*100/len(data)\n",
    "fc3 = np.cumsum(c3)\n",
    "fp3 = np.cumsum(ct3)\n",
    "ippFreqTable = pd.concat([c3,p3,ct3,fc3,fp3],axis=1)\n",
    "ippFreqTable.columns = ['Value Counts','Normalised Percentage','Percentage','Cumulative Value Counts','Cumulative Percentage']\n",
    "ippFreqTable.index.name = 'polityscore'"
   ]
  },
  {
   "cell_type": "code",
   "execution_count": 15,
   "metadata": {
    "collapsed": false
   },
   "outputs": [
    {
     "name": "stdout",
     "output_type": "stream",
     "text": [
      "The number of unique values is:  22\n",
      "The number of null values is:  52\n"
     ]
    },
    {
     "data": {
      "text/html": [
       "<div>\n",
       "<table border=\"1\" class=\"dataframe\">\n",
       "  <thead>\n",
       "    <tr style=\"text-align: right;\">\n",
       "      <th></th>\n",
       "      <th>Value Counts</th>\n",
       "      <th>Normalised Percentage</th>\n",
       "      <th>Percentage</th>\n",
       "      <th>Cumulative Value Counts</th>\n",
       "      <th>Cumulative Percentage</th>\n",
       "    </tr>\n",
       "    <tr>\n",
       "      <th>polityscore</th>\n",
       "      <th></th>\n",
       "      <th></th>\n",
       "      <th></th>\n",
       "      <th></th>\n",
       "      <th></th>\n",
       "    </tr>\n",
       "  </thead>\n",
       "  <tbody>\n",
       "    <tr>\n",
       "      <th>-10.000000</th>\n",
       "      <td>2</td>\n",
       "      <td>0.012422</td>\n",
       "      <td>0.938967</td>\n",
       "      <td>2</td>\n",
       "      <td>0.938967</td>\n",
       "    </tr>\n",
       "    <tr>\n",
       "      <th>-9.000000</th>\n",
       "      <td>4</td>\n",
       "      <td>0.024845</td>\n",
       "      <td>1.877934</td>\n",
       "      <td>6</td>\n",
       "      <td>2.816901</td>\n",
       "    </tr>\n",
       "    <tr>\n",
       "      <th>-8.000000</th>\n",
       "      <td>2</td>\n",
       "      <td>0.012422</td>\n",
       "      <td>0.938967</td>\n",
       "      <td>8</td>\n",
       "      <td>3.755869</td>\n",
       "    </tr>\n",
       "    <tr>\n",
       "      <th>-7.000000</th>\n",
       "      <td>12</td>\n",
       "      <td>0.074534</td>\n",
       "      <td>5.633803</td>\n",
       "      <td>20</td>\n",
       "      <td>9.389671</td>\n",
       "    </tr>\n",
       "    <tr>\n",
       "      <th>-6.000000</th>\n",
       "      <td>3</td>\n",
       "      <td>0.018634</td>\n",
       "      <td>1.408451</td>\n",
       "      <td>23</td>\n",
       "      <td>10.798122</td>\n",
       "    </tr>\n",
       "    <tr>\n",
       "      <th>-5.000000</th>\n",
       "      <td>2</td>\n",
       "      <td>0.012422</td>\n",
       "      <td>0.938967</td>\n",
       "      <td>25</td>\n",
       "      <td>11.737089</td>\n",
       "    </tr>\n",
       "    <tr>\n",
       "      <th>-4.000000</th>\n",
       "      <td>6</td>\n",
       "      <td>0.037267</td>\n",
       "      <td>2.816901</td>\n",
       "      <td>31</td>\n",
       "      <td>14.553991</td>\n",
       "    </tr>\n",
       "    <tr>\n",
       "      <th>-3.000000</th>\n",
       "      <td>6</td>\n",
       "      <td>0.037267</td>\n",
       "      <td>2.816901</td>\n",
       "      <td>37</td>\n",
       "      <td>17.370892</td>\n",
       "    </tr>\n",
       "    <tr>\n",
       "      <th>-2.000000</th>\n",
       "      <td>5</td>\n",
       "      <td>0.031056</td>\n",
       "      <td>2.347418</td>\n",
       "      <td>42</td>\n",
       "      <td>19.718310</td>\n",
       "    </tr>\n",
       "    <tr>\n",
       "      <th>-1.000000</th>\n",
       "      <td>4</td>\n",
       "      <td>0.024845</td>\n",
       "      <td>1.877934</td>\n",
       "      <td>46</td>\n",
       "      <td>21.596244</td>\n",
       "    </tr>\n",
       "    <tr>\n",
       "      <th>0.000000</th>\n",
       "      <td>6</td>\n",
       "      <td>0.037267</td>\n",
       "      <td>2.816901</td>\n",
       "      <td>52</td>\n",
       "      <td>24.413146</td>\n",
       "    </tr>\n",
       "    <tr>\n",
       "      <th>1.000000</th>\n",
       "      <td>3</td>\n",
       "      <td>0.018634</td>\n",
       "      <td>1.408451</td>\n",
       "      <td>55</td>\n",
       "      <td>25.821596</td>\n",
       "    </tr>\n",
       "    <tr>\n",
       "      <th>2.000000</th>\n",
       "      <td>3</td>\n",
       "      <td>0.018634</td>\n",
       "      <td>1.408451</td>\n",
       "      <td>58</td>\n",
       "      <td>27.230047</td>\n",
       "    </tr>\n",
       "    <tr>\n",
       "      <th>3.000000</th>\n",
       "      <td>2</td>\n",
       "      <td>0.012422</td>\n",
       "      <td>0.938967</td>\n",
       "      <td>60</td>\n",
       "      <td>28.169014</td>\n",
       "    </tr>\n",
       "    <tr>\n",
       "      <th>4.000000</th>\n",
       "      <td>4</td>\n",
       "      <td>0.024845</td>\n",
       "      <td>1.877934</td>\n",
       "      <td>64</td>\n",
       "      <td>30.046948</td>\n",
       "    </tr>\n",
       "    <tr>\n",
       "      <th>5.000000</th>\n",
       "      <td>7</td>\n",
       "      <td>0.043478</td>\n",
       "      <td>3.286385</td>\n",
       "      <td>71</td>\n",
       "      <td>33.333333</td>\n",
       "    </tr>\n",
       "    <tr>\n",
       "      <th>6.000000</th>\n",
       "      <td>10</td>\n",
       "      <td>0.062112</td>\n",
       "      <td>4.694836</td>\n",
       "      <td>81</td>\n",
       "      <td>38.028169</td>\n",
       "    </tr>\n",
       "    <tr>\n",
       "      <th>7.000000</th>\n",
       "      <td>13</td>\n",
       "      <td>0.080745</td>\n",
       "      <td>6.103286</td>\n",
       "      <td>94</td>\n",
       "      <td>44.131455</td>\n",
       "    </tr>\n",
       "    <tr>\n",
       "      <th>8.000000</th>\n",
       "      <td>19</td>\n",
       "      <td>0.118012</td>\n",
       "      <td>8.920188</td>\n",
       "      <td>113</td>\n",
       "      <td>53.051643</td>\n",
       "    </tr>\n",
       "    <tr>\n",
       "      <th>9.000000</th>\n",
       "      <td>15</td>\n",
       "      <td>0.093168</td>\n",
       "      <td>7.042254</td>\n",
       "      <td>128</td>\n",
       "      <td>60.093897</td>\n",
       "    </tr>\n",
       "    <tr>\n",
       "      <th>10.000000</th>\n",
       "      <td>33</td>\n",
       "      <td>0.204969</td>\n",
       "      <td>15.492958</td>\n",
       "      <td>161</td>\n",
       "      <td>75.586854</td>\n",
       "    </tr>\n",
       "  </tbody>\n",
       "</table>\n",
       "</div>"
      ],
      "text/plain": [
       "             Value Counts  Normalised Percentage  Percentage  Cumulative Value Counts  Cumulative Percentage\n",
       "polityscore                                                                                                 \n",
       "-10.000000              2               0.012422    0.938967                        2               0.938967\n",
       "-9.000000               4               0.024845    1.877934                        6               2.816901\n",
       "-8.000000               2               0.012422    0.938967                        8               3.755869\n",
       "-7.000000              12               0.074534    5.633803                       20               9.389671\n",
       "-6.000000               3               0.018634    1.408451                       23              10.798122\n",
       "-5.000000               2               0.012422    0.938967                       25              11.737089\n",
       "-4.000000               6               0.037267    2.816901                       31              14.553991\n",
       "-3.000000               6               0.037267    2.816901                       37              17.370892\n",
       "-2.000000               5               0.031056    2.347418                       42              19.718310\n",
       "-1.000000               4               0.024845    1.877934                       46              21.596244\n",
       "0.000000                6               0.037267    2.816901                       52              24.413146\n",
       "1.000000                3               0.018634    1.408451                       55              25.821596\n",
       "2.000000                3               0.018634    1.408451                       58              27.230047\n",
       "3.000000                2               0.012422    0.938967                       60              28.169014\n",
       "4.000000                4               0.024845    1.877934                       64              30.046948\n",
       "5.000000                7               0.043478    3.286385                       71              33.333333\n",
       "6.000000               10               0.062112    4.694836                       81              38.028169\n",
       "7.000000               13               0.080745    6.103286                       94              44.131455\n",
       "8.000000               19               0.118012    8.920188                      113              53.051643\n",
       "9.000000               15               0.093168    7.042254                      128              60.093897\n",
       "10.000000              33               0.204969   15.492958                      161              75.586854"
      ]
     },
     "execution_count": 15,
     "metadata": {},
     "output_type": "execute_result"
    }
   ],
   "source": [
    "print('The number of unique values is: ', u3)\n",
    "print('The number of null values is: ',n3)\n",
    "ippFreqTable.sort_values('Cumulative Value Counts')"
   ]
  },
  {
   "cell_type": "markdown",
   "metadata": {},
   "source": [
    "<h4>DISCUSSION</h4>"
   ]
  },
  {
   "cell_type": "markdown",
   "metadata": {},
   "source": [
    "I chose not to print out all the rows of two of my variable frequency tables (indicated in the printed lines) because the number of rows was so large, but the whole table still exists in the memory so it can be looked at fully if needed. All my percentages and cumulative percentages include the null values.\n",
    "\n",
    "For incomeperperson there were so many different unique values that I decided to quickly proportion it off and look at some groupings of it that printed out below the main table. From this I can see that just over three quarters of the total is in the $0 to $10,000 GDP range, for me this is slightly surprising as I thought the proportion would be large in that range but not quite that large. The values are 2010 GDP converted to constant year 2000 US$ and are not modified for different costs of living in different countries and I think the huge number of people in that lower bracket is mostly a reflection on the lower costs of living in those countries.\n",
    "\n",
    "For armedforcesrate again there were so many unique values that I decided to show only the first and last few in the output but the whole table is in memory and in looking at the whole I could choose my brackets like with the incomeperperson variable. Having then bracketed and summarised the data a little I could see that nearly 55% of the countries have 1% or less percentage of the active work force in the armed forces. This didn’t surprise me, nor does just over 6% of the countries having a 5% or higher proportion of the work force in the armed forces. \n",
    "\n",
    "Finally, for the polityscore it was easy to fit all the values in to the view. I was surprised that quite so many countries were up in the top levels of freedom, over 15% are ranked in the top grade alone and, given so many countries seem to be overthrowing their governments recently, under 15% of countries fall into the -10 to -4 score.  It’s interesting that so many countries don’t have a score, and that is due to the researchers choice, but it could also be the reason we have so many countries in the higher grades and fewer in the lower."
   ]
  }
 ],
 "metadata": {
  "anaconda-cloud": {},
  "kernelspec": {
   "display_name": "Python [Root]",
   "language": "python",
   "name": "Python [Root]"
  },
  "language_info": {
   "codemirror_mode": {
    "name": "ipython",
    "version": 3
   },
   "file_extension": ".py",
   "mimetype": "text/x-python",
   "name": "python",
   "nbconvert_exporter": "python",
   "pygments_lexer": "ipython3",
   "version": "3.5.2"
  }
 },
 "nbformat": 4,
 "nbformat_minor": 0
}
