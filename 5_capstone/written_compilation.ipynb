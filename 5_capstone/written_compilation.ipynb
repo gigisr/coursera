{
 "cells": [
  {
   "cell_type": "markdown",
   "metadata": {},
   "source": [
    "<h1>DATA ANALYSIS AND INTERPRETATION CAPSTONE</h1>"
   ]
  },
  {
   "cell_type": "markdown",
   "metadata": {},
   "source": [
    "I am keeping all the written sections together here to keep them nearby. I will do each week individually, the code will be included in there."
   ]
  },
  {
   "cell_type": "markdown",
   "metadata": {},
   "source": [
    "I will use the Storm Event data which contains extensive National Weather Service data of storm events by state and county."
   ]
  },
  {
   "cell_type": "markdown",
   "metadata": {},
   "source": [
    "<h2>Module 1. Identify Your Data and Research Question</h2>"
   ]
  },
  {
   "cell_type": "markdown",
   "metadata": {},
   "source": [
    "<h4>Project Title</h4>"
   ]
  },
  {
   "cell_type": "markdown",
   "metadata": {},
   "source": [
    "The Association between the Number of Deaths and Predeterminable Weather Event factors."
   ]
  },
  {
   "cell_type": "markdown",
   "metadata": {},
   "source": [
    "<h4>Research Question</h4>"
   ]
  },
  {
   "cell_type": "markdown",
   "metadata": {},
   "source": [
    "This anlaysis is to identify the best predictors of the number of fatalities from storm event characteristics including the month it happened, the designation of the event, the state it started in, the type of event, and the number of associated events."
   ]
  },
  {
   "cell_type": "markdown",
   "metadata": {},
   "source": [
    "<h4>Motivation</h4>"
   ]
  },
  {
   "cell_type": "markdown",
   "metadata": {},
   "source": [
    "As an insurance analyst, and due to the recent extream weather partly caused by the El Niño last year (2016), I am interested in  the potential impact on businesses and people. By identifying which characteristics are important to predicting negative factors, such as deaths, we can identify what information to gather from the insured and potentially warn them about the risks they are facing so they can react responsibly."
   ]
  },
  {
   "cell_type": "markdown",
   "metadata": {},
   "source": [
    "<h4>Potential Implications</h4>"
   ]
  },
  {
   "cell_type": "markdown",
   "metadata": {},
   "source": [
    "Through predicting risk reliably there will be increased accuracy in pricing the products and less information may be collected meaning it will be quicker, easier, and potentially cheaper to buy your insurance."
   ]
  },
  {
   "cell_type": "markdown",
   "metadata": {},
   "source": [
    "<h2>Module 2. Methods</h2>"
   ]
  },
  {
   "cell_type": "markdown",
   "metadata": {},
   "source": [
    "<h4>Sample Description</h4>"
   ]
  },
  {
   "cell_type": "markdown",
   "metadata": {},
   "source": [
    "My sample includes N = 1,573 individual storm events of the total 166,048 samples in the original data set. The reason the number is so propoertionally low is because I have removed all the entries where there are no deaths or injuries directly related to the weather event. If I had left them in then it would have skewed my results with the overwhelming bias towards there being no deaths, ever, but a high accuracy rate on the model. The other filtering factor I have used is the state entry for each row. I have removed any values that are not one of the 50 states, removing entries that are general areas such as Atlantic North.\n",
    "\n",
    "The storm events are logged by their USA state and county, and occured between Janurary 2013 and October 2015. The main types of weather phenomenon that are recorded in the data set are thunder storms, hail, winter weather, flash floods, winter storms, and drought.\n",
    "\n",
    "The data was collected from a variety of sources, some casual like individuals reporting an event they witnessed, and others that were more scientific about their data collection such as the National Weather Service (NWS).\n",
    "\n",
    "The National Oceanic and Atmospheric Administration (NOAA) published the data, it contains: \n",
    " \n",
    "<ol>\n",
    "    <li>Weather occurrences that cause lose of life, significant property damage, or disruption to business;</li>\n",
    "    <li>Uncommon, media worthy, weather occurrences, e.g. snow flurries in South Florida;</li>\n",
    "    <li>Other significant meteorological events, such as record temperatures.</li>\n",
    "</ol>"
   ]
  },
  {
   "cell_type": "markdown",
   "metadata": {},
   "source": [
    "<h4>Description of Measures</h4>"
   ]
  },
  {
   "cell_type": "markdown",
   "metadata": {},
   "source": [
    "My response variable is the number of deaths directly caused by the weather event. It is recorded as an integer that ranges from 0 to 43. The majority of storm events have a recorded value of 0."
   ]
  },
  {
   "cell_type": "markdown",
   "metadata": {},
   "source": [
    "My predictors are:\n",
    "<div style=\"margin-left:25px;\"><ul>\n",
    "    <li>The <b>state</b> in which the weather event occured, I have only included records that fit with the full USA state name. So, for instance, records that have occured in the Atlantic North will be excluded as that is not the name of a state.</li>\n",
    "    <li><b>Country or zone categorisation</b>, which indicates where the event occured, (C) county/parish or (Z) zone. Where zone happens over a large area such as a drought or heavy fog, and county/parish relates to more local events such as flash floods or hail.</li>\n",
    "    <li>The <b>number of incidents</b> associated with the weather event.</li>\n",
    "    <li>The <b>time</b> the event occurs, which I am using month to evaluate.</li>\n",
    "    <li>The <b>weather event label</b> that most accurately describes the meteorological event leading to fatalities, injuries, damage, etc. I have filtered the data so that only the top 20 occuring weather events are included. The top five of these are noted in the sample description.</li>\n",
    "</ul></div>"
   ]
  },
  {
   "cell_type": "markdown",
   "metadata": {},
   "source": [
    "I used the month name the event happened in, which I have mapped from the month name to the month's number, for example August becomes 8."
   ]
  },
  {
   "cell_type": "markdown",
   "metadata": {},
   "source": [
    "<h4>Description of Analyses</h4>"
   ]
  },
  {
   "cell_type": "markdown",
   "metadata": {},
   "source": [
    "I investigated the distrobutions for the predictor variables, and of the response variable. By producing frequency tables for the USA state, the type of weather event, the country / zone categorisation, and the number of incidents associated with the event. And by calculating the mean, standard deviation, maximum, and minimum values for the quantitative variables I got a better understanding of the spread and form of the variable."
   ]
  },
  {
   "cell_type": "markdown",
   "metadata": {},
   "source": [
    "For the numerical variables I have looked at scatter plots. I then used a Pearson Correlation test to examine my response varaible against the quantitative variables to check for independence. I can then examine a scatter plot of the potential fit line overlaying the response vs explanetory variable to see how well a linear reltionship fits."
   ]
  },
  {
   "cell_type": "markdown",
   "metadata": {},
   "source": [
    "For the categorical variables I have looked at bar charts to see the relative counts of values within the variables.  I will use an Analysis of Variance (ANOVA) test to check relationships between the response variable and my categorical variables. I will test each predictor varaible seperately against the response varaible to check for an association. Once I have a potential association I will use Tukey's Honestly Significant Difference (THSD) to perform the post hoc test. It checks the elements pairwise against the respose variable to make sure it is a true association. This will help reduce the chance that I am making a Type I error, which is regecting the null hypothesis incorrectly."
   ]
  },
  {
   "cell_type": "markdown",
   "metadata": {},
   "source": [
    "I will use a Random Forest to create my model. I think this is the best model to use as there are a lot of categorical variables in my set of predictor variables so a Random Forest will be more likely to capture the background realtionships between variables. By randomly splitting my data into a test and a training set I can train my model and then test it to check it's accuracy. I am going to use a 70% training, 30% test split of my data. Part of the Random Forest model is an indication of variable importance to the model, I will use this to remove any variables that are of low importance."
   ]
  },
  {
   "cell_type": "markdown",
   "metadata": {},
   "source": [
    "<h2>Module 3. Analysis</h2>"
   ]
  },
  {
   "cell_type": "markdown",
   "metadata": {},
   "source": [
    "<i>Figures are grouped together at the end of this section</i>"
   ]
  },
  {
   "cell_type": "markdown",
   "metadata": {},
   "source": [
    "<b>Data management</b>"
   ]
  },
  {
   "cell_type": "markdown",
   "metadata": {},
   "source": [
    "My data management started by filtering my data to only include rows where there had been deaths or injuries caused by the weather event. I further filtered my data to only include entires in the state column that are actually one of the states. This removed general areas that were given, but only accounted for a small proportion of the data set. \n",
    "\n",
    "I then created several new columns for month, event type, state, and county / zone type that maps the values to numbers so that they can be used in the Random Forest analysis. \n",
    "\n",
    "I also created a category for the number of deaths which is 0 if there were 0 and 1 otherwise. I feel that an indication of if there were deaths if more important than how many deaths occur.\n",
    "\n",
    "There is a summary of general descriptive values in **Table 1.** below. The number of rows in the table is 1,573 and there are no nulls in any of the columns. The maximum deaths directly caused by a weather event is much higher than the mean number of deaths but is not reflected in the table because it has been categorised. There is a big spread of values over the different states and event types which hopefully the rest of the anlaysis will capture any hidden relationships."
   ]
  },
  {
   "cell_type": "markdown",
   "metadata": {},
   "source": [
    "<div style=\"border: 1px dotted #3F3F3F; float: left;\">\n",
    "    <div style=\"margin-left:50px;margin-top: 10px; margin-bottom: -10px;\"><b>Table 1.</b></div>\n",
    "    <img src=\"table_1_data_describe.png\"></img>\n",
    "</div>"
   ]
  },
  {
   "cell_type": "markdown",
   "metadata": {},
   "source": [
    "<b>Univariate analysis</b>"
   ]
  },
  {
   "cell_type": "markdown",
   "metadata": {},
   "source": [
    "For my univariate analysis for my categorical variables I looked at bar charts of the counts in each category when the number of deaths was not equal to 0 and when they were equal to 0, to see if there was a distinction between the two states. The important part of these graphs was not the count on the y-axis but the visual distrobution across the whole data subset, which is deaths and no death but injury.\n",
    "\n",
    "In **Figure 1.** I look at the month the event occured in, and we can clearly see that there are no big differences, which would indicate that there was no impact on the reponse variable from the predictor.\n",
    "\n",
    "In **Figure 2.** I look at the event type of the weather event, and it is clear that there is a very different distrobution of counts for when there are deaths and when there aren't. It is likely that this predictor will have an effect on the model.\n",
    "\n",
    "County / zone type, as well as state to a lesser degree, also shows strong indication that there is a difference between when there is deaths and when there isn't. Indicating that the variables will have an impact on the model. All the observations from the bar charts are supported by the frequency tables."
   ]
  },
  {
   "cell_type": "markdown",
   "metadata": {},
   "source": [
    "For the quantitative variables I looked at the frequency tables. For the number of incidents per each weather event predominantly takes the value one then seems pretty evenly distrobuted for all other values. For the indication of deaths from a  weather event it is an even distrobution between deaths occurring and not occurring."
   ]
  },
  {
   "cell_type": "markdown",
   "metadata": {},
   "source": [
    "<i>Bivariate analysis</i>"
   ]
  },
  {
   "cell_type": "markdown",
   "metadata": {},
   "source": [
    "I used an ANOVA test on each categorical variable to check for independence.\n",
    "\n",
    "For state there was a p-value less than 0.05 for five States: Nevada, Arizona, Oklahoma, Utah, Washington. Of these the THSD test indicated that the null hypothesis that the means of the categories is the same should only be rejected for Nevada, making the others false posistives in the ANOVA test.\n",
    "\n",
    "For month, only March has a p-value less than 0.05 from the ANOVA and the THSD indicated that this was a false positive, further indicating that month is not significantly associated with deaths from a weather event.\n",
    "\n",
    "For event type, three categories had a significant association with deaths, and they were all supported by the THSD test. They are debris flow, lightning, and thunderstorm wind.\n",
    "\n",
    "Finally, for county / zone type, the assoication is very significant p-value less than 0.000 and the THSD supports this."
   ]
  },
  {
   "cell_type": "markdown",
   "metadata": {},
   "source": [
    "For my bivariate analysis for my qualitative variables I looked at scatter plots of the values against the number of deaths. I also plot a linear line of best fit, as produced by the Pearsons analysis. These linear lines of fit just visually reporesent the Pearson coefficients detailed below.\n",
    "\n",
    "The deaths indicator has a slight negative association (-0.11) with the number of incidents per event and is a highly significant assoication at 0.0000123. It also has a significant association with the month number (p-value 0.008), with a coefficient also slightly negative coefficent -0.0669."
   ]
  },
  {
   "cell_type": "markdown",
   "metadata": {},
   "source": [
    "<i>Multivariate analysis</i>"
   ]
  },
  {
   "cell_type": "markdown",
   "metadata": {},
   "source": [
    "I used a Random Forest to analyse my variables. I included the state, event type, number of incidents per event, month number which I established had an assoication with my response variable deaths happened indicator.\n",
    "\n",
    "I split my data set into 30% test set, 70% training set as I wanted a good amount of data to test my model on. I used a specific random state to split the data by so that my results were reproduceable. The outputted test and training sets had the proportions training 59.73% , test 40.27%.\n",
    "\n",
    "I identified the number of estimators that had the most stability for the model, which was exceptionally high at 125. I was excepting a high number of estimators because of the high number of categories over all of my variables. The Random Forest model had an accuracy of 70%. The accuracy of the model for different estimator values is represnted graphically in **Figure 3.**. Over the different estimator numbers the model seems to stabalise somewhat, fluctuating between 69% and 72% accuracy. The mode accuracy value for the different estimator numbers tested, which was 1 to 200, turned out to be 70% which matches out particular model using 125 estimators.\n",
    "\n",
    "The importance of the variables passed to the model is 24% for the state, 38% for the event type, 23% for the number of assoicated incidents with the event, and 15% for the month the event occurred in. This indicates that all the included variables have a significant impact on the model. "
   ]
  },
  {
   "cell_type": "markdown",
   "metadata": {},
   "source": [
    "<h3>Figures</h3>"
   ]
  },
  {
   "cell_type": "markdown",
   "metadata": {},
   "source": [
    "<div style=\"border: 1px dotted #3F3F3F; float: left;\">\n",
    "    <div style=\"margin-left:50px;margin-top: 10px; margin-bottom: -10px;\"><b>Figure 1.</b></div>\n",
    "    <img src=\"figure_1_month_value_counts.png\"></img>\n",
    "</div>"
   ]
  },
  {
   "cell_type": "markdown",
   "metadata": {},
   "source": [
    "<div style=\"border: 1px dotted #3F3F3F; float: left;\">\n",
    "    <div style=\"margin-left:50px;margin-top: 10px; margin-bottom: -10px;\"><b>Figure 2.</b></div>\n",
    "    <img src=\"figure_2_event_type_value_counts.png\"></img>\n",
    "</div>"
   ]
  },
  {
   "cell_type": "markdown",
   "metadata": {},
   "source": [
    "<div style=\"border: 1px dotted #3F3F3F; float: left;\">\n",
    "    <div style=\"margin-left:50px;margin-top: 10px; margin-bottom: -10px;\"><b>Figure 3.</b></div>\n",
    "    <img src=\"figure_3_model_accuracy.png\"></img>\n",
    "</div>"
   ]
  }
 ],
 "metadata": {
  "anaconda-cloud": {},
  "kernelspec": {
   "display_name": "Python [Root]",
   "language": "python",
   "name": "Python [Root]"
  },
  "language_info": {
   "codemirror_mode": {
    "name": "ipython",
    "version": 3
   },
   "file_extension": ".py",
   "mimetype": "text/x-python",
   "name": "python",
   "nbconvert_exporter": "python",
   "pygments_lexer": "ipython3",
   "version": "3.5.2"
  }
 },
 "nbformat": 4,
 "nbformat_minor": 0
}
