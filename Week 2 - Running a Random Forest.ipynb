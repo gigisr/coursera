{
 "cells": [
  {
   "cell_type": "markdown",
   "metadata": {},
   "source": [
    "<h1>Machine Learning for Data Analysis</h1>\n",
    "<i><h2>Week 2 - Running a Random Forest</h2></i>"
   ]
  },
  {
   "cell_type": "markdown",
   "metadata": {},
   "source": [
    "The data set I am using is the Gapminder data set. A series of observational variables that have independent sources that have been centralised into one set."
   ]
  },
  {
   "cell_type": "markdown",
   "metadata": {},
   "source": [
    "I am investigating the association between incomeperperson and armedforcesrate. The association, or hypothesis, I am expecting is for higher incomeperperson there will be a lower armedforcesrate. So my coefficient to my explanetory variable should be less than 0. I will also be looking at the type of government, the polityscore variable, and seeing if that has a confounding effect."
   ]
  },
  {
   "cell_type": "markdown",
   "metadata": {},
   "source": [
    "For the Random Trees Classifier I have kept the same variables and have categorised them to make them compatible with the process."
   ]
  },
  {
   "cell_type": "markdown",
   "metadata": {},
   "source": [
    "<h3>SET UP</h3>"
   ]
  },
  {
   "cell_type": "markdown",
   "metadata": {},
   "source": [
    "<i>Import appropraite packages and set appropriate options</i>"
   ]
  },
  {
   "cell_type": "code",
   "execution_count": 1,
   "metadata": {
    "collapsed": false
   },
   "outputs": [],
   "source": [
    "import pandas as pd\n",
    "import numpy as np\n",
    "from sklearn.cross_validation import train_test_split\n",
    "from sklearn.tree import DecisionTreeClassifier\n",
    "from sklearn.metrics import classification_report\n",
    "import sklearn.metrics\n",
    "from sklearn import tree\n",
    "from sklearn import datasets\n",
    "from sklearn.ensemble import ExtraTreesClassifier\n",
    "from sklearn.ensemble import RandomForestClassifier\n",
    "import matplotlib.pyplot as plt\n",
    "import matplotlib.patches as mpatches\n",
    "import seaborn\n",
    "%matplotlib inline"
   ]
  },
  {
   "cell_type": "code",
   "execution_count": 2,
   "metadata": {
    "collapsed": true
   },
   "outputs": [],
   "source": [
    "pd.set_option('display.float_format', '{:,.2f}'.format)"
   ]
  },
  {
   "cell_type": "markdown",
   "metadata": {},
   "source": [
    "<i>Read in the data set</i>"
   ]
  },
  {
   "cell_type": "code",
   "execution_count": 3,
   "metadata": {
    "collapsed": false
   },
   "outputs": [],
   "source": [
    "usecols = ['incomeperperson', 'armedforcesrate', 'polityscore', 'country', 'lifeexpectancy', 'alcconsumption']\n",
    "gap_data = pd.read_csv('gapminder.csv', usecols = usecols, index_col='country')"
   ]
  },
  {
   "cell_type": "markdown",
   "metadata": {},
   "source": [
    "<i>Replace spaces with blanks and coerce into numeric, replacing the spaces with an empty string is needed for converting to numeric</i>"
   ]
  },
  {
   "cell_type": "code",
   "execution_count": 4,
   "metadata": {
    "collapsed": true
   },
   "outputs": [],
   "source": [
    "gap_data.loc[:,'incomeperperson'] = pd.to_numeric(gap_data['incomeperperson'].replace(' ',''))\n",
    "gap_data.loc[:,'armedforcesrate'] = pd.to_numeric(gap_data['armedforcesrate'].replace(' ',''))\n",
    "gap_data.loc[:,'polityscore'] = pd.to_numeric(gap_data['polityscore'].replace(' ',''))\n",
    "gap_data.loc[:,'lifeexpectancy'] = pd.to_numeric(gap_data['lifeexpectancy'].replace(' ',''))\n",
    "gap_data.loc[:,'alcconsumption'] = pd.to_numeric(gap_data['alcconsumption'].replace(' ',''))"
   ]
  },
  {
   "cell_type": "markdown",
   "metadata": {},
   "source": [
    "<i>Remove any rows where there are nulls</i>"
   ]
  },
  {
   "cell_type": "code",
   "execution_count": 5,
   "metadata": {
    "collapsed": true
   },
   "outputs": [],
   "source": [
    "gap_data.dropna(inplace = True)"
   ]
  },
  {
   "cell_type": "markdown",
   "metadata": {},
   "source": [
    "<i>Categorise the response variable so that the decision tree is an analyseable size</i>"
   ]
  },
  {
   "cell_type": "markdown",
   "metadata": {},
   "source": [
    "<b><i>armedforcesrate</i></b>"
   ]
  },
  {
   "cell_type": "code",
   "execution_count": 6,
   "metadata": {
    "collapsed": true
   },
   "outputs": [],
   "source": [
    "gap_data['armedforcesrate_cat'] = gap_data.loc[:,'armedforcesrate'].copy()"
   ]
  },
  {
   "cell_type": "code",
   "execution_count": 7,
   "metadata": {
    "collapsed": false
   },
   "outputs": [],
   "source": [
    "gap_data.loc[(gap_data['armedforcesrate_cat'] < 1) & (gap_data['armedforcesrate_cat'] >= 0), 'armedforcesrate_cat'] = 0\n",
    "gap_data.loc[(gap_data['armedforcesrate_cat'] >= 1), 'armedforcesrate_cat'] = 1"
   ]
  },
  {
   "cell_type": "code",
   "execution_count": 8,
   "metadata": {
    "collapsed": false
   },
   "outputs": [],
   "source": [
    "gap_data.loc[:,'armedforcesrate_cat'] = gap_data.loc[:,'armedforcesrate_cat'].astype(int).astype(str)"
   ]
  },
  {
   "cell_type": "markdown",
   "metadata": {},
   "source": [
    "<i>Categorise the explanetory variables to keep the decision tree interpretable</i>"
   ]
  },
  {
   "cell_type": "markdown",
   "metadata": {},
   "source": [
    "<b><i>incomeperperson</i></b>"
   ]
  },
  {
   "cell_type": "code",
   "execution_count": 9,
   "metadata": {
    "collapsed": true
   },
   "outputs": [],
   "source": [
    "gap_data['incomeperperson_cat'] = gap_data.loc[:,'incomeperperson'].copy()"
   ]
  },
  {
   "cell_type": "code",
   "execution_count": 10,
   "metadata": {
    "collapsed": true
   },
   "outputs": [],
   "source": [
    "gap_data.loc[(gap_data['incomeperperson_cat'] < 5000) & (gap_data['incomeperperson_cat'] >= 0), 'incomeperperson_cat'] = 1\n",
    "gap_data.loc[(gap_data['incomeperperson_cat'] >= 5000), 'incomeperperson_cat'] = 2"
   ]
  },
  {
   "cell_type": "code",
   "execution_count": 11,
   "metadata": {
    "collapsed": true
   },
   "outputs": [],
   "source": [
    "gap_data.loc[:,'incomeperperson_cat'] = gap_data.loc[:,'incomeperperson_cat'].astype(int)"
   ]
  },
  {
   "cell_type": "markdown",
   "metadata": {},
   "source": [
    "<b><i>polityscore</i></b>"
   ]
  },
  {
   "cell_type": "code",
   "execution_count": 12,
   "metadata": {
    "collapsed": true
   },
   "outputs": [],
   "source": [
    "gap_data['polityscore_cat'] = gap_data.loc[:,'polityscore'].copy()"
   ]
  },
  {
   "cell_type": "code",
   "execution_count": 13,
   "metadata": {
    "collapsed": true
   },
   "outputs": [],
   "source": [
    "gap_data.loc[(gap_data['polityscore_cat'] >= 0), 'polityscore_cat'] = 1\n",
    "gap_data.loc[(gap_data['polityscore_cat'] < 0), 'polityscore_cat'] = 2"
   ]
  },
  {
   "cell_type": "code",
   "execution_count": 14,
   "metadata": {
    "collapsed": true
   },
   "outputs": [],
   "source": [
    "gap_data.loc[:,'polityscore_cat'] = gap_data.loc[:,'polityscore_cat'].astype(int)"
   ]
  },
  {
   "cell_type": "markdown",
   "metadata": {},
   "source": [
    "<i>Look at some information about the data set</i>"
   ]
  },
  {
   "cell_type": "code",
   "execution_count": 15,
   "metadata": {
    "collapsed": false
   },
   "outputs": [
    {
     "data": {
      "text/plain": [
       "incomeperperson        float64\n",
       "alcconsumption         float64\n",
       "armedforcesrate        float64\n",
       "lifeexpectancy         float64\n",
       "polityscore            float64\n",
       "armedforcesrate_cat     object\n",
       "incomeperperson_cat      int32\n",
       "polityscore_cat          int32\n",
       "dtype: object"
      ]
     },
     "execution_count": 15,
     "metadata": {},
     "output_type": "execute_result"
    }
   ],
   "source": [
    "gap_data.dtypes"
   ]
  },
  {
   "cell_type": "code",
   "execution_count": 16,
   "metadata": {
    "collapsed": false
   },
   "outputs": [
    {
     "data": {
      "text/html": [
       "<div>\n",
       "<table border=\"1\" class=\"dataframe\">\n",
       "  <thead>\n",
       "    <tr style=\"text-align: right;\">\n",
       "      <th></th>\n",
       "      <th>incomeperperson</th>\n",
       "      <th>alcconsumption</th>\n",
       "      <th>armedforcesrate</th>\n",
       "      <th>lifeexpectancy</th>\n",
       "      <th>polityscore</th>\n",
       "      <th>incomeperperson_cat</th>\n",
       "      <th>polityscore_cat</th>\n",
       "    </tr>\n",
       "  </thead>\n",
       "  <tbody>\n",
       "    <tr>\n",
       "      <th>count</th>\n",
       "      <td>149.00</td>\n",
       "      <td>149.00</td>\n",
       "      <td>149.00</td>\n",
       "      <td>149.00</td>\n",
       "      <td>149.00</td>\n",
       "      <td>149.00</td>\n",
       "      <td>149.00</td>\n",
       "    </tr>\n",
       "    <tr>\n",
       "      <th>mean</th>\n",
       "      <td>6,816.62</td>\n",
       "      <td>6.91</td>\n",
       "      <td>1.38</td>\n",
       "      <td>68.92</td>\n",
       "      <td>3.88</td>\n",
       "      <td>1.36</td>\n",
       "      <td>1.28</td>\n",
       "    </tr>\n",
       "    <tr>\n",
       "      <th>std</th>\n",
       "      <td>9,891.11</td>\n",
       "      <td>5.10</td>\n",
       "      <td>1.54</td>\n",
       "      <td>9.99</td>\n",
       "      <td>6.20</td>\n",
       "      <td>0.48</td>\n",
       "      <td>0.45</td>\n",
       "    </tr>\n",
       "    <tr>\n",
       "      <th>min</th>\n",
       "      <td>103.78</td>\n",
       "      <td>0.05</td>\n",
       "      <td>0.00</td>\n",
       "      <td>47.79</td>\n",
       "      <td>-10.00</td>\n",
       "      <td>1.00</td>\n",
       "      <td>1.00</td>\n",
       "    </tr>\n",
       "    <tr>\n",
       "      <th>25%</th>\n",
       "      <td>561.71</td>\n",
       "      <td>2.69</td>\n",
       "      <td>0.45</td>\n",
       "      <td>62.09</td>\n",
       "      <td>-2.00</td>\n",
       "      <td>1.00</td>\n",
       "      <td>1.00</td>\n",
       "    </tr>\n",
       "    <tr>\n",
       "      <th>50%</th>\n",
       "      <td>2,231.99</td>\n",
       "      <td>6.12</td>\n",
       "      <td>0.93</td>\n",
       "      <td>72.64</td>\n",
       "      <td>7.00</td>\n",
       "      <td>1.00</td>\n",
       "      <td>1.00</td>\n",
       "    </tr>\n",
       "    <tr>\n",
       "      <th>75%</th>\n",
       "      <td>7,381.31</td>\n",
       "      <td>10.08</td>\n",
       "      <td>1.58</td>\n",
       "      <td>76.13</td>\n",
       "      <td>9.00</td>\n",
       "      <td>2.00</td>\n",
       "      <td>2.00</td>\n",
       "    </tr>\n",
       "    <tr>\n",
       "      <th>max</th>\n",
       "      <td>39,972.35</td>\n",
       "      <td>23.01</td>\n",
       "      <td>9.82</td>\n",
       "      <td>83.39</td>\n",
       "      <td>10.00</td>\n",
       "      <td>2.00</td>\n",
       "      <td>2.00</td>\n",
       "    </tr>\n",
       "  </tbody>\n",
       "</table>\n",
       "</div>"
      ],
      "text/plain": [
       "       incomeperperson  alcconsumption  armedforcesrate  lifeexpectancy  \\\n",
       "count           149.00          149.00           149.00          149.00   \n",
       "mean          6,816.62            6.91             1.38           68.92   \n",
       "std           9,891.11            5.10             1.54            9.99   \n",
       "min             103.78            0.05             0.00           47.79   \n",
       "25%             561.71            2.69             0.45           62.09   \n",
       "50%           2,231.99            6.12             0.93           72.64   \n",
       "75%           7,381.31           10.08             1.58           76.13   \n",
       "max          39,972.35           23.01             9.82           83.39   \n",
       "\n",
       "       polityscore  incomeperperson_cat  polityscore_cat  \n",
       "count       149.00               149.00           149.00  \n",
       "mean          3.88                 1.36             1.28  \n",
       "std           6.20                 0.48             0.45  \n",
       "min         -10.00                 1.00             1.00  \n",
       "25%          -2.00                 1.00             1.00  \n",
       "50%           7.00                 1.00             1.00  \n",
       "75%           9.00                 2.00             2.00  \n",
       "max          10.00                 2.00             2.00  "
      ]
     },
     "execution_count": 16,
     "metadata": {},
     "output_type": "execute_result"
    }
   ],
   "source": [
    "gap_data.describe()"
   ]
  },
  {
   "cell_type": "markdown",
   "metadata": {},
   "source": [
    "<h3>Assignment - Calculations</h3>"
   ]
  },
  {
   "cell_type": "markdown",
   "metadata": {},
   "source": [
    "<i>Split the sample into two sub sets, the training and test sets</i>"
   ]
  },
  {
   "cell_type": "code",
   "execution_count": 17,
   "metadata": {
    "collapsed": true
   },
   "outputs": [],
   "source": [
    "predictors = gap_data[['incomeperperson_cat','polityscore_cat']]\n",
    "targets = gap_data['armedforcesrate_cat']"
   ]
  },
  {
   "cell_type": "code",
   "execution_count": 18,
   "metadata": {
    "collapsed": false
   },
   "outputs": [],
   "source": [
    "pred_train, pred_test, tar_train, tar_test = train_test_split(predictors, targets, test_size = 0.4)"
   ]
  },
  {
   "cell_type": "markdown",
   "metadata": {},
   "source": [
    "<i>This splits the data set into roughly 60% training set, and roughly 40% test set</i>"
   ]
  },
  {
   "cell_type": "code",
   "execution_count": 19,
   "metadata": {
    "collapsed": false
   },
   "outputs": [
    {
     "name": "stdout",
     "output_type": "stream",
     "text": [
      "Predictors : training (89, 2) \n",
      "Predictors : testing  (60, 2) \n",
      "Target     : training (89,) \n",
      "Target     : testing  (60,)\n"
     ]
    }
   ],
   "source": [
    "print('Predictors : training',pred_train.shape, \\\n",
    "      '\\nPredictors : testing ',pred_test.shape, \\\n",
    "      '\\nTarget     : training',tar_train.shape, \\\n",
    "      '\\nTarget     : testing ',tar_test.shape)"
   ]
  },
  {
   "cell_type": "code",
   "execution_count": 20,
   "metadata": {
    "collapsed": false
   },
   "outputs": [
    {
     "name": "stdout",
     "output_type": "stream",
     "text": [
      "training :  59.73 % \n",
      "test     :  40.27 %\n"
     ]
    }
   ],
   "source": [
    "print(\"training : \",round((89 / 149) * 100,2), \"%\", \"\\ntest     : \",round((60 / 149) * 100,2), \"%\")"
   ]
  },
  {
   "cell_type": "markdown",
   "metadata": {},
   "source": [
    "<i>We are using Random Forest so the validation set will be dealt with by the algorithm</i>"
   ]
  },
  {
   "cell_type": "code",
   "execution_count": 21,
   "metadata": {
    "collapsed": false
   },
   "outputs": [],
   "source": [
    "classifier = RandomForestClassifier(n_estimators = 25)"
   ]
  },
  {
   "cell_type": "code",
   "execution_count": 22,
   "metadata": {
    "collapsed": false
   },
   "outputs": [],
   "source": [
    "classifier = classifier.fit(pred_train, tar_train)"
   ]
  },
  {
   "cell_type": "code",
   "execution_count": 23,
   "metadata": {
    "collapsed": true
   },
   "outputs": [],
   "source": [
    "predictions = classifier.predict(pred_test)"
   ]
  },
  {
   "cell_type": "markdown",
   "metadata": {},
   "source": [
    "<i>Check the model accuracy against the actual observations</i>"
   ]
  },
  {
   "cell_type": "code",
   "execution_count": 24,
   "metadata": {
    "collapsed": false
   },
   "outputs": [
    {
     "data": {
      "text/plain": [
       "array([[33,  0],\n",
       "       [25,  2]])"
      ]
     },
     "execution_count": 24,
     "metadata": {},
     "output_type": "execute_result"
    }
   ],
   "source": [
    "sklearn.metrics.confusion_matrix(tar_test, predictions)"
   ]
  },
  {
   "cell_type": "code",
   "execution_count": 25,
   "metadata": {
    "collapsed": false
   },
   "outputs": [
    {
     "data": {
      "text/plain": [
       "0.58333333333333337"
      ]
     },
     "execution_count": 25,
     "metadata": {},
     "output_type": "execute_result"
    }
   ],
   "source": [
    "sklearn.metrics.accuracy_score(tar_test, predictions)"
   ]
  },
  {
   "cell_type": "markdown",
   "metadata": {},
   "source": [
    "<i>Fit an Extra Trees model to the data</i>"
   ]
  },
  {
   "cell_type": "code",
   "execution_count": 26,
   "metadata": {
    "collapsed": true
   },
   "outputs": [],
   "source": [
    "model = ExtraTreesClassifier().fit(pred_train, tar_train)"
   ]
  },
  {
   "cell_type": "code",
   "execution_count": 27,
   "metadata": {
    "collapsed": false
   },
   "outputs": [
    {
     "name": "stdout",
     "output_type": "stream",
     "text": [
      "The importance of incomeperperson is :   15.318 % \n",
      "The importance of polityscore is     :  84.682 %\n"
     ]
    }
   ],
   "source": [
    "model_importances = model.feature_importances_\n",
    "print(\"The importance of incomeperperson is : \" + \" \", \\\n",
    "      round(model_importances[0] * 100, 3), \"%\", \\\n",
    "      \"\\nThe importance of polityscore is \" + \" \" * 4 + \": \", \\\n",
    "      round(model_importances[1] * 100, 3), \"%\")"
   ]
  },
  {
   "cell_type": "markdown",
   "metadata": {},
   "source": [
    "<i>Checking the impact on accuracy that growing more trees has</i>"
   ]
  },
  {
   "cell_type": "code",
   "execution_count": 28,
   "metadata": {
    "collapsed": false
   },
   "outputs": [
    {
     "data": {
      "text/plain": [
       "1    0.47\n",
       "2    0.58\n",
       "3    0.58\n",
       "4    0.55\n",
       "5    0.58\n",
       "6    0.58\n",
       "7    0.58\n",
       "8    0.58\n",
       "9    0.58\n",
       "10   0.58\n",
       "11   0.58\n",
       "12   0.58\n",
       "13   0.58\n",
       "14   0.58\n",
       "15   0.58\n",
       "16   0.58\n",
       "17   0.58\n",
       "18   0.58\n",
       "19   0.58\n",
       "20   0.58\n",
       "21   0.58\n",
       "22   0.58\n",
       "23   0.58\n",
       "24   0.58\n",
       "Name: idx - accuracy_score, dtype: float64"
      ]
     },
     "execution_count": 28,
     "metadata": {},
     "output_type": "execute_result"
    }
   ],
   "source": [
    "accuracy = pd.Series(index = range(1,25), name = 'idx - accuracy_score')\n",
    "for idx in range(1, 25):\n",
    "    classifier = RandomForestClassifier(n_estimators = idx)\n",
    "    classifier = classifier.fit(pred_train, tar_train)\n",
    "    predictions = classifier.predict(pred_test)\n",
    "    accuracy[idx] = sklearn.metrics.accuracy_score(tar_test, predictions)\n",
    "accuracy"
   ]
  },
  {
   "cell_type": "code",
   "execution_count": 29,
   "metadata": {
    "collapsed": false
   },
   "outputs": [
    {
     "data": {
      "text/plain": [
       "[<matplotlib.lines.Line2D at 0x184db127978>]"
      ]
     },
     "execution_count": 29,
     "metadata": {},
     "output_type": "execute_result"
    },
    {
     "data": {
      "image/png": "[encoded data removed]",
      "text/plain": [
       "<matplotlib.figure.Figure at 0x184db07c358>"
      ]
     },
     "metadata": {},
     "output_type": "display_data"
    }
   ],
   "source": [
    "plt.cla()\n",
    "plt.plot(range(1, 25), accuracy)"
   ]
  },
  {
   "cell_type": "markdown",
   "metadata": {},
   "source": [
    "<h3>Assignment - Written Analysis</h3>"
   ]
  },
  {
   "cell_type": "markdown",
   "metadata": {},
   "source": [
    "I performed random forest analysis to evaluate the importance of the incomeperperson and polityscore variables in perdicting the armedforcesrate variable. I transformed them into categorical variables so that they were compatible with the RandomForestClassifier method I was using."
   ]
  },
  {
   "cell_type": "markdown",
   "metadata": {},
   "source": [
    "The relative importance of the variables is very much skewed towards polityscore at 85% with incomeperperson at 15%, making the impact of polityscore vastly more important. The accuracy of the model is about 58%, we can see this from the accuracy score in the out[24] section above. When we look at the accuracy score as we change the number of trees we also see that the accuracy very quickly trands to 58% then remains there."
   ]
  },
  {
   "cell_type": "markdown",
   "metadata": {},
   "source": [
    "From a computing perspective we could potentially run the model with many ferwer trees, around 5 or 10. This would mean that we could save time and computing power to make the model more complex while potentially retaining accuracy. As the accuracy score does change by around 12% in the first 5 trees I think that using the Random Forest Classifier method is more appropriate in this case."
   ]
  }
 ],
 "metadata": {
  "anaconda-cloud": {},
  "kernelspec": {
   "display_name": "Python [Root]",
   "language": "python",
   "name": "Python [Root]"
  },
  "language_info": {
   "codemirror_mode": {
    "name": "ipython",
    "version": 3
   },
   "file_extension": ".py",
   "mimetype": "text/x-python",
   "name": "python",
   "nbconvert_exporter": "python",
   "pygments_lexer": "ipython3",
   "version": "3.5.2"
  }
 },
 "nbformat": 4,
 "nbformat_minor": 0
}
